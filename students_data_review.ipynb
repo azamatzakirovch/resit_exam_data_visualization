{
 "cells": [
  {
   "cell_type": "code",
   "id": "initial_id",
   "metadata": {
    "collapsed": true,
    "ExecuteTime": {
     "end_time": "2025-08-10T14:04:36.637210Z",
     "start_time": "2025-08-10T14:04:35.926380Z"
    }
   },
   "source": [
    "import pandas as pd\n",
    "import ast"
   ],
   "outputs": [],
   "execution_count": 1
  },
  {
   "metadata": {
    "ExecuteTime": {
     "end_time": "2025-08-10T14:04:37.168906Z",
     "start_time": "2025-08-10T14:04:37.160055Z"
    }
   },
   "cell_type": "code",
   "source": "df = pd.read_csv('new_students_data.csv')",
   "id": "3b430ca1a87ca1ed",
   "outputs": [],
   "execution_count": 2
  },
  {
   "metadata": {
    "ExecuteTime": {
     "end_time": "2025-08-10T14:04:37.511582Z",
     "start_time": "2025-08-10T14:04:37.502676Z"
    }
   },
   "cell_type": "code",
   "source": "df",
   "id": "40f6f997efc3b0cf",
   "outputs": [
    {
     "data": {
      "text/plain": [
       "         ID                               FULLNAME  STUDY_YEAR  \\\n",
       "0    210006   Urazimbetova Miyrigul Xojaaxmet qizi           4   \n",
       "1    210009    Goyibnazarov Ruzmatboy Oybek o‘g‘li           4   \n",
       "2    210015           Mirzabayev Damir Baxodir uli           3   \n",
       "3    210017        Shinpolatov Nurdaulet Marat uli           4   \n",
       "4    210018  Xolmurodov Bunyodbek Ruslanbek o‘g‘li           4   \n",
       "..      ...                                    ...         ...   \n",
       "467  240498      Ibroximov Ibrohimjon Murod o'g'li           1   \n",
       "468  240502        Adilov Abdumajid Abduqayumovich           1   \n",
       "469  240506       Yoqubov Shohjaxon Shavkat o‘g‘li           1   \n",
       "470  240510           Raximov Azizbek Bektashovich           1   \n",
       "471  240511     Muxiddinova Shaxzodabonu Zafarovna           1   \n",
       "\n",
       "                       EMAIL    STATUS  \\\n",
       "0           2110006@newuu.uz  Enrolled   \n",
       "1           2110009@newuu.uz  Enrolled   \n",
       "2           2110015@newuu.uz  Enrolled   \n",
       "3           2110017@newuu.uz  Enrolled   \n",
       "4           2110018@newuu.uz  Enrolled   \n",
       "..                       ...       ...   \n",
       "467     i.ibrohimov@newuu.uz  Enrolled   \n",
       "468        a.adilov@newuu.uz  Enrolled   \n",
       "469      sh.yoqubov@newuu.uz  Enrolled   \n",
       "470       a.raximov@newuu.uz  Enrolled   \n",
       "471  sh.muxiddinova@newuu.uz  Enrolled   \n",
       "\n",
       "                                              SCHOOL  \\\n",
       "0                              SCHOOL OF ENGINEERING   \n",
       "1                              SCHOOL OF ENGINEERING   \n",
       "2                                SCHOOL OF COMPUTING   \n",
       "3                                SCHOOL OF COMPUTING   \n",
       "4                                SCHOOL OF COMPUTING   \n",
       "..                                               ...   \n",
       "467  SCHOOL OF HUMANITIES, NATURAL & SOCIAL SCIENCES   \n",
       "468  SCHOOL OF HUMANITIES, NATURAL & SOCIAL SCIENCES   \n",
       "469  SCHOOL OF HUMANITIES, NATURAL & SOCIAL SCIENCES   \n",
       "470                              SCHOOL OF COMPUTING   \n",
       "471                             SCHOOL OF MANAGEMENT   \n",
       "\n",
       "                      EDUCATION_PROGRAM  \\\n",
       "0    Chemical and Materials Engineering   \n",
       "1                Mechanical Engineering   \n",
       "2                  Software Engineering   \n",
       "3                  Software Engineering   \n",
       "4                  Software Engineering   \n",
       "..                                  ...   \n",
       "467                 Applied Mathematics   \n",
       "468          Economics and Data Science   \n",
       "469                            Pedagogy   \n",
       "470                Software Engineering   \n",
       "471               Industrial Management   \n",
       "\n",
       "                                                MONDAY  \\\n",
       "0    {'M1': ['MATH 205', ['Calculus 2 - Fall 2024']...   \n",
       "1    {'M1': ['MATH 105', ['MATH211 Calculus 2 - Spr...   \n",
       "2    {'M1': '0', 'M2': ['MATH 205', ['SEC111 Comput...   \n",
       "3         {'M1': '0', 'M2': '0', 'M3': '0', 'M4': '0'}   \n",
       "4    {'M1': '0', 'M2': ['MATH 205', ['SEC111 Comput...   \n",
       "..                                                 ...   \n",
       "467       {'M1': '0', 'M2': '0', 'M3': '0', 'M4': '0'}   \n",
       "468  {'M1': ['MATH 107', ['MATH211 Calculus 2 - Spr...   \n",
       "469       {'M1': '0', 'M2': '0', 'M3': '0', 'M4': '0'}   \n",
       "470  {'M1': '0', 'M2': ['MATH 106', ['MATH111 Calcu...   \n",
       "471  {'M1': '0', 'M2': ['MATH 106', ['MATH111 Calcu...   \n",
       "\n",
       "                                               TUESDAY  \\\n",
       "0         {'T1': '0', 'T2': '0', 'T3': '0', 'T4': '0'}   \n",
       "1         {'T1': '0', 'T2': '0', 'T3': '0', 'T4': '0'}   \n",
       "2    {'T1': '0', 'T2': ['MATH 105', ['Numerical Met...   \n",
       "3         {'T1': '0', 'T2': '0', 'T3': '0', 'T4': '0'}   \n",
       "4         {'T1': '0', 'T2': '0', 'T3': '0', 'T4': '0'}   \n",
       "..                                                 ...   \n",
       "467       {'T1': '0', 'T2': '0', 'T3': '0', 'T4': '0'}   \n",
       "468       {'T1': '0', 'T2': '0', 'T3': '0', 'T4': '0'}   \n",
       "469       {'T1': '0', 'T2': '0', 'T3': '0', 'T4': '0'}   \n",
       "470       {'T1': '0', 'T2': '0', 'T3': '0', 'T4': '0'}   \n",
       "471       {'T1': '0', 'T2': '0', 'T3': '0', 'T4': '0'}   \n",
       "\n",
       "                                             WEDNESDAY  \\\n",
       "0         {'W1': '0', 'W2': '0', 'W3': '0', 'W4': '0'}   \n",
       "1    {'W1': '0', 'W2': ['MATH B01', ['Computational...   \n",
       "2    {'W1': '0', 'W2': ['MATH 105', ['Microeconomic...   \n",
       "3         {'W1': '0', 'W2': '0', 'W3': '0', 'W4': '0'}   \n",
       "4         {'W1': '0', 'W2': '0', 'W3': '0', 'W4': '0'}   \n",
       "..                                                 ...   \n",
       "467  {'W1': ['MATH 105', ['Nanotechnology and Advan...   \n",
       "468       {'W1': '0', 'W2': '0', 'W3': '0', 'W4': '0'}   \n",
       "469  {'W1': ['MATH 106', ['PHYS101 Physics 1 -  Spr...   \n",
       "470  {'W1': ['MATH 106', ['PHYS101 Physics 1 -  Spr...   \n",
       "471       {'W1': '0', 'W2': '0', 'W3': '0', 'W4': '0'}   \n",
       "\n",
       "                                              THURSDAY  \\\n",
       "0     {'TH1': '0', 'TH2': '0', 'TH3': '0', 'TH4': '0'}   \n",
       "1     {'TH1': '0', 'TH2': '0', 'TH3': '0', 'TH4': '0'}   \n",
       "2     {'TH1': '0', 'TH2': '0', 'TH3': '0', 'TH4': '0'}   \n",
       "3    {'TH1': '0', 'TH2': ['MATH 105', ['Artifical I...   \n",
       "4    {'TH1': '0', 'TH2': ['MATH 105', ['Artifical I...   \n",
       "..                                                 ...   \n",
       "467   {'TH1': '0', 'TH2': '0', 'TH3': '0', 'TH4': '0'}   \n",
       "468   {'TH1': '0', 'TH2': '0', 'TH3': '0', 'TH4': '0'}   \n",
       "469   {'TH1': '0', 'TH2': '0', 'TH3': '0', 'TH4': '0'}   \n",
       "470   {'TH1': '0', 'TH2': '0', 'TH3': '0', 'TH4': '0'}   \n",
       "471   {'TH1': '0', 'TH2': '0', 'TH3': '0', 'TH4': '0'}   \n",
       "\n",
       "                                                FRIDAY  GENDER  \n",
       "0         {'F1': '0', 'F2': '0', 'F3': '0', 'F4': '0'}  FEMALE  \n",
       "1         {'F1': '0', 'F2': '0', 'F3': '0', 'F4': '0'}    MALE  \n",
       "2         {'F1': '0', 'F2': '0', 'F3': '0', 'F4': '0'}    MALE  \n",
       "3         {'F1': '0', 'F2': '0', 'F3': '0', 'F4': '0'}    MALE  \n",
       "4    {'F1': '0', 'F2': ['MATH 105', ['Fluid Mechani...    MALE  \n",
       "..                                                 ...     ...  \n",
       "467       {'F1': '0', 'F2': '0', 'F3': '0', 'F4': '0'}    MALE  \n",
       "468       {'F1': '0', 'F2': '0', 'F3': '0', 'F4': '0'}    MALE  \n",
       "469       {'F1': '0', 'F2': '0', 'F3': '0', 'F4': '0'}    MALE  \n",
       "470       {'F1': '0', 'F2': '0', 'F3': '0', 'F4': '0'}    MALE  \n",
       "471       {'F1': '0', 'F2': '0', 'F3': '0', 'F4': '0'}  FEMALE  \n",
       "\n",
       "[472 rows x 13 columns]"
      ],
      "text/html": [
       "<div>\n",
       "<style scoped>\n",
       "    .dataframe tbody tr th:only-of-type {\n",
       "        vertical-align: middle;\n",
       "    }\n",
       "\n",
       "    .dataframe tbody tr th {\n",
       "        vertical-align: top;\n",
       "    }\n",
       "\n",
       "    .dataframe thead th {\n",
       "        text-align: right;\n",
       "    }\n",
       "</style>\n",
       "<table border=\"1\" class=\"dataframe\">\n",
       "  <thead>\n",
       "    <tr style=\"text-align: right;\">\n",
       "      <th></th>\n",
       "      <th>ID</th>\n",
       "      <th>FULLNAME</th>\n",
       "      <th>STUDY_YEAR</th>\n",
       "      <th>EMAIL</th>\n",
       "      <th>STATUS</th>\n",
       "      <th>SCHOOL</th>\n",
       "      <th>EDUCATION_PROGRAM</th>\n",
       "      <th>MONDAY</th>\n",
       "      <th>TUESDAY</th>\n",
       "      <th>WEDNESDAY</th>\n",
       "      <th>THURSDAY</th>\n",
       "      <th>FRIDAY</th>\n",
       "      <th>GENDER</th>\n",
       "    </tr>\n",
       "  </thead>\n",
       "  <tbody>\n",
       "    <tr>\n",
       "      <th>0</th>\n",
       "      <td>210006</td>\n",
       "      <td>Urazimbetova Miyrigul Xojaaxmet qizi</td>\n",
       "      <td>4</td>\n",
       "      <td>2110006@newuu.uz</td>\n",
       "      <td>Enrolled</td>\n",
       "      <td>SCHOOL OF ENGINEERING</td>\n",
       "      <td>Chemical and Materials Engineering</td>\n",
       "      <td>{'M1': ['MATH 205', ['Calculus 2 - Fall 2024']...</td>\n",
       "      <td>{'T1': '0', 'T2': '0', 'T3': '0', 'T4': '0'}</td>\n",
       "      <td>{'W1': '0', 'W2': '0', 'W3': '0', 'W4': '0'}</td>\n",
       "      <td>{'TH1': '0', 'TH2': '0', 'TH3': '0', 'TH4': '0'}</td>\n",
       "      <td>{'F1': '0', 'F2': '0', 'F3': '0', 'F4': '0'}</td>\n",
       "      <td>FEMALE</td>\n",
       "    </tr>\n",
       "    <tr>\n",
       "      <th>1</th>\n",
       "      <td>210009</td>\n",
       "      <td>Goyibnazarov Ruzmatboy Oybek o‘g‘li</td>\n",
       "      <td>4</td>\n",
       "      <td>2110009@newuu.uz</td>\n",
       "      <td>Enrolled</td>\n",
       "      <td>SCHOOL OF ENGINEERING</td>\n",
       "      <td>Mechanical Engineering</td>\n",
       "      <td>{'M1': ['MATH 105', ['MATH211 Calculus 2 - Spr...</td>\n",
       "      <td>{'T1': '0', 'T2': '0', 'T3': '0', 'T4': '0'}</td>\n",
       "      <td>{'W1': '0', 'W2': ['MATH B01', ['Computational...</td>\n",
       "      <td>{'TH1': '0', 'TH2': '0', 'TH3': '0', 'TH4': '0'}</td>\n",
       "      <td>{'F1': '0', 'F2': '0', 'F3': '0', 'F4': '0'}</td>\n",
       "      <td>MALE</td>\n",
       "    </tr>\n",
       "    <tr>\n",
       "      <th>2</th>\n",
       "      <td>210015</td>\n",
       "      <td>Mirzabayev Damir Baxodir uli</td>\n",
       "      <td>3</td>\n",
       "      <td>2110015@newuu.uz</td>\n",
       "      <td>Enrolled</td>\n",
       "      <td>SCHOOL OF COMPUTING</td>\n",
       "      <td>Software Engineering</td>\n",
       "      <td>{'M1': '0', 'M2': ['MATH 205', ['SEC111 Comput...</td>\n",
       "      <td>{'T1': '0', 'T2': ['MATH 105', ['Numerical Met...</td>\n",
       "      <td>{'W1': '0', 'W2': ['MATH 105', ['Microeconomic...</td>\n",
       "      <td>{'TH1': '0', 'TH2': '0', 'TH3': '0', 'TH4': '0'}</td>\n",
       "      <td>{'F1': '0', 'F2': '0', 'F3': '0', 'F4': '0'}</td>\n",
       "      <td>MALE</td>\n",
       "    </tr>\n",
       "    <tr>\n",
       "      <th>3</th>\n",
       "      <td>210017</td>\n",
       "      <td>Shinpolatov Nurdaulet Marat uli</td>\n",
       "      <td>4</td>\n",
       "      <td>2110017@newuu.uz</td>\n",
       "      <td>Enrolled</td>\n",
       "      <td>SCHOOL OF COMPUTING</td>\n",
       "      <td>Software Engineering</td>\n",
       "      <td>{'M1': '0', 'M2': '0', 'M3': '0', 'M4': '0'}</td>\n",
       "      <td>{'T1': '0', 'T2': '0', 'T3': '0', 'T4': '0'}</td>\n",
       "      <td>{'W1': '0', 'W2': '0', 'W3': '0', 'W4': '0'}</td>\n",
       "      <td>{'TH1': '0', 'TH2': ['MATH 105', ['Artifical I...</td>\n",
       "      <td>{'F1': '0', 'F2': '0', 'F3': '0', 'F4': '0'}</td>\n",
       "      <td>MALE</td>\n",
       "    </tr>\n",
       "    <tr>\n",
       "      <th>4</th>\n",
       "      <td>210018</td>\n",
       "      <td>Xolmurodov Bunyodbek Ruslanbek o‘g‘li</td>\n",
       "      <td>4</td>\n",
       "      <td>2110018@newuu.uz</td>\n",
       "      <td>Enrolled</td>\n",
       "      <td>SCHOOL OF COMPUTING</td>\n",
       "      <td>Software Engineering</td>\n",
       "      <td>{'M1': '0', 'M2': ['MATH 205', ['SEC111 Comput...</td>\n",
       "      <td>{'T1': '0', 'T2': '0', 'T3': '0', 'T4': '0'}</td>\n",
       "      <td>{'W1': '0', 'W2': '0', 'W3': '0', 'W4': '0'}</td>\n",
       "      <td>{'TH1': '0', 'TH2': ['MATH 105', ['Artifical I...</td>\n",
       "      <td>{'F1': '0', 'F2': ['MATH 105', ['Fluid Mechani...</td>\n",
       "      <td>MALE</td>\n",
       "    </tr>\n",
       "    <tr>\n",
       "      <th>...</th>\n",
       "      <td>...</td>\n",
       "      <td>...</td>\n",
       "      <td>...</td>\n",
       "      <td>...</td>\n",
       "      <td>...</td>\n",
       "      <td>...</td>\n",
       "      <td>...</td>\n",
       "      <td>...</td>\n",
       "      <td>...</td>\n",
       "      <td>...</td>\n",
       "      <td>...</td>\n",
       "      <td>...</td>\n",
       "      <td>...</td>\n",
       "    </tr>\n",
       "    <tr>\n",
       "      <th>467</th>\n",
       "      <td>240498</td>\n",
       "      <td>Ibroximov Ibrohimjon Murod o'g'li</td>\n",
       "      <td>1</td>\n",
       "      <td>i.ibrohimov@newuu.uz</td>\n",
       "      <td>Enrolled</td>\n",
       "      <td>SCHOOL OF HUMANITIES, NATURAL &amp; SOCIAL SCIENCES</td>\n",
       "      <td>Applied Mathematics</td>\n",
       "      <td>{'M1': '0', 'M2': '0', 'M3': '0', 'M4': '0'}</td>\n",
       "      <td>{'T1': '0', 'T2': '0', 'T3': '0', 'T4': '0'}</td>\n",
       "      <td>{'W1': ['MATH 105', ['Nanotechnology and Advan...</td>\n",
       "      <td>{'TH1': '0', 'TH2': '0', 'TH3': '0', 'TH4': '0'}</td>\n",
       "      <td>{'F1': '0', 'F2': '0', 'F3': '0', 'F4': '0'}</td>\n",
       "      <td>MALE</td>\n",
       "    </tr>\n",
       "    <tr>\n",
       "      <th>468</th>\n",
       "      <td>240502</td>\n",
       "      <td>Adilov Abdumajid Abduqayumovich</td>\n",
       "      <td>1</td>\n",
       "      <td>a.adilov@newuu.uz</td>\n",
       "      <td>Enrolled</td>\n",
       "      <td>SCHOOL OF HUMANITIES, NATURAL &amp; SOCIAL SCIENCES</td>\n",
       "      <td>Economics and Data Science</td>\n",
       "      <td>{'M1': ['MATH 107', ['MATH211 Calculus 2 - Spr...</td>\n",
       "      <td>{'T1': '0', 'T2': '0', 'T3': '0', 'T4': '0'}</td>\n",
       "      <td>{'W1': '0', 'W2': '0', 'W3': '0', 'W4': '0'}</td>\n",
       "      <td>{'TH1': '0', 'TH2': '0', 'TH3': '0', 'TH4': '0'}</td>\n",
       "      <td>{'F1': '0', 'F2': '0', 'F3': '0', 'F4': '0'}</td>\n",
       "      <td>MALE</td>\n",
       "    </tr>\n",
       "    <tr>\n",
       "      <th>469</th>\n",
       "      <td>240506</td>\n",
       "      <td>Yoqubov Shohjaxon Shavkat o‘g‘li</td>\n",
       "      <td>1</td>\n",
       "      <td>sh.yoqubov@newuu.uz</td>\n",
       "      <td>Enrolled</td>\n",
       "      <td>SCHOOL OF HUMANITIES, NATURAL &amp; SOCIAL SCIENCES</td>\n",
       "      <td>Pedagogy</td>\n",
       "      <td>{'M1': '0', 'M2': '0', 'M3': '0', 'M4': '0'}</td>\n",
       "      <td>{'T1': '0', 'T2': '0', 'T3': '0', 'T4': '0'}</td>\n",
       "      <td>{'W1': ['MATH 106', ['PHYS101 Physics 1 -  Spr...</td>\n",
       "      <td>{'TH1': '0', 'TH2': '0', 'TH3': '0', 'TH4': '0'}</td>\n",
       "      <td>{'F1': '0', 'F2': '0', 'F3': '0', 'F4': '0'}</td>\n",
       "      <td>MALE</td>\n",
       "    </tr>\n",
       "    <tr>\n",
       "      <th>470</th>\n",
       "      <td>240510</td>\n",
       "      <td>Raximov Azizbek Bektashovich</td>\n",
       "      <td>1</td>\n",
       "      <td>a.raximov@newuu.uz</td>\n",
       "      <td>Enrolled</td>\n",
       "      <td>SCHOOL OF COMPUTING</td>\n",
       "      <td>Software Engineering</td>\n",
       "      <td>{'M1': '0', 'M2': ['MATH 106', ['MATH111 Calcu...</td>\n",
       "      <td>{'T1': '0', 'T2': '0', 'T3': '0', 'T4': '0'}</td>\n",
       "      <td>{'W1': ['MATH 106', ['PHYS101 Physics 1 -  Spr...</td>\n",
       "      <td>{'TH1': '0', 'TH2': '0', 'TH3': '0', 'TH4': '0'}</td>\n",
       "      <td>{'F1': '0', 'F2': '0', 'F3': '0', 'F4': '0'}</td>\n",
       "      <td>MALE</td>\n",
       "    </tr>\n",
       "    <tr>\n",
       "      <th>471</th>\n",
       "      <td>240511</td>\n",
       "      <td>Muxiddinova Shaxzodabonu Zafarovna</td>\n",
       "      <td>1</td>\n",
       "      <td>sh.muxiddinova@newuu.uz</td>\n",
       "      <td>Enrolled</td>\n",
       "      <td>SCHOOL OF MANAGEMENT</td>\n",
       "      <td>Industrial Management</td>\n",
       "      <td>{'M1': '0', 'M2': ['MATH 106', ['MATH111 Calcu...</td>\n",
       "      <td>{'T1': '0', 'T2': '0', 'T3': '0', 'T4': '0'}</td>\n",
       "      <td>{'W1': '0', 'W2': '0', 'W3': '0', 'W4': '0'}</td>\n",
       "      <td>{'TH1': '0', 'TH2': '0', 'TH3': '0', 'TH4': '0'}</td>\n",
       "      <td>{'F1': '0', 'F2': '0', 'F3': '0', 'F4': '0'}</td>\n",
       "      <td>FEMALE</td>\n",
       "    </tr>\n",
       "  </tbody>\n",
       "</table>\n",
       "<p>472 rows × 13 columns</p>\n",
       "</div>"
      ]
     },
     "execution_count": 3,
     "metadata": {},
     "output_type": "execute_result"
    }
   ],
   "execution_count": 3
  },
  {
   "metadata": {
    "ExecuteTime": {
     "end_time": "2025-08-10T14:04:37.863532Z",
     "start_time": "2025-08-10T14:04:37.825717Z"
    }
   },
   "cell_type": "code",
   "source": [
    "df['MONDAY'] = df['MONDAY'].apply(ast.literal_eval)\n",
    "df['TUESDAY'] = df['TUESDAY'].apply(ast.literal_eval)\n",
    "df['WEDNESDAY'] = df['WEDNESDAY'].apply(ast.literal_eval)\n",
    "df['THURSDAY'] = df['THURSDAY'].apply(ast.literal_eval)\n",
    "df['FRIDAY'] = df['FRIDAY'].apply(ast.literal_eval)"
   ],
   "id": "e51fa98a7186977d",
   "outputs": [],
   "execution_count": 4
  },
  {
   "metadata": {
    "ExecuteTime": {
     "end_time": "2025-08-10T14:04:38.164877Z",
     "start_time": "2025-08-10T14:04:38.161901Z"
    }
   },
   "cell_type": "code",
   "source": "type(df['MONDAY'][2]['M2'][1][2])",
   "id": "8c014a75ad8a5016",
   "outputs": [
    {
     "data": {
      "text/plain": [
       "str"
      ]
     },
     "execution_count": 5,
     "metadata": {},
     "output_type": "execute_result"
    }
   ],
   "execution_count": 5
  },
  {
   "metadata": {
    "ExecuteTime": {
     "end_time": "2025-08-10T14:04:38.514159Z",
     "start_time": "2025-08-10T14:04:38.511426Z"
    }
   },
   "cell_type": "code",
   "source": "df['MONDAY'][2]['M2'][1]",
   "id": "4e92833c471c1f91",
   "outputs": [
    {
     "data": {
      "text/plain": [
       "['SEC111 Computer Security', 'DSG201 Interaction Design', 'Bioengineering']"
      ]
     },
     "execution_count": 6,
     "metadata": {},
     "output_type": "execute_result"
    }
   ],
   "execution_count": 6
  },
  {
   "metadata": {
    "ExecuteTime": {
     "end_time": "2025-08-10T14:04:38.894974Z",
     "start_time": "2025-08-10T14:04:38.891237Z"
    }
   },
   "cell_type": "code",
   "source": "df.isnull().sum()",
   "id": "fa51d4ef2207e51d",
   "outputs": [
    {
     "data": {
      "text/plain": [
       "ID                   0\n",
       "FULLNAME             0\n",
       "STUDY_YEAR           0\n",
       "EMAIL                0\n",
       "STATUS               0\n",
       "SCHOOL               0\n",
       "EDUCATION_PROGRAM    0\n",
       "MONDAY               0\n",
       "TUESDAY              0\n",
       "WEDNESDAY            0\n",
       "THURSDAY             0\n",
       "FRIDAY               0\n",
       "GENDER               0\n",
       "dtype: int64"
      ]
     },
     "execution_count": 7,
     "metadata": {},
     "output_type": "execute_result"
    }
   ],
   "execution_count": 7
  },
  {
   "metadata": {
    "ExecuteTime": {
     "end_time": "2025-08-10T14:04:39.267142Z",
     "start_time": "2025-08-10T14:04:39.265408Z"
    }
   },
   "cell_type": "code",
   "source": "a = df.columns",
   "id": "a606300405e42757",
   "outputs": [],
   "execution_count": 8
  },
  {
   "metadata": {
    "ExecuteTime": {
     "end_time": "2025-08-10T14:04:39.744055Z",
     "start_time": "2025-08-10T14:04:39.741349Z"
    }
   },
   "cell_type": "code",
   "source": [
    "for i in a:\n",
    "    print(i, ' - ', type(df[i][0]))"
   ],
   "id": "b1eb0c16ea83db2",
   "outputs": [
    {
     "name": "stdout",
     "output_type": "stream",
     "text": [
      "ID  -  <class 'numpy.int64'>\n",
      "FULLNAME  -  <class 'str'>\n",
      "STUDY_YEAR  -  <class 'numpy.int64'>\n",
      "EMAIL  -  <class 'str'>\n",
      "STATUS  -  <class 'str'>\n",
      "SCHOOL  -  <class 'str'>\n",
      "EDUCATION_PROGRAM  -  <class 'str'>\n",
      "MONDAY  -  <class 'dict'>\n",
      "TUESDAY  -  <class 'dict'>\n",
      "WEDNESDAY  -  <class 'dict'>\n",
      "THURSDAY  -  <class 'dict'>\n",
      "FRIDAY  -  <class 'dict'>\n",
      "GENDER  -  <class 'str'>\n"
     ]
    }
   ],
   "execution_count": 9
  },
  {
   "metadata": {
    "ExecuteTime": {
     "end_time": "2025-08-10T14:04:40.230Z",
     "start_time": "2025-08-10T14:04:40.217997Z"
    }
   },
   "cell_type": "code",
   "source": "df",
   "id": "5b033db248fd5e26",
   "outputs": [
    {
     "data": {
      "text/plain": [
       "         ID                               FULLNAME  STUDY_YEAR  \\\n",
       "0    210006   Urazimbetova Miyrigul Xojaaxmet qizi           4   \n",
       "1    210009    Goyibnazarov Ruzmatboy Oybek o‘g‘li           4   \n",
       "2    210015           Mirzabayev Damir Baxodir uli           3   \n",
       "3    210017        Shinpolatov Nurdaulet Marat uli           4   \n",
       "4    210018  Xolmurodov Bunyodbek Ruslanbek o‘g‘li           4   \n",
       "..      ...                                    ...         ...   \n",
       "467  240498      Ibroximov Ibrohimjon Murod o'g'li           1   \n",
       "468  240502        Adilov Abdumajid Abduqayumovich           1   \n",
       "469  240506       Yoqubov Shohjaxon Shavkat o‘g‘li           1   \n",
       "470  240510           Raximov Azizbek Bektashovich           1   \n",
       "471  240511     Muxiddinova Shaxzodabonu Zafarovna           1   \n",
       "\n",
       "                       EMAIL    STATUS  \\\n",
       "0           2110006@newuu.uz  Enrolled   \n",
       "1           2110009@newuu.uz  Enrolled   \n",
       "2           2110015@newuu.uz  Enrolled   \n",
       "3           2110017@newuu.uz  Enrolled   \n",
       "4           2110018@newuu.uz  Enrolled   \n",
       "..                       ...       ...   \n",
       "467     i.ibrohimov@newuu.uz  Enrolled   \n",
       "468        a.adilov@newuu.uz  Enrolled   \n",
       "469      sh.yoqubov@newuu.uz  Enrolled   \n",
       "470       a.raximov@newuu.uz  Enrolled   \n",
       "471  sh.muxiddinova@newuu.uz  Enrolled   \n",
       "\n",
       "                                              SCHOOL  \\\n",
       "0                              SCHOOL OF ENGINEERING   \n",
       "1                              SCHOOL OF ENGINEERING   \n",
       "2                                SCHOOL OF COMPUTING   \n",
       "3                                SCHOOL OF COMPUTING   \n",
       "4                                SCHOOL OF COMPUTING   \n",
       "..                                               ...   \n",
       "467  SCHOOL OF HUMANITIES, NATURAL & SOCIAL SCIENCES   \n",
       "468  SCHOOL OF HUMANITIES, NATURAL & SOCIAL SCIENCES   \n",
       "469  SCHOOL OF HUMANITIES, NATURAL & SOCIAL SCIENCES   \n",
       "470                              SCHOOL OF COMPUTING   \n",
       "471                             SCHOOL OF MANAGEMENT   \n",
       "\n",
       "                      EDUCATION_PROGRAM  \\\n",
       "0    Chemical and Materials Engineering   \n",
       "1                Mechanical Engineering   \n",
       "2                  Software Engineering   \n",
       "3                  Software Engineering   \n",
       "4                  Software Engineering   \n",
       "..                                  ...   \n",
       "467                 Applied Mathematics   \n",
       "468          Economics and Data Science   \n",
       "469                            Pedagogy   \n",
       "470                Software Engineering   \n",
       "471               Industrial Management   \n",
       "\n",
       "                                                MONDAY  \\\n",
       "0    {'M1': ['MATH 205', ['Calculus 2 - Fall 2024']...   \n",
       "1    {'M1': ['MATH 105', ['MATH211 Calculus 2 - Spr...   \n",
       "2    {'M1': '0', 'M2': ['MATH 205', ['SEC111 Comput...   \n",
       "3         {'M1': '0', 'M2': '0', 'M3': '0', 'M4': '0'}   \n",
       "4    {'M1': '0', 'M2': ['MATH 205', ['SEC111 Comput...   \n",
       "..                                                 ...   \n",
       "467       {'M1': '0', 'M2': '0', 'M3': '0', 'M4': '0'}   \n",
       "468  {'M1': ['MATH 107', ['MATH211 Calculus 2 - Spr...   \n",
       "469       {'M1': '0', 'M2': '0', 'M3': '0', 'M4': '0'}   \n",
       "470  {'M1': '0', 'M2': ['MATH 106', ['MATH111 Calcu...   \n",
       "471  {'M1': '0', 'M2': ['MATH 106', ['MATH111 Calcu...   \n",
       "\n",
       "                                               TUESDAY  \\\n",
       "0         {'T1': '0', 'T2': '0', 'T3': '0', 'T4': '0'}   \n",
       "1         {'T1': '0', 'T2': '0', 'T3': '0', 'T4': '0'}   \n",
       "2    {'T1': '0', 'T2': ['MATH 105', ['Numerical Met...   \n",
       "3         {'T1': '0', 'T2': '0', 'T3': '0', 'T4': '0'}   \n",
       "4         {'T1': '0', 'T2': '0', 'T3': '0', 'T4': '0'}   \n",
       "..                                                 ...   \n",
       "467       {'T1': '0', 'T2': '0', 'T3': '0', 'T4': '0'}   \n",
       "468       {'T1': '0', 'T2': '0', 'T3': '0', 'T4': '0'}   \n",
       "469       {'T1': '0', 'T2': '0', 'T3': '0', 'T4': '0'}   \n",
       "470       {'T1': '0', 'T2': '0', 'T3': '0', 'T4': '0'}   \n",
       "471       {'T1': '0', 'T2': '0', 'T3': '0', 'T4': '0'}   \n",
       "\n",
       "                                             WEDNESDAY  \\\n",
       "0         {'W1': '0', 'W2': '0', 'W3': '0', 'W4': '0'}   \n",
       "1    {'W1': '0', 'W2': ['MATH B01', ['Computational...   \n",
       "2    {'W1': '0', 'W2': ['MATH 105', ['Microeconomic...   \n",
       "3         {'W1': '0', 'W2': '0', 'W3': '0', 'W4': '0'}   \n",
       "4         {'W1': '0', 'W2': '0', 'W3': '0', 'W4': '0'}   \n",
       "..                                                 ...   \n",
       "467  {'W1': ['MATH 105', ['Nanotechnology and Advan...   \n",
       "468       {'W1': '0', 'W2': '0', 'W3': '0', 'W4': '0'}   \n",
       "469  {'W1': ['MATH 106', ['PHYS101 Physics 1 -  Spr...   \n",
       "470  {'W1': ['MATH 106', ['PHYS101 Physics 1 -  Spr...   \n",
       "471       {'W1': '0', 'W2': '0', 'W3': '0', 'W4': '0'}   \n",
       "\n",
       "                                              THURSDAY  \\\n",
       "0     {'TH1': '0', 'TH2': '0', 'TH3': '0', 'TH4': '0'}   \n",
       "1     {'TH1': '0', 'TH2': '0', 'TH3': '0', 'TH4': '0'}   \n",
       "2     {'TH1': '0', 'TH2': '0', 'TH3': '0', 'TH4': '0'}   \n",
       "3    {'TH1': '0', 'TH2': ['MATH 105', ['Artifical I...   \n",
       "4    {'TH1': '0', 'TH2': ['MATH 105', ['Artifical I...   \n",
       "..                                                 ...   \n",
       "467   {'TH1': '0', 'TH2': '0', 'TH3': '0', 'TH4': '0'}   \n",
       "468   {'TH1': '0', 'TH2': '0', 'TH3': '0', 'TH4': '0'}   \n",
       "469   {'TH1': '0', 'TH2': '0', 'TH3': '0', 'TH4': '0'}   \n",
       "470   {'TH1': '0', 'TH2': '0', 'TH3': '0', 'TH4': '0'}   \n",
       "471   {'TH1': '0', 'TH2': '0', 'TH3': '0', 'TH4': '0'}   \n",
       "\n",
       "                                                FRIDAY  GENDER  \n",
       "0         {'F1': '0', 'F2': '0', 'F3': '0', 'F4': '0'}  FEMALE  \n",
       "1         {'F1': '0', 'F2': '0', 'F3': '0', 'F4': '0'}    MALE  \n",
       "2         {'F1': '0', 'F2': '0', 'F3': '0', 'F4': '0'}    MALE  \n",
       "3         {'F1': '0', 'F2': '0', 'F3': '0', 'F4': '0'}    MALE  \n",
       "4    {'F1': '0', 'F2': ['MATH 105', ['Fluid Mechani...    MALE  \n",
       "..                                                 ...     ...  \n",
       "467       {'F1': '0', 'F2': '0', 'F3': '0', 'F4': '0'}    MALE  \n",
       "468       {'F1': '0', 'F2': '0', 'F3': '0', 'F4': '0'}    MALE  \n",
       "469       {'F1': '0', 'F2': '0', 'F3': '0', 'F4': '0'}    MALE  \n",
       "470       {'F1': '0', 'F2': '0', 'F3': '0', 'F4': '0'}    MALE  \n",
       "471       {'F1': '0', 'F2': '0', 'F3': '0', 'F4': '0'}  FEMALE  \n",
       "\n",
       "[472 rows x 13 columns]"
      ],
      "text/html": [
       "<div>\n",
       "<style scoped>\n",
       "    .dataframe tbody tr th:only-of-type {\n",
       "        vertical-align: middle;\n",
       "    }\n",
       "\n",
       "    .dataframe tbody tr th {\n",
       "        vertical-align: top;\n",
       "    }\n",
       "\n",
       "    .dataframe thead th {\n",
       "        text-align: right;\n",
       "    }\n",
       "</style>\n",
       "<table border=\"1\" class=\"dataframe\">\n",
       "  <thead>\n",
       "    <tr style=\"text-align: right;\">\n",
       "      <th></th>\n",
       "      <th>ID</th>\n",
       "      <th>FULLNAME</th>\n",
       "      <th>STUDY_YEAR</th>\n",
       "      <th>EMAIL</th>\n",
       "      <th>STATUS</th>\n",
       "      <th>SCHOOL</th>\n",
       "      <th>EDUCATION_PROGRAM</th>\n",
       "      <th>MONDAY</th>\n",
       "      <th>TUESDAY</th>\n",
       "      <th>WEDNESDAY</th>\n",
       "      <th>THURSDAY</th>\n",
       "      <th>FRIDAY</th>\n",
       "      <th>GENDER</th>\n",
       "    </tr>\n",
       "  </thead>\n",
       "  <tbody>\n",
       "    <tr>\n",
       "      <th>0</th>\n",
       "      <td>210006</td>\n",
       "      <td>Urazimbetova Miyrigul Xojaaxmet qizi</td>\n",
       "      <td>4</td>\n",
       "      <td>2110006@newuu.uz</td>\n",
       "      <td>Enrolled</td>\n",
       "      <td>SCHOOL OF ENGINEERING</td>\n",
       "      <td>Chemical and Materials Engineering</td>\n",
       "      <td>{'M1': ['MATH 205', ['Calculus 2 - Fall 2024']...</td>\n",
       "      <td>{'T1': '0', 'T2': '0', 'T3': '0', 'T4': '0'}</td>\n",
       "      <td>{'W1': '0', 'W2': '0', 'W3': '0', 'W4': '0'}</td>\n",
       "      <td>{'TH1': '0', 'TH2': '0', 'TH3': '0', 'TH4': '0'}</td>\n",
       "      <td>{'F1': '0', 'F2': '0', 'F3': '0', 'F4': '0'}</td>\n",
       "      <td>FEMALE</td>\n",
       "    </tr>\n",
       "    <tr>\n",
       "      <th>1</th>\n",
       "      <td>210009</td>\n",
       "      <td>Goyibnazarov Ruzmatboy Oybek o‘g‘li</td>\n",
       "      <td>4</td>\n",
       "      <td>2110009@newuu.uz</td>\n",
       "      <td>Enrolled</td>\n",
       "      <td>SCHOOL OF ENGINEERING</td>\n",
       "      <td>Mechanical Engineering</td>\n",
       "      <td>{'M1': ['MATH 105', ['MATH211 Calculus 2 - Spr...</td>\n",
       "      <td>{'T1': '0', 'T2': '0', 'T3': '0', 'T4': '0'}</td>\n",
       "      <td>{'W1': '0', 'W2': ['MATH B01', ['Computational...</td>\n",
       "      <td>{'TH1': '0', 'TH2': '0', 'TH3': '0', 'TH4': '0'}</td>\n",
       "      <td>{'F1': '0', 'F2': '0', 'F3': '0', 'F4': '0'}</td>\n",
       "      <td>MALE</td>\n",
       "    </tr>\n",
       "    <tr>\n",
       "      <th>2</th>\n",
       "      <td>210015</td>\n",
       "      <td>Mirzabayev Damir Baxodir uli</td>\n",
       "      <td>3</td>\n",
       "      <td>2110015@newuu.uz</td>\n",
       "      <td>Enrolled</td>\n",
       "      <td>SCHOOL OF COMPUTING</td>\n",
       "      <td>Software Engineering</td>\n",
       "      <td>{'M1': '0', 'M2': ['MATH 205', ['SEC111 Comput...</td>\n",
       "      <td>{'T1': '0', 'T2': ['MATH 105', ['Numerical Met...</td>\n",
       "      <td>{'W1': '0', 'W2': ['MATH 105', ['Microeconomic...</td>\n",
       "      <td>{'TH1': '0', 'TH2': '0', 'TH3': '0', 'TH4': '0'}</td>\n",
       "      <td>{'F1': '0', 'F2': '0', 'F3': '0', 'F4': '0'}</td>\n",
       "      <td>MALE</td>\n",
       "    </tr>\n",
       "    <tr>\n",
       "      <th>3</th>\n",
       "      <td>210017</td>\n",
       "      <td>Shinpolatov Nurdaulet Marat uli</td>\n",
       "      <td>4</td>\n",
       "      <td>2110017@newuu.uz</td>\n",
       "      <td>Enrolled</td>\n",
       "      <td>SCHOOL OF COMPUTING</td>\n",
       "      <td>Software Engineering</td>\n",
       "      <td>{'M1': '0', 'M2': '0', 'M3': '0', 'M4': '0'}</td>\n",
       "      <td>{'T1': '0', 'T2': '0', 'T3': '0', 'T4': '0'}</td>\n",
       "      <td>{'W1': '0', 'W2': '0', 'W3': '0', 'W4': '0'}</td>\n",
       "      <td>{'TH1': '0', 'TH2': ['MATH 105', ['Artifical I...</td>\n",
       "      <td>{'F1': '0', 'F2': '0', 'F3': '0', 'F4': '0'}</td>\n",
       "      <td>MALE</td>\n",
       "    </tr>\n",
       "    <tr>\n",
       "      <th>4</th>\n",
       "      <td>210018</td>\n",
       "      <td>Xolmurodov Bunyodbek Ruslanbek o‘g‘li</td>\n",
       "      <td>4</td>\n",
       "      <td>2110018@newuu.uz</td>\n",
       "      <td>Enrolled</td>\n",
       "      <td>SCHOOL OF COMPUTING</td>\n",
       "      <td>Software Engineering</td>\n",
       "      <td>{'M1': '0', 'M2': ['MATH 205', ['SEC111 Comput...</td>\n",
       "      <td>{'T1': '0', 'T2': '0', 'T3': '0', 'T4': '0'}</td>\n",
       "      <td>{'W1': '0', 'W2': '0', 'W3': '0', 'W4': '0'}</td>\n",
       "      <td>{'TH1': '0', 'TH2': ['MATH 105', ['Artifical I...</td>\n",
       "      <td>{'F1': '0', 'F2': ['MATH 105', ['Fluid Mechani...</td>\n",
       "      <td>MALE</td>\n",
       "    </tr>\n",
       "    <tr>\n",
       "      <th>...</th>\n",
       "      <td>...</td>\n",
       "      <td>...</td>\n",
       "      <td>...</td>\n",
       "      <td>...</td>\n",
       "      <td>...</td>\n",
       "      <td>...</td>\n",
       "      <td>...</td>\n",
       "      <td>...</td>\n",
       "      <td>...</td>\n",
       "      <td>...</td>\n",
       "      <td>...</td>\n",
       "      <td>...</td>\n",
       "      <td>...</td>\n",
       "    </tr>\n",
       "    <tr>\n",
       "      <th>467</th>\n",
       "      <td>240498</td>\n",
       "      <td>Ibroximov Ibrohimjon Murod o'g'li</td>\n",
       "      <td>1</td>\n",
       "      <td>i.ibrohimov@newuu.uz</td>\n",
       "      <td>Enrolled</td>\n",
       "      <td>SCHOOL OF HUMANITIES, NATURAL &amp; SOCIAL SCIENCES</td>\n",
       "      <td>Applied Mathematics</td>\n",
       "      <td>{'M1': '0', 'M2': '0', 'M3': '0', 'M4': '0'}</td>\n",
       "      <td>{'T1': '0', 'T2': '0', 'T3': '0', 'T4': '0'}</td>\n",
       "      <td>{'W1': ['MATH 105', ['Nanotechnology and Advan...</td>\n",
       "      <td>{'TH1': '0', 'TH2': '0', 'TH3': '0', 'TH4': '0'}</td>\n",
       "      <td>{'F1': '0', 'F2': '0', 'F3': '0', 'F4': '0'}</td>\n",
       "      <td>MALE</td>\n",
       "    </tr>\n",
       "    <tr>\n",
       "      <th>468</th>\n",
       "      <td>240502</td>\n",
       "      <td>Adilov Abdumajid Abduqayumovich</td>\n",
       "      <td>1</td>\n",
       "      <td>a.adilov@newuu.uz</td>\n",
       "      <td>Enrolled</td>\n",
       "      <td>SCHOOL OF HUMANITIES, NATURAL &amp; SOCIAL SCIENCES</td>\n",
       "      <td>Economics and Data Science</td>\n",
       "      <td>{'M1': ['MATH 107', ['MATH211 Calculus 2 - Spr...</td>\n",
       "      <td>{'T1': '0', 'T2': '0', 'T3': '0', 'T4': '0'}</td>\n",
       "      <td>{'W1': '0', 'W2': '0', 'W3': '0', 'W4': '0'}</td>\n",
       "      <td>{'TH1': '0', 'TH2': '0', 'TH3': '0', 'TH4': '0'}</td>\n",
       "      <td>{'F1': '0', 'F2': '0', 'F3': '0', 'F4': '0'}</td>\n",
       "      <td>MALE</td>\n",
       "    </tr>\n",
       "    <tr>\n",
       "      <th>469</th>\n",
       "      <td>240506</td>\n",
       "      <td>Yoqubov Shohjaxon Shavkat o‘g‘li</td>\n",
       "      <td>1</td>\n",
       "      <td>sh.yoqubov@newuu.uz</td>\n",
       "      <td>Enrolled</td>\n",
       "      <td>SCHOOL OF HUMANITIES, NATURAL &amp; SOCIAL SCIENCES</td>\n",
       "      <td>Pedagogy</td>\n",
       "      <td>{'M1': '0', 'M2': '0', 'M3': '0', 'M4': '0'}</td>\n",
       "      <td>{'T1': '0', 'T2': '0', 'T3': '0', 'T4': '0'}</td>\n",
       "      <td>{'W1': ['MATH 106', ['PHYS101 Physics 1 -  Spr...</td>\n",
       "      <td>{'TH1': '0', 'TH2': '0', 'TH3': '0', 'TH4': '0'}</td>\n",
       "      <td>{'F1': '0', 'F2': '0', 'F3': '0', 'F4': '0'}</td>\n",
       "      <td>MALE</td>\n",
       "    </tr>\n",
       "    <tr>\n",
       "      <th>470</th>\n",
       "      <td>240510</td>\n",
       "      <td>Raximov Azizbek Bektashovich</td>\n",
       "      <td>1</td>\n",
       "      <td>a.raximov@newuu.uz</td>\n",
       "      <td>Enrolled</td>\n",
       "      <td>SCHOOL OF COMPUTING</td>\n",
       "      <td>Software Engineering</td>\n",
       "      <td>{'M1': '0', 'M2': ['MATH 106', ['MATH111 Calcu...</td>\n",
       "      <td>{'T1': '0', 'T2': '0', 'T3': '0', 'T4': '0'}</td>\n",
       "      <td>{'W1': ['MATH 106', ['PHYS101 Physics 1 -  Spr...</td>\n",
       "      <td>{'TH1': '0', 'TH2': '0', 'TH3': '0', 'TH4': '0'}</td>\n",
       "      <td>{'F1': '0', 'F2': '0', 'F3': '0', 'F4': '0'}</td>\n",
       "      <td>MALE</td>\n",
       "    </tr>\n",
       "    <tr>\n",
       "      <th>471</th>\n",
       "      <td>240511</td>\n",
       "      <td>Muxiddinova Shaxzodabonu Zafarovna</td>\n",
       "      <td>1</td>\n",
       "      <td>sh.muxiddinova@newuu.uz</td>\n",
       "      <td>Enrolled</td>\n",
       "      <td>SCHOOL OF MANAGEMENT</td>\n",
       "      <td>Industrial Management</td>\n",
       "      <td>{'M1': '0', 'M2': ['MATH 106', ['MATH111 Calcu...</td>\n",
       "      <td>{'T1': '0', 'T2': '0', 'T3': '0', 'T4': '0'}</td>\n",
       "      <td>{'W1': '0', 'W2': '0', 'W3': '0', 'W4': '0'}</td>\n",
       "      <td>{'TH1': '0', 'TH2': '0', 'TH3': '0', 'TH4': '0'}</td>\n",
       "      <td>{'F1': '0', 'F2': '0', 'F3': '0', 'F4': '0'}</td>\n",
       "      <td>FEMALE</td>\n",
       "    </tr>\n",
       "  </tbody>\n",
       "</table>\n",
       "<p>472 rows × 13 columns</p>\n",
       "</div>"
      ]
     },
     "execution_count": 10,
     "metadata": {},
     "output_type": "execute_result"
    }
   ],
   "execution_count": 10
  },
  {
   "metadata": {
    "ExecuteTime": {
     "end_time": "2025-08-10T14:04:40.630217Z",
     "start_time": "2025-08-10T14:04:40.615640Z"
    }
   },
   "cell_type": "code",
   "source": "df",
   "id": "7545b7fb6df00b52",
   "outputs": [
    {
     "data": {
      "text/plain": [
       "         ID                               FULLNAME  STUDY_YEAR  \\\n",
       "0    210006   Urazimbetova Miyrigul Xojaaxmet qizi           4   \n",
       "1    210009    Goyibnazarov Ruzmatboy Oybek o‘g‘li           4   \n",
       "2    210015           Mirzabayev Damir Baxodir uli           3   \n",
       "3    210017        Shinpolatov Nurdaulet Marat uli           4   \n",
       "4    210018  Xolmurodov Bunyodbek Ruslanbek o‘g‘li           4   \n",
       "..      ...                                    ...         ...   \n",
       "467  240498      Ibroximov Ibrohimjon Murod o'g'li           1   \n",
       "468  240502        Adilov Abdumajid Abduqayumovich           1   \n",
       "469  240506       Yoqubov Shohjaxon Shavkat o‘g‘li           1   \n",
       "470  240510           Raximov Azizbek Bektashovich           1   \n",
       "471  240511     Muxiddinova Shaxzodabonu Zafarovna           1   \n",
       "\n",
       "                       EMAIL    STATUS  \\\n",
       "0           2110006@newuu.uz  Enrolled   \n",
       "1           2110009@newuu.uz  Enrolled   \n",
       "2           2110015@newuu.uz  Enrolled   \n",
       "3           2110017@newuu.uz  Enrolled   \n",
       "4           2110018@newuu.uz  Enrolled   \n",
       "..                       ...       ...   \n",
       "467     i.ibrohimov@newuu.uz  Enrolled   \n",
       "468        a.adilov@newuu.uz  Enrolled   \n",
       "469      sh.yoqubov@newuu.uz  Enrolled   \n",
       "470       a.raximov@newuu.uz  Enrolled   \n",
       "471  sh.muxiddinova@newuu.uz  Enrolled   \n",
       "\n",
       "                                              SCHOOL  \\\n",
       "0                              SCHOOL OF ENGINEERING   \n",
       "1                              SCHOOL OF ENGINEERING   \n",
       "2                                SCHOOL OF COMPUTING   \n",
       "3                                SCHOOL OF COMPUTING   \n",
       "4                                SCHOOL OF COMPUTING   \n",
       "..                                               ...   \n",
       "467  SCHOOL OF HUMANITIES, NATURAL & SOCIAL SCIENCES   \n",
       "468  SCHOOL OF HUMANITIES, NATURAL & SOCIAL SCIENCES   \n",
       "469  SCHOOL OF HUMANITIES, NATURAL & SOCIAL SCIENCES   \n",
       "470                              SCHOOL OF COMPUTING   \n",
       "471                             SCHOOL OF MANAGEMENT   \n",
       "\n",
       "                      EDUCATION_PROGRAM  \\\n",
       "0    Chemical and Materials Engineering   \n",
       "1                Mechanical Engineering   \n",
       "2                  Software Engineering   \n",
       "3                  Software Engineering   \n",
       "4                  Software Engineering   \n",
       "..                                  ...   \n",
       "467                 Applied Mathematics   \n",
       "468          Economics and Data Science   \n",
       "469                            Pedagogy   \n",
       "470                Software Engineering   \n",
       "471               Industrial Management   \n",
       "\n",
       "                                                MONDAY  \\\n",
       "0    {'M1': ['MATH 205', ['Calculus 2 - Fall 2024']...   \n",
       "1    {'M1': ['MATH 105', ['MATH211 Calculus 2 - Spr...   \n",
       "2    {'M1': '0', 'M2': ['MATH 205', ['SEC111 Comput...   \n",
       "3         {'M1': '0', 'M2': '0', 'M3': '0', 'M4': '0'}   \n",
       "4    {'M1': '0', 'M2': ['MATH 205', ['SEC111 Comput...   \n",
       "..                                                 ...   \n",
       "467       {'M1': '0', 'M2': '0', 'M3': '0', 'M4': '0'}   \n",
       "468  {'M1': ['MATH 107', ['MATH211 Calculus 2 - Spr...   \n",
       "469       {'M1': '0', 'M2': '0', 'M3': '0', 'M4': '0'}   \n",
       "470  {'M1': '0', 'M2': ['MATH 106', ['MATH111 Calcu...   \n",
       "471  {'M1': '0', 'M2': ['MATH 106', ['MATH111 Calcu...   \n",
       "\n",
       "                                               TUESDAY  \\\n",
       "0         {'T1': '0', 'T2': '0', 'T3': '0', 'T4': '0'}   \n",
       "1         {'T1': '0', 'T2': '0', 'T3': '0', 'T4': '0'}   \n",
       "2    {'T1': '0', 'T2': ['MATH 105', ['Numerical Met...   \n",
       "3         {'T1': '0', 'T2': '0', 'T3': '0', 'T4': '0'}   \n",
       "4         {'T1': '0', 'T2': '0', 'T3': '0', 'T4': '0'}   \n",
       "..                                                 ...   \n",
       "467       {'T1': '0', 'T2': '0', 'T3': '0', 'T4': '0'}   \n",
       "468       {'T1': '0', 'T2': '0', 'T3': '0', 'T4': '0'}   \n",
       "469       {'T1': '0', 'T2': '0', 'T3': '0', 'T4': '0'}   \n",
       "470       {'T1': '0', 'T2': '0', 'T3': '0', 'T4': '0'}   \n",
       "471       {'T1': '0', 'T2': '0', 'T3': '0', 'T4': '0'}   \n",
       "\n",
       "                                             WEDNESDAY  \\\n",
       "0         {'W1': '0', 'W2': '0', 'W3': '0', 'W4': '0'}   \n",
       "1    {'W1': '0', 'W2': ['MATH B01', ['Computational...   \n",
       "2    {'W1': '0', 'W2': ['MATH 105', ['Microeconomic...   \n",
       "3         {'W1': '0', 'W2': '0', 'W3': '0', 'W4': '0'}   \n",
       "4         {'W1': '0', 'W2': '0', 'W3': '0', 'W4': '0'}   \n",
       "..                                                 ...   \n",
       "467  {'W1': ['MATH 105', ['Nanotechnology and Advan...   \n",
       "468       {'W1': '0', 'W2': '0', 'W3': '0', 'W4': '0'}   \n",
       "469  {'W1': ['MATH 106', ['PHYS101 Physics 1 -  Spr...   \n",
       "470  {'W1': ['MATH 106', ['PHYS101 Physics 1 -  Spr...   \n",
       "471       {'W1': '0', 'W2': '0', 'W3': '0', 'W4': '0'}   \n",
       "\n",
       "                                              THURSDAY  \\\n",
       "0     {'TH1': '0', 'TH2': '0', 'TH3': '0', 'TH4': '0'}   \n",
       "1     {'TH1': '0', 'TH2': '0', 'TH3': '0', 'TH4': '0'}   \n",
       "2     {'TH1': '0', 'TH2': '0', 'TH3': '0', 'TH4': '0'}   \n",
       "3    {'TH1': '0', 'TH2': ['MATH 105', ['Artifical I...   \n",
       "4    {'TH1': '0', 'TH2': ['MATH 105', ['Artifical I...   \n",
       "..                                                 ...   \n",
       "467   {'TH1': '0', 'TH2': '0', 'TH3': '0', 'TH4': '0'}   \n",
       "468   {'TH1': '0', 'TH2': '0', 'TH3': '0', 'TH4': '0'}   \n",
       "469   {'TH1': '0', 'TH2': '0', 'TH3': '0', 'TH4': '0'}   \n",
       "470   {'TH1': '0', 'TH2': '0', 'TH3': '0', 'TH4': '0'}   \n",
       "471   {'TH1': '0', 'TH2': '0', 'TH3': '0', 'TH4': '0'}   \n",
       "\n",
       "                                                FRIDAY  GENDER  \n",
       "0         {'F1': '0', 'F2': '0', 'F3': '0', 'F4': '0'}  FEMALE  \n",
       "1         {'F1': '0', 'F2': '0', 'F3': '0', 'F4': '0'}    MALE  \n",
       "2         {'F1': '0', 'F2': '0', 'F3': '0', 'F4': '0'}    MALE  \n",
       "3         {'F1': '0', 'F2': '0', 'F3': '0', 'F4': '0'}    MALE  \n",
       "4    {'F1': '0', 'F2': ['MATH 105', ['Fluid Mechani...    MALE  \n",
       "..                                                 ...     ...  \n",
       "467       {'F1': '0', 'F2': '0', 'F3': '0', 'F4': '0'}    MALE  \n",
       "468       {'F1': '0', 'F2': '0', 'F3': '0', 'F4': '0'}    MALE  \n",
       "469       {'F1': '0', 'F2': '0', 'F3': '0', 'F4': '0'}    MALE  \n",
       "470       {'F1': '0', 'F2': '0', 'F3': '0', 'F4': '0'}    MALE  \n",
       "471       {'F1': '0', 'F2': '0', 'F3': '0', 'F4': '0'}  FEMALE  \n",
       "\n",
       "[472 rows x 13 columns]"
      ],
      "text/html": [
       "<div>\n",
       "<style scoped>\n",
       "    .dataframe tbody tr th:only-of-type {\n",
       "        vertical-align: middle;\n",
       "    }\n",
       "\n",
       "    .dataframe tbody tr th {\n",
       "        vertical-align: top;\n",
       "    }\n",
       "\n",
       "    .dataframe thead th {\n",
       "        text-align: right;\n",
       "    }\n",
       "</style>\n",
       "<table border=\"1\" class=\"dataframe\">\n",
       "  <thead>\n",
       "    <tr style=\"text-align: right;\">\n",
       "      <th></th>\n",
       "      <th>ID</th>\n",
       "      <th>FULLNAME</th>\n",
       "      <th>STUDY_YEAR</th>\n",
       "      <th>EMAIL</th>\n",
       "      <th>STATUS</th>\n",
       "      <th>SCHOOL</th>\n",
       "      <th>EDUCATION_PROGRAM</th>\n",
       "      <th>MONDAY</th>\n",
       "      <th>TUESDAY</th>\n",
       "      <th>WEDNESDAY</th>\n",
       "      <th>THURSDAY</th>\n",
       "      <th>FRIDAY</th>\n",
       "      <th>GENDER</th>\n",
       "    </tr>\n",
       "  </thead>\n",
       "  <tbody>\n",
       "    <tr>\n",
       "      <th>0</th>\n",
       "      <td>210006</td>\n",
       "      <td>Urazimbetova Miyrigul Xojaaxmet qizi</td>\n",
       "      <td>4</td>\n",
       "      <td>2110006@newuu.uz</td>\n",
       "      <td>Enrolled</td>\n",
       "      <td>SCHOOL OF ENGINEERING</td>\n",
       "      <td>Chemical and Materials Engineering</td>\n",
       "      <td>{'M1': ['MATH 205', ['Calculus 2 - Fall 2024']...</td>\n",
       "      <td>{'T1': '0', 'T2': '0', 'T3': '0', 'T4': '0'}</td>\n",
       "      <td>{'W1': '0', 'W2': '0', 'W3': '0', 'W4': '0'}</td>\n",
       "      <td>{'TH1': '0', 'TH2': '0', 'TH3': '0', 'TH4': '0'}</td>\n",
       "      <td>{'F1': '0', 'F2': '0', 'F3': '0', 'F4': '0'}</td>\n",
       "      <td>FEMALE</td>\n",
       "    </tr>\n",
       "    <tr>\n",
       "      <th>1</th>\n",
       "      <td>210009</td>\n",
       "      <td>Goyibnazarov Ruzmatboy Oybek o‘g‘li</td>\n",
       "      <td>4</td>\n",
       "      <td>2110009@newuu.uz</td>\n",
       "      <td>Enrolled</td>\n",
       "      <td>SCHOOL OF ENGINEERING</td>\n",
       "      <td>Mechanical Engineering</td>\n",
       "      <td>{'M1': ['MATH 105', ['MATH211 Calculus 2 - Spr...</td>\n",
       "      <td>{'T1': '0', 'T2': '0', 'T3': '0', 'T4': '0'}</td>\n",
       "      <td>{'W1': '0', 'W2': ['MATH B01', ['Computational...</td>\n",
       "      <td>{'TH1': '0', 'TH2': '0', 'TH3': '0', 'TH4': '0'}</td>\n",
       "      <td>{'F1': '0', 'F2': '0', 'F3': '0', 'F4': '0'}</td>\n",
       "      <td>MALE</td>\n",
       "    </tr>\n",
       "    <tr>\n",
       "      <th>2</th>\n",
       "      <td>210015</td>\n",
       "      <td>Mirzabayev Damir Baxodir uli</td>\n",
       "      <td>3</td>\n",
       "      <td>2110015@newuu.uz</td>\n",
       "      <td>Enrolled</td>\n",
       "      <td>SCHOOL OF COMPUTING</td>\n",
       "      <td>Software Engineering</td>\n",
       "      <td>{'M1': '0', 'M2': ['MATH 205', ['SEC111 Comput...</td>\n",
       "      <td>{'T1': '0', 'T2': ['MATH 105', ['Numerical Met...</td>\n",
       "      <td>{'W1': '0', 'W2': ['MATH 105', ['Microeconomic...</td>\n",
       "      <td>{'TH1': '0', 'TH2': '0', 'TH3': '0', 'TH4': '0'}</td>\n",
       "      <td>{'F1': '0', 'F2': '0', 'F3': '0', 'F4': '0'}</td>\n",
       "      <td>MALE</td>\n",
       "    </tr>\n",
       "    <tr>\n",
       "      <th>3</th>\n",
       "      <td>210017</td>\n",
       "      <td>Shinpolatov Nurdaulet Marat uli</td>\n",
       "      <td>4</td>\n",
       "      <td>2110017@newuu.uz</td>\n",
       "      <td>Enrolled</td>\n",
       "      <td>SCHOOL OF COMPUTING</td>\n",
       "      <td>Software Engineering</td>\n",
       "      <td>{'M1': '0', 'M2': '0', 'M3': '0', 'M4': '0'}</td>\n",
       "      <td>{'T1': '0', 'T2': '0', 'T3': '0', 'T4': '0'}</td>\n",
       "      <td>{'W1': '0', 'W2': '0', 'W3': '0', 'W4': '0'}</td>\n",
       "      <td>{'TH1': '0', 'TH2': ['MATH 105', ['Artifical I...</td>\n",
       "      <td>{'F1': '0', 'F2': '0', 'F3': '0', 'F4': '0'}</td>\n",
       "      <td>MALE</td>\n",
       "    </tr>\n",
       "    <tr>\n",
       "      <th>4</th>\n",
       "      <td>210018</td>\n",
       "      <td>Xolmurodov Bunyodbek Ruslanbek o‘g‘li</td>\n",
       "      <td>4</td>\n",
       "      <td>2110018@newuu.uz</td>\n",
       "      <td>Enrolled</td>\n",
       "      <td>SCHOOL OF COMPUTING</td>\n",
       "      <td>Software Engineering</td>\n",
       "      <td>{'M1': '0', 'M2': ['MATH 205', ['SEC111 Comput...</td>\n",
       "      <td>{'T1': '0', 'T2': '0', 'T3': '0', 'T4': '0'}</td>\n",
       "      <td>{'W1': '0', 'W2': '0', 'W3': '0', 'W4': '0'}</td>\n",
       "      <td>{'TH1': '0', 'TH2': ['MATH 105', ['Artifical I...</td>\n",
       "      <td>{'F1': '0', 'F2': ['MATH 105', ['Fluid Mechani...</td>\n",
       "      <td>MALE</td>\n",
       "    </tr>\n",
       "    <tr>\n",
       "      <th>...</th>\n",
       "      <td>...</td>\n",
       "      <td>...</td>\n",
       "      <td>...</td>\n",
       "      <td>...</td>\n",
       "      <td>...</td>\n",
       "      <td>...</td>\n",
       "      <td>...</td>\n",
       "      <td>...</td>\n",
       "      <td>...</td>\n",
       "      <td>...</td>\n",
       "      <td>...</td>\n",
       "      <td>...</td>\n",
       "      <td>...</td>\n",
       "    </tr>\n",
       "    <tr>\n",
       "      <th>467</th>\n",
       "      <td>240498</td>\n",
       "      <td>Ibroximov Ibrohimjon Murod o'g'li</td>\n",
       "      <td>1</td>\n",
       "      <td>i.ibrohimov@newuu.uz</td>\n",
       "      <td>Enrolled</td>\n",
       "      <td>SCHOOL OF HUMANITIES, NATURAL &amp; SOCIAL SCIENCES</td>\n",
       "      <td>Applied Mathematics</td>\n",
       "      <td>{'M1': '0', 'M2': '0', 'M3': '0', 'M4': '0'}</td>\n",
       "      <td>{'T1': '0', 'T2': '0', 'T3': '0', 'T4': '0'}</td>\n",
       "      <td>{'W1': ['MATH 105', ['Nanotechnology and Advan...</td>\n",
       "      <td>{'TH1': '0', 'TH2': '0', 'TH3': '0', 'TH4': '0'}</td>\n",
       "      <td>{'F1': '0', 'F2': '0', 'F3': '0', 'F4': '0'}</td>\n",
       "      <td>MALE</td>\n",
       "    </tr>\n",
       "    <tr>\n",
       "      <th>468</th>\n",
       "      <td>240502</td>\n",
       "      <td>Adilov Abdumajid Abduqayumovich</td>\n",
       "      <td>1</td>\n",
       "      <td>a.adilov@newuu.uz</td>\n",
       "      <td>Enrolled</td>\n",
       "      <td>SCHOOL OF HUMANITIES, NATURAL &amp; SOCIAL SCIENCES</td>\n",
       "      <td>Economics and Data Science</td>\n",
       "      <td>{'M1': ['MATH 107', ['MATH211 Calculus 2 - Spr...</td>\n",
       "      <td>{'T1': '0', 'T2': '0', 'T3': '0', 'T4': '0'}</td>\n",
       "      <td>{'W1': '0', 'W2': '0', 'W3': '0', 'W4': '0'}</td>\n",
       "      <td>{'TH1': '0', 'TH2': '0', 'TH3': '0', 'TH4': '0'}</td>\n",
       "      <td>{'F1': '0', 'F2': '0', 'F3': '0', 'F4': '0'}</td>\n",
       "      <td>MALE</td>\n",
       "    </tr>\n",
       "    <tr>\n",
       "      <th>469</th>\n",
       "      <td>240506</td>\n",
       "      <td>Yoqubov Shohjaxon Shavkat o‘g‘li</td>\n",
       "      <td>1</td>\n",
       "      <td>sh.yoqubov@newuu.uz</td>\n",
       "      <td>Enrolled</td>\n",
       "      <td>SCHOOL OF HUMANITIES, NATURAL &amp; SOCIAL SCIENCES</td>\n",
       "      <td>Pedagogy</td>\n",
       "      <td>{'M1': '0', 'M2': '0', 'M3': '0', 'M4': '0'}</td>\n",
       "      <td>{'T1': '0', 'T2': '0', 'T3': '0', 'T4': '0'}</td>\n",
       "      <td>{'W1': ['MATH 106', ['PHYS101 Physics 1 -  Spr...</td>\n",
       "      <td>{'TH1': '0', 'TH2': '0', 'TH3': '0', 'TH4': '0'}</td>\n",
       "      <td>{'F1': '0', 'F2': '0', 'F3': '0', 'F4': '0'}</td>\n",
       "      <td>MALE</td>\n",
       "    </tr>\n",
       "    <tr>\n",
       "      <th>470</th>\n",
       "      <td>240510</td>\n",
       "      <td>Raximov Azizbek Bektashovich</td>\n",
       "      <td>1</td>\n",
       "      <td>a.raximov@newuu.uz</td>\n",
       "      <td>Enrolled</td>\n",
       "      <td>SCHOOL OF COMPUTING</td>\n",
       "      <td>Software Engineering</td>\n",
       "      <td>{'M1': '0', 'M2': ['MATH 106', ['MATH111 Calcu...</td>\n",
       "      <td>{'T1': '0', 'T2': '0', 'T3': '0', 'T4': '0'}</td>\n",
       "      <td>{'W1': ['MATH 106', ['PHYS101 Physics 1 -  Spr...</td>\n",
       "      <td>{'TH1': '0', 'TH2': '0', 'TH3': '0', 'TH4': '0'}</td>\n",
       "      <td>{'F1': '0', 'F2': '0', 'F3': '0', 'F4': '0'}</td>\n",
       "      <td>MALE</td>\n",
       "    </tr>\n",
       "    <tr>\n",
       "      <th>471</th>\n",
       "      <td>240511</td>\n",
       "      <td>Muxiddinova Shaxzodabonu Zafarovna</td>\n",
       "      <td>1</td>\n",
       "      <td>sh.muxiddinova@newuu.uz</td>\n",
       "      <td>Enrolled</td>\n",
       "      <td>SCHOOL OF MANAGEMENT</td>\n",
       "      <td>Industrial Management</td>\n",
       "      <td>{'M1': '0', 'M2': ['MATH 106', ['MATH111 Calcu...</td>\n",
       "      <td>{'T1': '0', 'T2': '0', 'T3': '0', 'T4': '0'}</td>\n",
       "      <td>{'W1': '0', 'W2': '0', 'W3': '0', 'W4': '0'}</td>\n",
       "      <td>{'TH1': '0', 'TH2': '0', 'TH3': '0', 'TH4': '0'}</td>\n",
       "      <td>{'F1': '0', 'F2': '0', 'F3': '0', 'F4': '0'}</td>\n",
       "      <td>FEMALE</td>\n",
       "    </tr>\n",
       "  </tbody>\n",
       "</table>\n",
       "<p>472 rows × 13 columns</p>\n",
       "</div>"
      ]
     },
     "execution_count": 11,
     "metadata": {},
     "output_type": "execute_result"
    }
   ],
   "execution_count": 11
  },
  {
   "metadata": {
    "ExecuteTime": {
     "end_time": "2025-08-10T14:04:41.019277Z",
     "start_time": "2025-08-10T14:04:41.017146Z"
    }
   },
   "cell_type": "code",
   "source": [
    "men = 182 + 73 + 17 + 9 + 5 + 4 + 3 + 2 + 2 + 2 + 2 + 12 + 4 + 64\n",
    "women = 472 - men\n",
    "# names = df['FULLNAME'].apply(lambda name: name.split()[-1])"
   ],
   "id": "7c1cca80ba3dad96",
   "outputs": [],
   "execution_count": 12
  },
  {
   "metadata": {
    "ExecuteTime": {
     "end_time": "2025-08-10T14:04:41.427436Z",
     "start_time": "2025-08-10T14:04:41.425896Z"
    }
   },
   "cell_type": "code",
   "source": "# names.value_counts()",
   "id": "f529fe84e9f0ce53",
   "outputs": [],
   "execution_count": 13
  },
  {
   "metadata": {
    "ExecuteTime": {
     "end_time": "2025-08-10T14:04:41.775122Z",
     "start_time": "2025-08-10T14:04:41.772082Z"
    }
   },
   "cell_type": "code",
   "source": "men",
   "id": "493b3bd08b602536",
   "outputs": [
    {
     "data": {
      "text/plain": [
       "381"
      ]
     },
     "execution_count": 14,
     "metadata": {},
     "output_type": "execute_result"
    }
   ],
   "execution_count": 14
  },
  {
   "metadata": {
    "ExecuteTime": {
     "end_time": "2025-08-10T14:04:42.060345Z",
     "start_time": "2025-08-10T14:04:42.057549Z"
    }
   },
   "cell_type": "code",
   "source": "women",
   "id": "2993e8a2cb2e2f39",
   "outputs": [
    {
     "data": {
      "text/plain": [
       "91"
      ]
     },
     "execution_count": 15,
     "metadata": {},
     "output_type": "execute_result"
    }
   ],
   "execution_count": 15
  },
  {
   "metadata": {
    "ExecuteTime": {
     "end_time": "2025-08-10T14:04:42.353748Z",
     "start_time": "2025-08-10T14:04:42.349608Z"
    }
   },
   "cell_type": "code",
   "source": "df['STUDY_YEAR'].value_counts()",
   "id": "ddbadadf52bb2a4e",
   "outputs": [
    {
     "data": {
      "text/plain": [
       "STUDY_YEAR\n",
       "1    178\n",
       "2    167\n",
       "3     72\n",
       "4     55\n",
       "Name: count, dtype: int64"
      ]
     },
     "execution_count": 16,
     "metadata": {},
     "output_type": "execute_result"
    }
   ],
   "execution_count": 16
  },
  {
   "metadata": {
    "ExecuteTime": {
     "end_time": "2025-08-10T14:04:42.654898Z",
     "start_time": "2025-08-10T14:04:42.651236Z"
    }
   },
   "cell_type": "code",
   "source": "df['EDUCATION_PROGRAM'].value_counts()",
   "id": "f70641267be7078",
   "outputs": [
    {
     "data": {
      "text/plain": [
       "EDUCATION_PROGRAM\n",
       "Software Engineering                  140\n",
       "Economics and Data Science            102\n",
       "Industrial Management                  60\n",
       "Mechanical Engineering                 49\n",
       "Cyber Security                         32\n",
       "Chemical and Materials Engineering     30\n",
       "AI and Robotics                        21\n",
       "Pedagogy                               19\n",
       "Applied Mathematics                    19\n",
       "Name: count, dtype: int64"
      ]
     },
     "execution_count": 17,
     "metadata": {},
     "output_type": "execute_result"
    }
   ],
   "execution_count": 17
  },
  {
   "metadata": {
    "ExecuteTime": {
     "end_time": "2025-08-10T14:04:42.948216Z",
     "start_time": "2025-08-10T14:04:42.945736Z"
    }
   },
   "cell_type": "code",
   "source": "men",
   "id": "cf2e88c0658e64b4",
   "outputs": [
    {
     "data": {
      "text/plain": [
       "381"
      ]
     },
     "execution_count": 18,
     "metadata": {},
     "output_type": "execute_result"
    }
   ],
   "execution_count": 18
  },
  {
   "metadata": {
    "ExecuteTime": {
     "end_time": "2025-08-10T14:04:43.244096Z",
     "start_time": "2025-08-10T14:04:43.241348Z"
    }
   },
   "cell_type": "code",
   "source": "women",
   "id": "16813e23a3c3b506",
   "outputs": [
    {
     "data": {
      "text/plain": [
       "91"
      ]
     },
     "execution_count": 19,
     "metadata": {},
     "output_type": "execute_result"
    }
   ],
   "execution_count": 19
  },
  {
   "metadata": {
    "ExecuteTime": {
     "end_time": "2025-08-10T14:04:43.544784Z",
     "start_time": "2025-08-10T14:04:43.524047Z"
    }
   },
   "cell_type": "code",
   "source": "df",
   "id": "61bae728f47f4ed8",
   "outputs": [
    {
     "data": {
      "text/plain": [
       "         ID                               FULLNAME  STUDY_YEAR  \\\n",
       "0    210006   Urazimbetova Miyrigul Xojaaxmet qizi           4   \n",
       "1    210009    Goyibnazarov Ruzmatboy Oybek o‘g‘li           4   \n",
       "2    210015           Mirzabayev Damir Baxodir uli           3   \n",
       "3    210017        Shinpolatov Nurdaulet Marat uli           4   \n",
       "4    210018  Xolmurodov Bunyodbek Ruslanbek o‘g‘li           4   \n",
       "..      ...                                    ...         ...   \n",
       "467  240498      Ibroximov Ibrohimjon Murod o'g'li           1   \n",
       "468  240502        Adilov Abdumajid Abduqayumovich           1   \n",
       "469  240506       Yoqubov Shohjaxon Shavkat o‘g‘li           1   \n",
       "470  240510           Raximov Azizbek Bektashovich           1   \n",
       "471  240511     Muxiddinova Shaxzodabonu Zafarovna           1   \n",
       "\n",
       "                       EMAIL    STATUS  \\\n",
       "0           2110006@newuu.uz  Enrolled   \n",
       "1           2110009@newuu.uz  Enrolled   \n",
       "2           2110015@newuu.uz  Enrolled   \n",
       "3           2110017@newuu.uz  Enrolled   \n",
       "4           2110018@newuu.uz  Enrolled   \n",
       "..                       ...       ...   \n",
       "467     i.ibrohimov@newuu.uz  Enrolled   \n",
       "468        a.adilov@newuu.uz  Enrolled   \n",
       "469      sh.yoqubov@newuu.uz  Enrolled   \n",
       "470       a.raximov@newuu.uz  Enrolled   \n",
       "471  sh.muxiddinova@newuu.uz  Enrolled   \n",
       "\n",
       "                                              SCHOOL  \\\n",
       "0                              SCHOOL OF ENGINEERING   \n",
       "1                              SCHOOL OF ENGINEERING   \n",
       "2                                SCHOOL OF COMPUTING   \n",
       "3                                SCHOOL OF COMPUTING   \n",
       "4                                SCHOOL OF COMPUTING   \n",
       "..                                               ...   \n",
       "467  SCHOOL OF HUMANITIES, NATURAL & SOCIAL SCIENCES   \n",
       "468  SCHOOL OF HUMANITIES, NATURAL & SOCIAL SCIENCES   \n",
       "469  SCHOOL OF HUMANITIES, NATURAL & SOCIAL SCIENCES   \n",
       "470                              SCHOOL OF COMPUTING   \n",
       "471                             SCHOOL OF MANAGEMENT   \n",
       "\n",
       "                      EDUCATION_PROGRAM  \\\n",
       "0    Chemical and Materials Engineering   \n",
       "1                Mechanical Engineering   \n",
       "2                  Software Engineering   \n",
       "3                  Software Engineering   \n",
       "4                  Software Engineering   \n",
       "..                                  ...   \n",
       "467                 Applied Mathematics   \n",
       "468          Economics and Data Science   \n",
       "469                            Pedagogy   \n",
       "470                Software Engineering   \n",
       "471               Industrial Management   \n",
       "\n",
       "                                                MONDAY  \\\n",
       "0    {'M1': ['MATH 205', ['Calculus 2 - Fall 2024']...   \n",
       "1    {'M1': ['MATH 105', ['MATH211 Calculus 2 - Spr...   \n",
       "2    {'M1': '0', 'M2': ['MATH 205', ['SEC111 Comput...   \n",
       "3         {'M1': '0', 'M2': '0', 'M3': '0', 'M4': '0'}   \n",
       "4    {'M1': '0', 'M2': ['MATH 205', ['SEC111 Comput...   \n",
       "..                                                 ...   \n",
       "467       {'M1': '0', 'M2': '0', 'M3': '0', 'M4': '0'}   \n",
       "468  {'M1': ['MATH 107', ['MATH211 Calculus 2 - Spr...   \n",
       "469       {'M1': '0', 'M2': '0', 'M3': '0', 'M4': '0'}   \n",
       "470  {'M1': '0', 'M2': ['MATH 106', ['MATH111 Calcu...   \n",
       "471  {'M1': '0', 'M2': ['MATH 106', ['MATH111 Calcu...   \n",
       "\n",
       "                                               TUESDAY  \\\n",
       "0         {'T1': '0', 'T2': '0', 'T3': '0', 'T4': '0'}   \n",
       "1         {'T1': '0', 'T2': '0', 'T3': '0', 'T4': '0'}   \n",
       "2    {'T1': '0', 'T2': ['MATH 105', ['Numerical Met...   \n",
       "3         {'T1': '0', 'T2': '0', 'T3': '0', 'T4': '0'}   \n",
       "4         {'T1': '0', 'T2': '0', 'T3': '0', 'T4': '0'}   \n",
       "..                                                 ...   \n",
       "467       {'T1': '0', 'T2': '0', 'T3': '0', 'T4': '0'}   \n",
       "468       {'T1': '0', 'T2': '0', 'T3': '0', 'T4': '0'}   \n",
       "469       {'T1': '0', 'T2': '0', 'T3': '0', 'T4': '0'}   \n",
       "470       {'T1': '0', 'T2': '0', 'T3': '0', 'T4': '0'}   \n",
       "471       {'T1': '0', 'T2': '0', 'T3': '0', 'T4': '0'}   \n",
       "\n",
       "                                             WEDNESDAY  \\\n",
       "0         {'W1': '0', 'W2': '0', 'W3': '0', 'W4': '0'}   \n",
       "1    {'W1': '0', 'W2': ['MATH B01', ['Computational...   \n",
       "2    {'W1': '0', 'W2': ['MATH 105', ['Microeconomic...   \n",
       "3         {'W1': '0', 'W2': '0', 'W3': '0', 'W4': '0'}   \n",
       "4         {'W1': '0', 'W2': '0', 'W3': '0', 'W4': '0'}   \n",
       "..                                                 ...   \n",
       "467  {'W1': ['MATH 105', ['Nanotechnology and Advan...   \n",
       "468       {'W1': '0', 'W2': '0', 'W3': '0', 'W4': '0'}   \n",
       "469  {'W1': ['MATH 106', ['PHYS101 Physics 1 -  Spr...   \n",
       "470  {'W1': ['MATH 106', ['PHYS101 Physics 1 -  Spr...   \n",
       "471       {'W1': '0', 'W2': '0', 'W3': '0', 'W4': '0'}   \n",
       "\n",
       "                                              THURSDAY  \\\n",
       "0     {'TH1': '0', 'TH2': '0', 'TH3': '0', 'TH4': '0'}   \n",
       "1     {'TH1': '0', 'TH2': '0', 'TH3': '0', 'TH4': '0'}   \n",
       "2     {'TH1': '0', 'TH2': '0', 'TH3': '0', 'TH4': '0'}   \n",
       "3    {'TH1': '0', 'TH2': ['MATH 105', ['Artifical I...   \n",
       "4    {'TH1': '0', 'TH2': ['MATH 105', ['Artifical I...   \n",
       "..                                                 ...   \n",
       "467   {'TH1': '0', 'TH2': '0', 'TH3': '0', 'TH4': '0'}   \n",
       "468   {'TH1': '0', 'TH2': '0', 'TH3': '0', 'TH4': '0'}   \n",
       "469   {'TH1': '0', 'TH2': '0', 'TH3': '0', 'TH4': '0'}   \n",
       "470   {'TH1': '0', 'TH2': '0', 'TH3': '0', 'TH4': '0'}   \n",
       "471   {'TH1': '0', 'TH2': '0', 'TH3': '0', 'TH4': '0'}   \n",
       "\n",
       "                                                FRIDAY  GENDER  \n",
       "0         {'F1': '0', 'F2': '0', 'F3': '0', 'F4': '0'}  FEMALE  \n",
       "1         {'F1': '0', 'F2': '0', 'F3': '0', 'F4': '0'}    MALE  \n",
       "2         {'F1': '0', 'F2': '0', 'F3': '0', 'F4': '0'}    MALE  \n",
       "3         {'F1': '0', 'F2': '0', 'F3': '0', 'F4': '0'}    MALE  \n",
       "4    {'F1': '0', 'F2': ['MATH 105', ['Fluid Mechani...    MALE  \n",
       "..                                                 ...     ...  \n",
       "467       {'F1': '0', 'F2': '0', 'F3': '0', 'F4': '0'}    MALE  \n",
       "468       {'F1': '0', 'F2': '0', 'F3': '0', 'F4': '0'}    MALE  \n",
       "469       {'F1': '0', 'F2': '0', 'F3': '0', 'F4': '0'}    MALE  \n",
       "470       {'F1': '0', 'F2': '0', 'F3': '0', 'F4': '0'}    MALE  \n",
       "471       {'F1': '0', 'F2': '0', 'F3': '0', 'F4': '0'}  FEMALE  \n",
       "\n",
       "[472 rows x 13 columns]"
      ],
      "text/html": [
       "<div>\n",
       "<style scoped>\n",
       "    .dataframe tbody tr th:only-of-type {\n",
       "        vertical-align: middle;\n",
       "    }\n",
       "\n",
       "    .dataframe tbody tr th {\n",
       "        vertical-align: top;\n",
       "    }\n",
       "\n",
       "    .dataframe thead th {\n",
       "        text-align: right;\n",
       "    }\n",
       "</style>\n",
       "<table border=\"1\" class=\"dataframe\">\n",
       "  <thead>\n",
       "    <tr style=\"text-align: right;\">\n",
       "      <th></th>\n",
       "      <th>ID</th>\n",
       "      <th>FULLNAME</th>\n",
       "      <th>STUDY_YEAR</th>\n",
       "      <th>EMAIL</th>\n",
       "      <th>STATUS</th>\n",
       "      <th>SCHOOL</th>\n",
       "      <th>EDUCATION_PROGRAM</th>\n",
       "      <th>MONDAY</th>\n",
       "      <th>TUESDAY</th>\n",
       "      <th>WEDNESDAY</th>\n",
       "      <th>THURSDAY</th>\n",
       "      <th>FRIDAY</th>\n",
       "      <th>GENDER</th>\n",
       "    </tr>\n",
       "  </thead>\n",
       "  <tbody>\n",
       "    <tr>\n",
       "      <th>0</th>\n",
       "      <td>210006</td>\n",
       "      <td>Urazimbetova Miyrigul Xojaaxmet qizi</td>\n",
       "      <td>4</td>\n",
       "      <td>2110006@newuu.uz</td>\n",
       "      <td>Enrolled</td>\n",
       "      <td>SCHOOL OF ENGINEERING</td>\n",
       "      <td>Chemical and Materials Engineering</td>\n",
       "      <td>{'M1': ['MATH 205', ['Calculus 2 - Fall 2024']...</td>\n",
       "      <td>{'T1': '0', 'T2': '0', 'T3': '0', 'T4': '0'}</td>\n",
       "      <td>{'W1': '0', 'W2': '0', 'W3': '0', 'W4': '0'}</td>\n",
       "      <td>{'TH1': '0', 'TH2': '0', 'TH3': '0', 'TH4': '0'}</td>\n",
       "      <td>{'F1': '0', 'F2': '0', 'F3': '0', 'F4': '0'}</td>\n",
       "      <td>FEMALE</td>\n",
       "    </tr>\n",
       "    <tr>\n",
       "      <th>1</th>\n",
       "      <td>210009</td>\n",
       "      <td>Goyibnazarov Ruzmatboy Oybek o‘g‘li</td>\n",
       "      <td>4</td>\n",
       "      <td>2110009@newuu.uz</td>\n",
       "      <td>Enrolled</td>\n",
       "      <td>SCHOOL OF ENGINEERING</td>\n",
       "      <td>Mechanical Engineering</td>\n",
       "      <td>{'M1': ['MATH 105', ['MATH211 Calculus 2 - Spr...</td>\n",
       "      <td>{'T1': '0', 'T2': '0', 'T3': '0', 'T4': '0'}</td>\n",
       "      <td>{'W1': '0', 'W2': ['MATH B01', ['Computational...</td>\n",
       "      <td>{'TH1': '0', 'TH2': '0', 'TH3': '0', 'TH4': '0'}</td>\n",
       "      <td>{'F1': '0', 'F2': '0', 'F3': '0', 'F4': '0'}</td>\n",
       "      <td>MALE</td>\n",
       "    </tr>\n",
       "    <tr>\n",
       "      <th>2</th>\n",
       "      <td>210015</td>\n",
       "      <td>Mirzabayev Damir Baxodir uli</td>\n",
       "      <td>3</td>\n",
       "      <td>2110015@newuu.uz</td>\n",
       "      <td>Enrolled</td>\n",
       "      <td>SCHOOL OF COMPUTING</td>\n",
       "      <td>Software Engineering</td>\n",
       "      <td>{'M1': '0', 'M2': ['MATH 205', ['SEC111 Comput...</td>\n",
       "      <td>{'T1': '0', 'T2': ['MATH 105', ['Numerical Met...</td>\n",
       "      <td>{'W1': '0', 'W2': ['MATH 105', ['Microeconomic...</td>\n",
       "      <td>{'TH1': '0', 'TH2': '0', 'TH3': '0', 'TH4': '0'}</td>\n",
       "      <td>{'F1': '0', 'F2': '0', 'F3': '0', 'F4': '0'}</td>\n",
       "      <td>MALE</td>\n",
       "    </tr>\n",
       "    <tr>\n",
       "      <th>3</th>\n",
       "      <td>210017</td>\n",
       "      <td>Shinpolatov Nurdaulet Marat uli</td>\n",
       "      <td>4</td>\n",
       "      <td>2110017@newuu.uz</td>\n",
       "      <td>Enrolled</td>\n",
       "      <td>SCHOOL OF COMPUTING</td>\n",
       "      <td>Software Engineering</td>\n",
       "      <td>{'M1': '0', 'M2': '0', 'M3': '0', 'M4': '0'}</td>\n",
       "      <td>{'T1': '0', 'T2': '0', 'T3': '0', 'T4': '0'}</td>\n",
       "      <td>{'W1': '0', 'W2': '0', 'W3': '0', 'W4': '0'}</td>\n",
       "      <td>{'TH1': '0', 'TH2': ['MATH 105', ['Artifical I...</td>\n",
       "      <td>{'F1': '0', 'F2': '0', 'F3': '0', 'F4': '0'}</td>\n",
       "      <td>MALE</td>\n",
       "    </tr>\n",
       "    <tr>\n",
       "      <th>4</th>\n",
       "      <td>210018</td>\n",
       "      <td>Xolmurodov Bunyodbek Ruslanbek o‘g‘li</td>\n",
       "      <td>4</td>\n",
       "      <td>2110018@newuu.uz</td>\n",
       "      <td>Enrolled</td>\n",
       "      <td>SCHOOL OF COMPUTING</td>\n",
       "      <td>Software Engineering</td>\n",
       "      <td>{'M1': '0', 'M2': ['MATH 205', ['SEC111 Comput...</td>\n",
       "      <td>{'T1': '0', 'T2': '0', 'T3': '0', 'T4': '0'}</td>\n",
       "      <td>{'W1': '0', 'W2': '0', 'W3': '0', 'W4': '0'}</td>\n",
       "      <td>{'TH1': '0', 'TH2': ['MATH 105', ['Artifical I...</td>\n",
       "      <td>{'F1': '0', 'F2': ['MATH 105', ['Fluid Mechani...</td>\n",
       "      <td>MALE</td>\n",
       "    </tr>\n",
       "    <tr>\n",
       "      <th>...</th>\n",
       "      <td>...</td>\n",
       "      <td>...</td>\n",
       "      <td>...</td>\n",
       "      <td>...</td>\n",
       "      <td>...</td>\n",
       "      <td>...</td>\n",
       "      <td>...</td>\n",
       "      <td>...</td>\n",
       "      <td>...</td>\n",
       "      <td>...</td>\n",
       "      <td>...</td>\n",
       "      <td>...</td>\n",
       "      <td>...</td>\n",
       "    </tr>\n",
       "    <tr>\n",
       "      <th>467</th>\n",
       "      <td>240498</td>\n",
       "      <td>Ibroximov Ibrohimjon Murod o'g'li</td>\n",
       "      <td>1</td>\n",
       "      <td>i.ibrohimov@newuu.uz</td>\n",
       "      <td>Enrolled</td>\n",
       "      <td>SCHOOL OF HUMANITIES, NATURAL &amp; SOCIAL SCIENCES</td>\n",
       "      <td>Applied Mathematics</td>\n",
       "      <td>{'M1': '0', 'M2': '0', 'M3': '0', 'M4': '0'}</td>\n",
       "      <td>{'T1': '0', 'T2': '0', 'T3': '0', 'T4': '0'}</td>\n",
       "      <td>{'W1': ['MATH 105', ['Nanotechnology and Advan...</td>\n",
       "      <td>{'TH1': '0', 'TH2': '0', 'TH3': '0', 'TH4': '0'}</td>\n",
       "      <td>{'F1': '0', 'F2': '0', 'F3': '0', 'F4': '0'}</td>\n",
       "      <td>MALE</td>\n",
       "    </tr>\n",
       "    <tr>\n",
       "      <th>468</th>\n",
       "      <td>240502</td>\n",
       "      <td>Adilov Abdumajid Abduqayumovich</td>\n",
       "      <td>1</td>\n",
       "      <td>a.adilov@newuu.uz</td>\n",
       "      <td>Enrolled</td>\n",
       "      <td>SCHOOL OF HUMANITIES, NATURAL &amp; SOCIAL SCIENCES</td>\n",
       "      <td>Economics and Data Science</td>\n",
       "      <td>{'M1': ['MATH 107', ['MATH211 Calculus 2 - Spr...</td>\n",
       "      <td>{'T1': '0', 'T2': '0', 'T3': '0', 'T4': '0'}</td>\n",
       "      <td>{'W1': '0', 'W2': '0', 'W3': '0', 'W4': '0'}</td>\n",
       "      <td>{'TH1': '0', 'TH2': '0', 'TH3': '0', 'TH4': '0'}</td>\n",
       "      <td>{'F1': '0', 'F2': '0', 'F3': '0', 'F4': '0'}</td>\n",
       "      <td>MALE</td>\n",
       "    </tr>\n",
       "    <tr>\n",
       "      <th>469</th>\n",
       "      <td>240506</td>\n",
       "      <td>Yoqubov Shohjaxon Shavkat o‘g‘li</td>\n",
       "      <td>1</td>\n",
       "      <td>sh.yoqubov@newuu.uz</td>\n",
       "      <td>Enrolled</td>\n",
       "      <td>SCHOOL OF HUMANITIES, NATURAL &amp; SOCIAL SCIENCES</td>\n",
       "      <td>Pedagogy</td>\n",
       "      <td>{'M1': '0', 'M2': '0', 'M3': '0', 'M4': '0'}</td>\n",
       "      <td>{'T1': '0', 'T2': '0', 'T3': '0', 'T4': '0'}</td>\n",
       "      <td>{'W1': ['MATH 106', ['PHYS101 Physics 1 -  Spr...</td>\n",
       "      <td>{'TH1': '0', 'TH2': '0', 'TH3': '0', 'TH4': '0'}</td>\n",
       "      <td>{'F1': '0', 'F2': '0', 'F3': '0', 'F4': '0'}</td>\n",
       "      <td>MALE</td>\n",
       "    </tr>\n",
       "    <tr>\n",
       "      <th>470</th>\n",
       "      <td>240510</td>\n",
       "      <td>Raximov Azizbek Bektashovich</td>\n",
       "      <td>1</td>\n",
       "      <td>a.raximov@newuu.uz</td>\n",
       "      <td>Enrolled</td>\n",
       "      <td>SCHOOL OF COMPUTING</td>\n",
       "      <td>Software Engineering</td>\n",
       "      <td>{'M1': '0', 'M2': ['MATH 106', ['MATH111 Calcu...</td>\n",
       "      <td>{'T1': '0', 'T2': '0', 'T3': '0', 'T4': '0'}</td>\n",
       "      <td>{'W1': ['MATH 106', ['PHYS101 Physics 1 -  Spr...</td>\n",
       "      <td>{'TH1': '0', 'TH2': '0', 'TH3': '0', 'TH4': '0'}</td>\n",
       "      <td>{'F1': '0', 'F2': '0', 'F3': '0', 'F4': '0'}</td>\n",
       "      <td>MALE</td>\n",
       "    </tr>\n",
       "    <tr>\n",
       "      <th>471</th>\n",
       "      <td>240511</td>\n",
       "      <td>Muxiddinova Shaxzodabonu Zafarovna</td>\n",
       "      <td>1</td>\n",
       "      <td>sh.muxiddinova@newuu.uz</td>\n",
       "      <td>Enrolled</td>\n",
       "      <td>SCHOOL OF MANAGEMENT</td>\n",
       "      <td>Industrial Management</td>\n",
       "      <td>{'M1': '0', 'M2': ['MATH 106', ['MATH111 Calcu...</td>\n",
       "      <td>{'T1': '0', 'T2': '0', 'T3': '0', 'T4': '0'}</td>\n",
       "      <td>{'W1': '0', 'W2': '0', 'W3': '0', 'W4': '0'}</td>\n",
       "      <td>{'TH1': '0', 'TH2': '0', 'TH3': '0', 'TH4': '0'}</td>\n",
       "      <td>{'F1': '0', 'F2': '0', 'F3': '0', 'F4': '0'}</td>\n",
       "      <td>FEMALE</td>\n",
       "    </tr>\n",
       "  </tbody>\n",
       "</table>\n",
       "<p>472 rows × 13 columns</p>\n",
       "</div>"
      ]
     },
     "execution_count": 20,
     "metadata": {},
     "output_type": "execute_result"
    }
   ],
   "execution_count": 20
  },
  {
   "metadata": {
    "ExecuteTime": {
     "end_time": "2025-08-10T14:04:43.837983Z",
     "start_time": "2025-08-10T14:04:43.834707Z"
    }
   },
   "cell_type": "code",
   "source": "df_for_cs = df[df['SCHOOL'] == 'SCHOOL OF COMPUTING']",
   "id": "c5a33f7ea578f8e3",
   "outputs": [],
   "execution_count": 21
  },
  {
   "metadata": {},
   "cell_type": "markdown",
   "source": [
    "let us make a barchart. This barchart should represent\n",
    "\n",
    "number of students by exam schedule [M1, M2, M3, M4]\n",
    "\n",
    "represents the number of students edu program by edu program\n",
    "\n",
    "on the right side we need other engine that return the room number and what kind of exam taken in this room"
   ],
   "id": "2c7d714a865c44f"
  },
  {
   "metadata": {
    "ExecuteTime": {
     "end_time": "2025-08-10T14:04:44.571083Z",
     "start_time": "2025-08-10T14:04:44.555565Z"
    }
   },
   "cell_type": "code",
   "source": "df_for_cs",
   "id": "1aa77c70f2efd6b9",
   "outputs": [
    {
     "data": {
      "text/plain": [
       "         ID                                      FULLNAME  STUDY_YEAR  \\\n",
       "2    210015                  Mirzabayev Damir Baxodir uli           3   \n",
       "3    210017               Shinpolatov Nurdaulet Marat uli           4   \n",
       "4    210018         Xolmurodov Bunyodbek Ruslanbek o‘g‘li           4   \n",
       "5    210020           Djalolov Suxrobjon Abduvaxob o‘g‘li           4   \n",
       "6    210060  Sobirjonov Muxammadazizbek Sherzodbek o‘g‘li           4   \n",
       "..      ...                                           ...         ...   \n",
       "460  240454               Asatullayev Elbek Behzod o‘g‘li           1   \n",
       "461  240464                  Sultonov Ozodbek Mansurovich           1   \n",
       "462  240465                Mavlonov Hasan Muzaffar o‘g‘li           1   \n",
       "464  240483          Abdurasulov Abdurashid Sarvar o‘g‘li           1   \n",
       "470  240510                  Raximov Azizbek Bektashovich           1   \n",
       "\n",
       "                      EMAIL    STATUS               SCHOOL  \\\n",
       "2          2110015@newuu.uz  Enrolled  SCHOOL OF COMPUTING   \n",
       "3          2110017@newuu.uz  Enrolled  SCHOOL OF COMPUTING   \n",
       "4          2110018@newuu.uz  Enrolled  SCHOOL OF COMPUTING   \n",
       "5          2110020@newuu.uz  Enrolled  SCHOOL OF COMPUTING   \n",
       "6          2110060@newuu.uz  Enrolled  SCHOOL OF COMPUTING   \n",
       "..                      ...       ...                  ...   \n",
       "460  e.asatullayev@newuu.uz  Enrolled  SCHOOL OF COMPUTING   \n",
       "461     o.sultonov@newuu.uz  Enrolled  SCHOOL OF COMPUTING   \n",
       "462     h.mavlonov@newuu.uz  Enrolled  SCHOOL OF COMPUTING   \n",
       "464  a.abdurasulov@newuu.uz  Enrolled  SCHOOL OF COMPUTING   \n",
       "470      a.raximov@newuu.uz  Enrolled  SCHOOL OF COMPUTING   \n",
       "\n",
       "        EDUCATION_PROGRAM                                             MONDAY  \\\n",
       "2    Software Engineering  {'M1': '0', 'M2': ['MATH 205', ['SEC111 Comput...   \n",
       "3    Software Engineering       {'M1': '0', 'M2': '0', 'M3': '0', 'M4': '0'}   \n",
       "4    Software Engineering  {'M1': '0', 'M2': ['MATH 205', ['SEC111 Comput...   \n",
       "5    Software Engineering       {'M1': '0', 'M2': '0', 'M3': '0', 'M4': '0'}   \n",
       "6    Software Engineering       {'M1': '0', 'M2': '0', 'M3': '0', 'M4': '0'}   \n",
       "..                    ...                                                ...   \n",
       "460  Software Engineering       {'M1': '0', 'M2': '0', 'M3': '0', 'M4': '0'}   \n",
       "461  Software Engineering       {'M1': '0', 'M2': '0', 'M3': '0', 'M4': '0'}   \n",
       "462  Software Engineering  {'M1': '0', 'M2': ['MATH 106', ['MATH111 Calcu...   \n",
       "464       AI and Robotics  {'M1': ['MATH 107', ['MATH211 Calculus 2 - Spr...   \n",
       "470  Software Engineering  {'M1': '0', 'M2': ['MATH 106', ['MATH111 Calcu...   \n",
       "\n",
       "                                               TUESDAY  \\\n",
       "2    {'T1': '0', 'T2': ['MATH 105', ['Numerical Met...   \n",
       "3         {'T1': '0', 'T2': '0', 'T3': '0', 'T4': '0'}   \n",
       "4         {'T1': '0', 'T2': '0', 'T3': '0', 'T4': '0'}   \n",
       "5         {'T1': '0', 'T2': '0', 'T3': '0', 'T4': '0'}   \n",
       "6         {'T1': '0', 'T2': '0', 'T3': '0', 'T4': '0'}   \n",
       "..                                                 ...   \n",
       "460  {'T1': '0', 'T2': ['MATH 205', ['Object Orient...   \n",
       "461       {'T1': '0', 'T2': '0', 'T3': '0', 'T4': '0'}   \n",
       "462       {'T1': '0', 'T2': '0', 'T3': '0', 'T4': '0'}   \n",
       "464       {'T1': '0', 'T2': '0', 'T3': '0', 'T4': '0'}   \n",
       "470       {'T1': '0', 'T2': '0', 'T3': '0', 'T4': '0'}   \n",
       "\n",
       "                                             WEDNESDAY  \\\n",
       "2    {'W1': '0', 'W2': ['MATH 105', ['Microeconomic...   \n",
       "3         {'W1': '0', 'W2': '0', 'W3': '0', 'W4': '0'}   \n",
       "4         {'W1': '0', 'W2': '0', 'W3': '0', 'W4': '0'}   \n",
       "5         {'W1': '0', 'W2': '0', 'W3': '0', 'W4': '0'}   \n",
       "6         {'W1': '0', 'W2': '0', 'W3': '0', 'W4': '0'}   \n",
       "..                                                 ...   \n",
       "460       {'W1': '0', 'W2': '0', 'W3': '0', 'W4': '0'}   \n",
       "461  {'W1': ['MATH 106', ['PHYS101 Physics 1 -  Spr...   \n",
       "462  {'W1': ['MATH 106', ['PHYS101 Physics 1 -  Spr...   \n",
       "464       {'W1': '0', 'W2': '0', 'W3': '0', 'W4': '0'}   \n",
       "470  {'W1': ['MATH 106', ['PHYS101 Physics 1 -  Spr...   \n",
       "\n",
       "                                              THURSDAY  \\\n",
       "2     {'TH1': '0', 'TH2': '0', 'TH3': '0', 'TH4': '0'}   \n",
       "3    {'TH1': '0', 'TH2': ['MATH 105', ['Artifical I...   \n",
       "4    {'TH1': '0', 'TH2': ['MATH 105', ['Artifical I...   \n",
       "5    {'TH1': '0', 'TH2': ['MATH 105', ['Artifical I...   \n",
       "6     {'TH1': '0', 'TH2': '0', 'TH3': '0', 'TH4': '0'}   \n",
       "..                                                 ...   \n",
       "460   {'TH1': '0', 'TH2': '0', 'TH3': '0', 'TH4': '0'}   \n",
       "461   {'TH1': '0', 'TH2': '0', 'TH3': '0', 'TH4': '0'}   \n",
       "462   {'TH1': '0', 'TH2': '0', 'TH3': '0', 'TH4': '0'}   \n",
       "464   {'TH1': '0', 'TH2': '0', 'TH3': '0', 'TH4': '0'}   \n",
       "470   {'TH1': '0', 'TH2': '0', 'TH3': '0', 'TH4': '0'}   \n",
       "\n",
       "                                                FRIDAY GENDER  \n",
       "2         {'F1': '0', 'F2': '0', 'F3': '0', 'F4': '0'}   MALE  \n",
       "3         {'F1': '0', 'F2': '0', 'F3': '0', 'F4': '0'}   MALE  \n",
       "4    {'F1': '0', 'F2': ['MATH 105', ['Fluid Mechani...   MALE  \n",
       "5         {'F1': '0', 'F2': '0', 'F3': '0', 'F4': '0'}   MALE  \n",
       "6    {'F1': '0', 'F2': ['MATH 105', ['Fluid Mechani...   MALE  \n",
       "..                                                 ...    ...  \n",
       "460       {'F1': '0', 'F2': '0', 'F3': '0', 'F4': '0'}   MALE  \n",
       "461       {'F1': '0', 'F2': '0', 'F3': '0', 'F4': '0'}   MALE  \n",
       "462       {'F1': '0', 'F2': '0', 'F3': '0', 'F4': '0'}   MALE  \n",
       "464       {'F1': '0', 'F2': '0', 'F3': '0', 'F4': '0'}   MALE  \n",
       "470       {'F1': '0', 'F2': '0', 'F3': '0', 'F4': '0'}   MALE  \n",
       "\n",
       "[193 rows x 13 columns]"
      ],
      "text/html": [
       "<div>\n",
       "<style scoped>\n",
       "    .dataframe tbody tr th:only-of-type {\n",
       "        vertical-align: middle;\n",
       "    }\n",
       "\n",
       "    .dataframe tbody tr th {\n",
       "        vertical-align: top;\n",
       "    }\n",
       "\n",
       "    .dataframe thead th {\n",
       "        text-align: right;\n",
       "    }\n",
       "</style>\n",
       "<table border=\"1\" class=\"dataframe\">\n",
       "  <thead>\n",
       "    <tr style=\"text-align: right;\">\n",
       "      <th></th>\n",
       "      <th>ID</th>\n",
       "      <th>FULLNAME</th>\n",
       "      <th>STUDY_YEAR</th>\n",
       "      <th>EMAIL</th>\n",
       "      <th>STATUS</th>\n",
       "      <th>SCHOOL</th>\n",
       "      <th>EDUCATION_PROGRAM</th>\n",
       "      <th>MONDAY</th>\n",
       "      <th>TUESDAY</th>\n",
       "      <th>WEDNESDAY</th>\n",
       "      <th>THURSDAY</th>\n",
       "      <th>FRIDAY</th>\n",
       "      <th>GENDER</th>\n",
       "    </tr>\n",
       "  </thead>\n",
       "  <tbody>\n",
       "    <tr>\n",
       "      <th>2</th>\n",
       "      <td>210015</td>\n",
       "      <td>Mirzabayev Damir Baxodir uli</td>\n",
       "      <td>3</td>\n",
       "      <td>2110015@newuu.uz</td>\n",
       "      <td>Enrolled</td>\n",
       "      <td>SCHOOL OF COMPUTING</td>\n",
       "      <td>Software Engineering</td>\n",
       "      <td>{'M1': '0', 'M2': ['MATH 205', ['SEC111 Comput...</td>\n",
       "      <td>{'T1': '0', 'T2': ['MATH 105', ['Numerical Met...</td>\n",
       "      <td>{'W1': '0', 'W2': ['MATH 105', ['Microeconomic...</td>\n",
       "      <td>{'TH1': '0', 'TH2': '0', 'TH3': '0', 'TH4': '0'}</td>\n",
       "      <td>{'F1': '0', 'F2': '0', 'F3': '0', 'F4': '0'}</td>\n",
       "      <td>MALE</td>\n",
       "    </tr>\n",
       "    <tr>\n",
       "      <th>3</th>\n",
       "      <td>210017</td>\n",
       "      <td>Shinpolatov Nurdaulet Marat uli</td>\n",
       "      <td>4</td>\n",
       "      <td>2110017@newuu.uz</td>\n",
       "      <td>Enrolled</td>\n",
       "      <td>SCHOOL OF COMPUTING</td>\n",
       "      <td>Software Engineering</td>\n",
       "      <td>{'M1': '0', 'M2': '0', 'M3': '0', 'M4': '0'}</td>\n",
       "      <td>{'T1': '0', 'T2': '0', 'T3': '0', 'T4': '0'}</td>\n",
       "      <td>{'W1': '0', 'W2': '0', 'W3': '0', 'W4': '0'}</td>\n",
       "      <td>{'TH1': '0', 'TH2': ['MATH 105', ['Artifical I...</td>\n",
       "      <td>{'F1': '0', 'F2': '0', 'F3': '0', 'F4': '0'}</td>\n",
       "      <td>MALE</td>\n",
       "    </tr>\n",
       "    <tr>\n",
       "      <th>4</th>\n",
       "      <td>210018</td>\n",
       "      <td>Xolmurodov Bunyodbek Ruslanbek o‘g‘li</td>\n",
       "      <td>4</td>\n",
       "      <td>2110018@newuu.uz</td>\n",
       "      <td>Enrolled</td>\n",
       "      <td>SCHOOL OF COMPUTING</td>\n",
       "      <td>Software Engineering</td>\n",
       "      <td>{'M1': '0', 'M2': ['MATH 205', ['SEC111 Comput...</td>\n",
       "      <td>{'T1': '0', 'T2': '0', 'T3': '0', 'T4': '0'}</td>\n",
       "      <td>{'W1': '0', 'W2': '0', 'W3': '0', 'W4': '0'}</td>\n",
       "      <td>{'TH1': '0', 'TH2': ['MATH 105', ['Artifical I...</td>\n",
       "      <td>{'F1': '0', 'F2': ['MATH 105', ['Fluid Mechani...</td>\n",
       "      <td>MALE</td>\n",
       "    </tr>\n",
       "    <tr>\n",
       "      <th>5</th>\n",
       "      <td>210020</td>\n",
       "      <td>Djalolov Suxrobjon Abduvaxob o‘g‘li</td>\n",
       "      <td>4</td>\n",
       "      <td>2110020@newuu.uz</td>\n",
       "      <td>Enrolled</td>\n",
       "      <td>SCHOOL OF COMPUTING</td>\n",
       "      <td>Software Engineering</td>\n",
       "      <td>{'M1': '0', 'M2': '0', 'M3': '0', 'M4': '0'}</td>\n",
       "      <td>{'T1': '0', 'T2': '0', 'T3': '0', 'T4': '0'}</td>\n",
       "      <td>{'W1': '0', 'W2': '0', 'W3': '0', 'W4': '0'}</td>\n",
       "      <td>{'TH1': '0', 'TH2': ['MATH 105', ['Artifical I...</td>\n",
       "      <td>{'F1': '0', 'F2': '0', 'F3': '0', 'F4': '0'}</td>\n",
       "      <td>MALE</td>\n",
       "    </tr>\n",
       "    <tr>\n",
       "      <th>6</th>\n",
       "      <td>210060</td>\n",
       "      <td>Sobirjonov Muxammadazizbek Sherzodbek o‘g‘li</td>\n",
       "      <td>4</td>\n",
       "      <td>2110060@newuu.uz</td>\n",
       "      <td>Enrolled</td>\n",
       "      <td>SCHOOL OF COMPUTING</td>\n",
       "      <td>Software Engineering</td>\n",
       "      <td>{'M1': '0', 'M2': '0', 'M3': '0', 'M4': '0'}</td>\n",
       "      <td>{'T1': '0', 'T2': '0', 'T3': '0', 'T4': '0'}</td>\n",
       "      <td>{'W1': '0', 'W2': '0', 'W3': '0', 'W4': '0'}</td>\n",
       "      <td>{'TH1': '0', 'TH2': '0', 'TH3': '0', 'TH4': '0'}</td>\n",
       "      <td>{'F1': '0', 'F2': ['MATH 105', ['Fluid Mechani...</td>\n",
       "      <td>MALE</td>\n",
       "    </tr>\n",
       "    <tr>\n",
       "      <th>...</th>\n",
       "      <td>...</td>\n",
       "      <td>...</td>\n",
       "      <td>...</td>\n",
       "      <td>...</td>\n",
       "      <td>...</td>\n",
       "      <td>...</td>\n",
       "      <td>...</td>\n",
       "      <td>...</td>\n",
       "      <td>...</td>\n",
       "      <td>...</td>\n",
       "      <td>...</td>\n",
       "      <td>...</td>\n",
       "      <td>...</td>\n",
       "    </tr>\n",
       "    <tr>\n",
       "      <th>460</th>\n",
       "      <td>240454</td>\n",
       "      <td>Asatullayev Elbek Behzod o‘g‘li</td>\n",
       "      <td>1</td>\n",
       "      <td>e.asatullayev@newuu.uz</td>\n",
       "      <td>Enrolled</td>\n",
       "      <td>SCHOOL OF COMPUTING</td>\n",
       "      <td>Software Engineering</td>\n",
       "      <td>{'M1': '0', 'M2': '0', 'M3': '0', 'M4': '0'}</td>\n",
       "      <td>{'T1': '0', 'T2': ['MATH 205', ['Object Orient...</td>\n",
       "      <td>{'W1': '0', 'W2': '0', 'W3': '0', 'W4': '0'}</td>\n",
       "      <td>{'TH1': '0', 'TH2': '0', 'TH3': '0', 'TH4': '0'}</td>\n",
       "      <td>{'F1': '0', 'F2': '0', 'F3': '0', 'F4': '0'}</td>\n",
       "      <td>MALE</td>\n",
       "    </tr>\n",
       "    <tr>\n",
       "      <th>461</th>\n",
       "      <td>240464</td>\n",
       "      <td>Sultonov Ozodbek Mansurovich</td>\n",
       "      <td>1</td>\n",
       "      <td>o.sultonov@newuu.uz</td>\n",
       "      <td>Enrolled</td>\n",
       "      <td>SCHOOL OF COMPUTING</td>\n",
       "      <td>Software Engineering</td>\n",
       "      <td>{'M1': '0', 'M2': '0', 'M3': '0', 'M4': '0'}</td>\n",
       "      <td>{'T1': '0', 'T2': '0', 'T3': '0', 'T4': '0'}</td>\n",
       "      <td>{'W1': ['MATH 106', ['PHYS101 Physics 1 -  Spr...</td>\n",
       "      <td>{'TH1': '0', 'TH2': '0', 'TH3': '0', 'TH4': '0'}</td>\n",
       "      <td>{'F1': '0', 'F2': '0', 'F3': '0', 'F4': '0'}</td>\n",
       "      <td>MALE</td>\n",
       "    </tr>\n",
       "    <tr>\n",
       "      <th>462</th>\n",
       "      <td>240465</td>\n",
       "      <td>Mavlonov Hasan Muzaffar o‘g‘li</td>\n",
       "      <td>1</td>\n",
       "      <td>h.mavlonov@newuu.uz</td>\n",
       "      <td>Enrolled</td>\n",
       "      <td>SCHOOL OF COMPUTING</td>\n",
       "      <td>Software Engineering</td>\n",
       "      <td>{'M1': '0', 'M2': ['MATH 106', ['MATH111 Calcu...</td>\n",
       "      <td>{'T1': '0', 'T2': '0', 'T3': '0', 'T4': '0'}</td>\n",
       "      <td>{'W1': ['MATH 106', ['PHYS101 Physics 1 -  Spr...</td>\n",
       "      <td>{'TH1': '0', 'TH2': '0', 'TH3': '0', 'TH4': '0'}</td>\n",
       "      <td>{'F1': '0', 'F2': '0', 'F3': '0', 'F4': '0'}</td>\n",
       "      <td>MALE</td>\n",
       "    </tr>\n",
       "    <tr>\n",
       "      <th>464</th>\n",
       "      <td>240483</td>\n",
       "      <td>Abdurasulov Abdurashid Sarvar o‘g‘li</td>\n",
       "      <td>1</td>\n",
       "      <td>a.abdurasulov@newuu.uz</td>\n",
       "      <td>Enrolled</td>\n",
       "      <td>SCHOOL OF COMPUTING</td>\n",
       "      <td>AI and Robotics</td>\n",
       "      <td>{'M1': ['MATH 107', ['MATH211 Calculus 2 - Spr...</td>\n",
       "      <td>{'T1': '0', 'T2': '0', 'T3': '0', 'T4': '0'}</td>\n",
       "      <td>{'W1': '0', 'W2': '0', 'W3': '0', 'W4': '0'}</td>\n",
       "      <td>{'TH1': '0', 'TH2': '0', 'TH3': '0', 'TH4': '0'}</td>\n",
       "      <td>{'F1': '0', 'F2': '0', 'F3': '0', 'F4': '0'}</td>\n",
       "      <td>MALE</td>\n",
       "    </tr>\n",
       "    <tr>\n",
       "      <th>470</th>\n",
       "      <td>240510</td>\n",
       "      <td>Raximov Azizbek Bektashovich</td>\n",
       "      <td>1</td>\n",
       "      <td>a.raximov@newuu.uz</td>\n",
       "      <td>Enrolled</td>\n",
       "      <td>SCHOOL OF COMPUTING</td>\n",
       "      <td>Software Engineering</td>\n",
       "      <td>{'M1': '0', 'M2': ['MATH 106', ['MATH111 Calcu...</td>\n",
       "      <td>{'T1': '0', 'T2': '0', 'T3': '0', 'T4': '0'}</td>\n",
       "      <td>{'W1': ['MATH 106', ['PHYS101 Physics 1 -  Spr...</td>\n",
       "      <td>{'TH1': '0', 'TH2': '0', 'TH3': '0', 'TH4': '0'}</td>\n",
       "      <td>{'F1': '0', 'F2': '0', 'F3': '0', 'F4': '0'}</td>\n",
       "      <td>MALE</td>\n",
       "    </tr>\n",
       "  </tbody>\n",
       "</table>\n",
       "<p>193 rows × 13 columns</p>\n",
       "</div>"
      ]
     },
     "execution_count": 22,
     "metadata": {},
     "output_type": "execute_result"
    }
   ],
   "execution_count": 22
  },
  {
   "metadata": {
    "ExecuteTime": {
     "end_time": "2025-08-10T14:04:44.859122Z",
     "start_time": "2025-08-10T14:04:44.856364Z"
    }
   },
   "cell_type": "code",
   "source": [
    "se = df_for_cs[df_for_cs['EDUCATION_PROGRAM'] == 'Software Engineering']\n",
    "cs = df_for_cs[df_for_cs['EDUCATION_PROGRAM'] == 'Cyber Security']\n",
    "ai = df_for_cs[df_for_cs['EDUCATION_PROGRAM'] == 'AI and Robotics']"
   ],
   "id": "6b9dfe8bd0067a7a",
   "outputs": [],
   "execution_count": 23
  },
  {
   "metadata": {
    "ExecuteTime": {
     "end_time": "2025-08-10T14:04:45.199508Z",
     "start_time": "2025-08-10T14:04:45.195799Z"
    }
   },
   "cell_type": "code",
   "source": [
    "se = se[['STUDY_YEAR','SCHOOL', 'EDUCATION_PROGRAM', 'MONDAY']]\n",
    "cs = cs[['STUDY_YEAR','SCHOOL', 'EDUCATION_PROGRAM', 'MONDAY']]\n",
    "ai = ai[['STUDY_YEAR','SCHOOL', 'EDUCATION_PROGRAM', 'MONDAY']]"
   ],
   "id": "c3fa7827131e7833",
   "outputs": [],
   "execution_count": 24
  },
  {
   "metadata": {
    "ExecuteTime": {
     "end_time": "2025-08-10T14:04:45.492990Z",
     "start_time": "2025-08-10T14:04:45.483763Z"
    }
   },
   "cell_type": "code",
   "source": "ai",
   "id": "f854ec4fcff63cd5",
   "outputs": [
    {
     "data": {
      "text/plain": [
       "     STUDY_YEAR               SCHOOL EDUCATION_PROGRAM  \\\n",
       "112           2  SCHOOL OF COMPUTING   AI and Robotics   \n",
       "113           2  SCHOOL OF COMPUTING   AI and Robotics   \n",
       "114           2  SCHOOL OF COMPUTING   AI and Robotics   \n",
       "115           2  SCHOOL OF COMPUTING   AI and Robotics   \n",
       "116           2  SCHOOL OF COMPUTING   AI and Robotics   \n",
       "117           2  SCHOOL OF COMPUTING   AI and Robotics   \n",
       "239           2  SCHOOL OF COMPUTING   AI and Robotics   \n",
       "251           1  SCHOOL OF COMPUTING   AI and Robotics   \n",
       "252           1  SCHOOL OF COMPUTING   AI and Robotics   \n",
       "295           1  SCHOOL OF COMPUTING   AI and Robotics   \n",
       "298           1  SCHOOL OF COMPUTING   AI and Robotics   \n",
       "318           2  SCHOOL OF COMPUTING   AI and Robotics   \n",
       "352           1  SCHOOL OF COMPUTING   AI and Robotics   \n",
       "353           1  SCHOOL OF COMPUTING   AI and Robotics   \n",
       "354           1  SCHOOL OF COMPUTING   AI and Robotics   \n",
       "355           1  SCHOOL OF COMPUTING   AI and Robotics   \n",
       "356           1  SCHOOL OF COMPUTING   AI and Robotics   \n",
       "357           1  SCHOOL OF COMPUTING   AI and Robotics   \n",
       "358           1  SCHOOL OF COMPUTING   AI and Robotics   \n",
       "359           1  SCHOOL OF COMPUTING   AI and Robotics   \n",
       "464           1  SCHOOL OF COMPUTING   AI and Robotics   \n",
       "\n",
       "                                                MONDAY  \n",
       "112       {'M1': '0', 'M2': '0', 'M3': '0', 'M4': '0'}  \n",
       "113       {'M1': '0', 'M2': '0', 'M3': '0', 'M4': '0'}  \n",
       "114       {'M1': '0', 'M2': '0', 'M3': '0', 'M4': '0'}  \n",
       "115  {'M1': ['MATH 205', ['Calculus 2 - Fall 2024']...  \n",
       "116       {'M1': '0', 'M2': '0', 'M3': '0', 'M4': '0'}  \n",
       "117  {'M1': ['MATH 205', ['Calculus 2 - Fall 2024']...  \n",
       "239  {'M1': '0', 'M2': '0', 'M3': ['MATH 105', ['MA...  \n",
       "251      {'M1': '0', 'M2': 'CW', 'M3': '0', 'M4': '0'}  \n",
       "252       {'M1': '0', 'M2': '0', 'M3': '0', 'M4': '0'}  \n",
       "295       {'M1': '0', 'M2': '0', 'M3': '0', 'M4': '0'}  \n",
       "298  {'M1': '0', 'M2': ['MATH 105', ['MATH111 Calcu...  \n",
       "318       {'M1': '0', 'M2': '0', 'M3': '0', 'M4': '0'}  \n",
       "352  {'M1': ['MATH 105', ['MATH211 Calculus 2 - Spr...  \n",
       "353       {'M1': '0', 'M2': '0', 'M3': '0', 'M4': '0'}  \n",
       "354      {'M1': '0', 'M2': 'CW', 'M3': '0', 'M4': '0'}  \n",
       "355  {'M1': ['MATH 105', ['MATH211 Calculus 2 - Spr...  \n",
       "356  {'M1': ['MATH 105', ['MATH211 Calculus 2 - Spr...  \n",
       "357  {'M1': ['MATH 105', ['MATH211 Calculus 2 - Spr...  \n",
       "358  {'M1': '0', 'M2': ['MATH 105', ['MATH111 Calcu...  \n",
       "359  {'M1': ['MATH 105', ['MATH211 Calculus 2 - Spr...  \n",
       "464  {'M1': ['MATH 107', ['MATH211 Calculus 2 - Spr...  "
      ],
      "text/html": [
       "<div>\n",
       "<style scoped>\n",
       "    .dataframe tbody tr th:only-of-type {\n",
       "        vertical-align: middle;\n",
       "    }\n",
       "\n",
       "    .dataframe tbody tr th {\n",
       "        vertical-align: top;\n",
       "    }\n",
       "\n",
       "    .dataframe thead th {\n",
       "        text-align: right;\n",
       "    }\n",
       "</style>\n",
       "<table border=\"1\" class=\"dataframe\">\n",
       "  <thead>\n",
       "    <tr style=\"text-align: right;\">\n",
       "      <th></th>\n",
       "      <th>STUDY_YEAR</th>\n",
       "      <th>SCHOOL</th>\n",
       "      <th>EDUCATION_PROGRAM</th>\n",
       "      <th>MONDAY</th>\n",
       "    </tr>\n",
       "  </thead>\n",
       "  <tbody>\n",
       "    <tr>\n",
       "      <th>112</th>\n",
       "      <td>2</td>\n",
       "      <td>SCHOOL OF COMPUTING</td>\n",
       "      <td>AI and Robotics</td>\n",
       "      <td>{'M1': '0', 'M2': '0', 'M3': '0', 'M4': '0'}</td>\n",
       "    </tr>\n",
       "    <tr>\n",
       "      <th>113</th>\n",
       "      <td>2</td>\n",
       "      <td>SCHOOL OF COMPUTING</td>\n",
       "      <td>AI and Robotics</td>\n",
       "      <td>{'M1': '0', 'M2': '0', 'M3': '0', 'M4': '0'}</td>\n",
       "    </tr>\n",
       "    <tr>\n",
       "      <th>114</th>\n",
       "      <td>2</td>\n",
       "      <td>SCHOOL OF COMPUTING</td>\n",
       "      <td>AI and Robotics</td>\n",
       "      <td>{'M1': '0', 'M2': '0', 'M3': '0', 'M4': '0'}</td>\n",
       "    </tr>\n",
       "    <tr>\n",
       "      <th>115</th>\n",
       "      <td>2</td>\n",
       "      <td>SCHOOL OF COMPUTING</td>\n",
       "      <td>AI and Robotics</td>\n",
       "      <td>{'M1': ['MATH 205', ['Calculus 2 - Fall 2024']...</td>\n",
       "    </tr>\n",
       "    <tr>\n",
       "      <th>116</th>\n",
       "      <td>2</td>\n",
       "      <td>SCHOOL OF COMPUTING</td>\n",
       "      <td>AI and Robotics</td>\n",
       "      <td>{'M1': '0', 'M2': '0', 'M3': '0', 'M4': '0'}</td>\n",
       "    </tr>\n",
       "    <tr>\n",
       "      <th>117</th>\n",
       "      <td>2</td>\n",
       "      <td>SCHOOL OF COMPUTING</td>\n",
       "      <td>AI and Robotics</td>\n",
       "      <td>{'M1': ['MATH 205', ['Calculus 2 - Fall 2024']...</td>\n",
       "    </tr>\n",
       "    <tr>\n",
       "      <th>239</th>\n",
       "      <td>2</td>\n",
       "      <td>SCHOOL OF COMPUTING</td>\n",
       "      <td>AI and Robotics</td>\n",
       "      <td>{'M1': '0', 'M2': '0', 'M3': ['MATH 105', ['MA...</td>\n",
       "    </tr>\n",
       "    <tr>\n",
       "      <th>251</th>\n",
       "      <td>1</td>\n",
       "      <td>SCHOOL OF COMPUTING</td>\n",
       "      <td>AI and Robotics</td>\n",
       "      <td>{'M1': '0', 'M2': 'CW', 'M3': '0', 'M4': '0'}</td>\n",
       "    </tr>\n",
       "    <tr>\n",
       "      <th>252</th>\n",
       "      <td>1</td>\n",
       "      <td>SCHOOL OF COMPUTING</td>\n",
       "      <td>AI and Robotics</td>\n",
       "      <td>{'M1': '0', 'M2': '0', 'M3': '0', 'M4': '0'}</td>\n",
       "    </tr>\n",
       "    <tr>\n",
       "      <th>295</th>\n",
       "      <td>1</td>\n",
       "      <td>SCHOOL OF COMPUTING</td>\n",
       "      <td>AI and Robotics</td>\n",
       "      <td>{'M1': '0', 'M2': '0', 'M3': '0', 'M4': '0'}</td>\n",
       "    </tr>\n",
       "    <tr>\n",
       "      <th>298</th>\n",
       "      <td>1</td>\n",
       "      <td>SCHOOL OF COMPUTING</td>\n",
       "      <td>AI and Robotics</td>\n",
       "      <td>{'M1': '0', 'M2': ['MATH 105', ['MATH111 Calcu...</td>\n",
       "    </tr>\n",
       "    <tr>\n",
       "      <th>318</th>\n",
       "      <td>2</td>\n",
       "      <td>SCHOOL OF COMPUTING</td>\n",
       "      <td>AI and Robotics</td>\n",
       "      <td>{'M1': '0', 'M2': '0', 'M3': '0', 'M4': '0'}</td>\n",
       "    </tr>\n",
       "    <tr>\n",
       "      <th>352</th>\n",
       "      <td>1</td>\n",
       "      <td>SCHOOL OF COMPUTING</td>\n",
       "      <td>AI and Robotics</td>\n",
       "      <td>{'M1': ['MATH 105', ['MATH211 Calculus 2 - Spr...</td>\n",
       "    </tr>\n",
       "    <tr>\n",
       "      <th>353</th>\n",
       "      <td>1</td>\n",
       "      <td>SCHOOL OF COMPUTING</td>\n",
       "      <td>AI and Robotics</td>\n",
       "      <td>{'M1': '0', 'M2': '0', 'M3': '0', 'M4': '0'}</td>\n",
       "    </tr>\n",
       "    <tr>\n",
       "      <th>354</th>\n",
       "      <td>1</td>\n",
       "      <td>SCHOOL OF COMPUTING</td>\n",
       "      <td>AI and Robotics</td>\n",
       "      <td>{'M1': '0', 'M2': 'CW', 'M3': '0', 'M4': '0'}</td>\n",
       "    </tr>\n",
       "    <tr>\n",
       "      <th>355</th>\n",
       "      <td>1</td>\n",
       "      <td>SCHOOL OF COMPUTING</td>\n",
       "      <td>AI and Robotics</td>\n",
       "      <td>{'M1': ['MATH 105', ['MATH211 Calculus 2 - Spr...</td>\n",
       "    </tr>\n",
       "    <tr>\n",
       "      <th>356</th>\n",
       "      <td>1</td>\n",
       "      <td>SCHOOL OF COMPUTING</td>\n",
       "      <td>AI and Robotics</td>\n",
       "      <td>{'M1': ['MATH 105', ['MATH211 Calculus 2 - Spr...</td>\n",
       "    </tr>\n",
       "    <tr>\n",
       "      <th>357</th>\n",
       "      <td>1</td>\n",
       "      <td>SCHOOL OF COMPUTING</td>\n",
       "      <td>AI and Robotics</td>\n",
       "      <td>{'M1': ['MATH 105', ['MATH211 Calculus 2 - Spr...</td>\n",
       "    </tr>\n",
       "    <tr>\n",
       "      <th>358</th>\n",
       "      <td>1</td>\n",
       "      <td>SCHOOL OF COMPUTING</td>\n",
       "      <td>AI and Robotics</td>\n",
       "      <td>{'M1': '0', 'M2': ['MATH 105', ['MATH111 Calcu...</td>\n",
       "    </tr>\n",
       "    <tr>\n",
       "      <th>359</th>\n",
       "      <td>1</td>\n",
       "      <td>SCHOOL OF COMPUTING</td>\n",
       "      <td>AI and Robotics</td>\n",
       "      <td>{'M1': ['MATH 105', ['MATH211 Calculus 2 - Spr...</td>\n",
       "    </tr>\n",
       "    <tr>\n",
       "      <th>464</th>\n",
       "      <td>1</td>\n",
       "      <td>SCHOOL OF COMPUTING</td>\n",
       "      <td>AI and Robotics</td>\n",
       "      <td>{'M1': ['MATH 107', ['MATH211 Calculus 2 - Spr...</td>\n",
       "    </tr>\n",
       "  </tbody>\n",
       "</table>\n",
       "</div>"
      ]
     },
     "execution_count": 25,
     "metadata": {},
     "output_type": "execute_result"
    }
   ],
   "execution_count": 25
  },
  {
   "metadata": {
    "ExecuteTime": {
     "end_time": "2025-08-10T14:04:45.928210Z",
     "start_time": "2025-08-10T14:04:45.923921Z"
    }
   },
   "cell_type": "code",
   "source": [
    "def return_the_number_of_students_in_exam_session(exam_day, edu_programs):\n",
    "    length = len(df)\n",
    "    idunno = df[['STUDY_YEAR', 'SCHOOL', 'EDUCATION_PROGRAM', exam_day]]\n",
    "    dictionary = {}\n",
    "    total_keys = []\n",
    "    for j in idunno[exam_day][0]:\n",
    "        total_keys.append(j)\n",
    "    \n",
    "    for key in edu_programs:\n",
    "        dictionary[key] = {}\n",
    "        for mini_key in total_keys:\n",
    "            dictionary[key][mini_key] = 0\n",
    "    \n",
    "    for p in range(length):\n",
    "        student_edu_program = df['EDUCATION_PROGRAM'][p]\n",
    "        if student_edu_program in edu_programs:\n",
    "            session = df[exam_day][p]\n",
    "            for q in total_keys:\n",
    "                if session.get(q) and session[q] != '0' and session[q] != 'CW':\n",
    "                    dictionary[student_edu_program][q] = dictionary[student_edu_program][q] + 1\n",
    "    \n",
    "    new_columns = []\n",
    "    new_rows = []\n",
    "    \n",
    "    for ii in dictionary:\n",
    "        mini_list = []\n",
    "        for jj in dictionary[ii]:\n",
    "            mini_list.append(dictionary[ii][jj])\n",
    "        new_rows.append(mini_list)\n",
    "        new_columns.append(ii)\n",
    "    \n",
    "    dct = {}\n",
    "    \n",
    "    for qq in range(len(new_columns)):\n",
    "        dct[new_columns[qq]] = new_rows[qq]\n",
    "    \n",
    "    final_df = pd.DataFrame(dct)\n",
    "    final_df.index = total_keys\n",
    "                \n",
    "    return final_df"
   ],
   "id": "ae12eabd60469b3",
   "outputs": [],
   "execution_count": 26
  },
  {
   "metadata": {
    "ExecuteTime": {
     "end_time": "2025-08-10T14:04:46.228108Z",
     "start_time": "2025-08-10T14:04:46.223473Z"
    }
   },
   "cell_type": "code",
   "source": "a = return_the_number_of_students_in_exam_session(\"MONDAY\", [\"Software Engineering\", \"Cyber Security\", \"AI and Robotics\"])",
   "id": "79137328c6a2c090",
   "outputs": [],
   "execution_count": 27
  },
  {
   "metadata": {
    "ExecuteTime": {
     "end_time": "2025-08-10T14:04:46.502967Z",
     "start_time": "2025-08-10T14:04:46.499141Z"
    }
   },
   "cell_type": "code",
   "source": "a",
   "id": "bb6c1eaa4ee4ce71",
   "outputs": [
    {
     "data": {
      "text/plain": [
       "    Software Engineering  Cyber Security  AI and Robotics\n",
       "M1                    16              16                8\n",
       "M2                    22               2                2\n",
       "M3                     7               4                1\n",
       "M4                     0               0                0"
      ],
      "text/html": [
       "<div>\n",
       "<style scoped>\n",
       "    .dataframe tbody tr th:only-of-type {\n",
       "        vertical-align: middle;\n",
       "    }\n",
       "\n",
       "    .dataframe tbody tr th {\n",
       "        vertical-align: top;\n",
       "    }\n",
       "\n",
       "    .dataframe thead th {\n",
       "        text-align: right;\n",
       "    }\n",
       "</style>\n",
       "<table border=\"1\" class=\"dataframe\">\n",
       "  <thead>\n",
       "    <tr style=\"text-align: right;\">\n",
       "      <th></th>\n",
       "      <th>Software Engineering</th>\n",
       "      <th>Cyber Security</th>\n",
       "      <th>AI and Robotics</th>\n",
       "    </tr>\n",
       "  </thead>\n",
       "  <tbody>\n",
       "    <tr>\n",
       "      <th>M1</th>\n",
       "      <td>16</td>\n",
       "      <td>16</td>\n",
       "      <td>8</td>\n",
       "    </tr>\n",
       "    <tr>\n",
       "      <th>M2</th>\n",
       "      <td>22</td>\n",
       "      <td>2</td>\n",
       "      <td>2</td>\n",
       "    </tr>\n",
       "    <tr>\n",
       "      <th>M3</th>\n",
       "      <td>7</td>\n",
       "      <td>4</td>\n",
       "      <td>1</td>\n",
       "    </tr>\n",
       "    <tr>\n",
       "      <th>M4</th>\n",
       "      <td>0</td>\n",
       "      <td>0</td>\n",
       "      <td>0</td>\n",
       "    </tr>\n",
       "  </tbody>\n",
       "</table>\n",
       "</div>"
      ]
     },
     "execution_count": 28,
     "metadata": {},
     "output_type": "execute_result"
    }
   ],
   "execution_count": 28
  },
  {
   "metadata": {
    "ExecuteTime": {
     "end_time": "2025-08-10T14:04:46.736870Z",
     "start_time": "2025-08-10T14:04:46.733399Z"
    }
   },
   "cell_type": "code",
   "source": "a = return_the_number_of_students_in_exam_session(\"FRIDAY\", [\"Mechanical Engineering\", \"Chemical Engineering\"])",
   "id": "db15180a9d2315d8",
   "outputs": [],
   "execution_count": 29
  },
  {
   "metadata": {
    "ExecuteTime": {
     "end_time": "2025-08-10T14:04:47.010731Z",
     "start_time": "2025-08-10T14:04:47.007091Z"
    }
   },
   "cell_type": "code",
   "source": "a",
   "id": "267ac473a936f143",
   "outputs": [
    {
     "data": {
      "text/plain": [
       "    Mechanical Engineering  Chemical Engineering\n",
       "F1                      14                     0\n",
       "F2                       3                     0\n",
       "F3                       0                     0\n",
       "F4                       0                     0"
      ],
      "text/html": [
       "<div>\n",
       "<style scoped>\n",
       "    .dataframe tbody tr th:only-of-type {\n",
       "        vertical-align: middle;\n",
       "    }\n",
       "\n",
       "    .dataframe tbody tr th {\n",
       "        vertical-align: top;\n",
       "    }\n",
       "\n",
       "    .dataframe thead th {\n",
       "        text-align: right;\n",
       "    }\n",
       "</style>\n",
       "<table border=\"1\" class=\"dataframe\">\n",
       "  <thead>\n",
       "    <tr style=\"text-align: right;\">\n",
       "      <th></th>\n",
       "      <th>Mechanical Engineering</th>\n",
       "      <th>Chemical Engineering</th>\n",
       "    </tr>\n",
       "  </thead>\n",
       "  <tbody>\n",
       "    <tr>\n",
       "      <th>F1</th>\n",
       "      <td>14</td>\n",
       "      <td>0</td>\n",
       "    </tr>\n",
       "    <tr>\n",
       "      <th>F2</th>\n",
       "      <td>3</td>\n",
       "      <td>0</td>\n",
       "    </tr>\n",
       "    <tr>\n",
       "      <th>F3</th>\n",
       "      <td>0</td>\n",
       "      <td>0</td>\n",
       "    </tr>\n",
       "    <tr>\n",
       "      <th>F4</th>\n",
       "      <td>0</td>\n",
       "      <td>0</td>\n",
       "    </tr>\n",
       "  </tbody>\n",
       "</table>\n",
       "</div>"
      ]
     },
     "execution_count": 30,
     "metadata": {},
     "output_type": "execute_result"
    }
   ],
   "execution_count": 30
  },
  {
   "metadata": {
    "ExecuteTime": {
     "end_time": "2025-08-10T14:04:47.351650Z",
     "start_time": "2025-08-10T14:04:47.337613Z"
    }
   },
   "cell_type": "code",
   "source": "df",
   "id": "3fdfe7d7804d76f9",
   "outputs": [
    {
     "data": {
      "text/plain": [
       "         ID                               FULLNAME  STUDY_YEAR  \\\n",
       "0    210006   Urazimbetova Miyrigul Xojaaxmet qizi           4   \n",
       "1    210009    Goyibnazarov Ruzmatboy Oybek o‘g‘li           4   \n",
       "2    210015           Mirzabayev Damir Baxodir uli           3   \n",
       "3    210017        Shinpolatov Nurdaulet Marat uli           4   \n",
       "4    210018  Xolmurodov Bunyodbek Ruslanbek o‘g‘li           4   \n",
       "..      ...                                    ...         ...   \n",
       "467  240498      Ibroximov Ibrohimjon Murod o'g'li           1   \n",
       "468  240502        Adilov Abdumajid Abduqayumovich           1   \n",
       "469  240506       Yoqubov Shohjaxon Shavkat o‘g‘li           1   \n",
       "470  240510           Raximov Azizbek Bektashovich           1   \n",
       "471  240511     Muxiddinova Shaxzodabonu Zafarovna           1   \n",
       "\n",
       "                       EMAIL    STATUS  \\\n",
       "0           2110006@newuu.uz  Enrolled   \n",
       "1           2110009@newuu.uz  Enrolled   \n",
       "2           2110015@newuu.uz  Enrolled   \n",
       "3           2110017@newuu.uz  Enrolled   \n",
       "4           2110018@newuu.uz  Enrolled   \n",
       "..                       ...       ...   \n",
       "467     i.ibrohimov@newuu.uz  Enrolled   \n",
       "468        a.adilov@newuu.uz  Enrolled   \n",
       "469      sh.yoqubov@newuu.uz  Enrolled   \n",
       "470       a.raximov@newuu.uz  Enrolled   \n",
       "471  sh.muxiddinova@newuu.uz  Enrolled   \n",
       "\n",
       "                                              SCHOOL  \\\n",
       "0                              SCHOOL OF ENGINEERING   \n",
       "1                              SCHOOL OF ENGINEERING   \n",
       "2                                SCHOOL OF COMPUTING   \n",
       "3                                SCHOOL OF COMPUTING   \n",
       "4                                SCHOOL OF COMPUTING   \n",
       "..                                               ...   \n",
       "467  SCHOOL OF HUMANITIES, NATURAL & SOCIAL SCIENCES   \n",
       "468  SCHOOL OF HUMANITIES, NATURAL & SOCIAL SCIENCES   \n",
       "469  SCHOOL OF HUMANITIES, NATURAL & SOCIAL SCIENCES   \n",
       "470                              SCHOOL OF COMPUTING   \n",
       "471                             SCHOOL OF MANAGEMENT   \n",
       "\n",
       "                      EDUCATION_PROGRAM  \\\n",
       "0    Chemical and Materials Engineering   \n",
       "1                Mechanical Engineering   \n",
       "2                  Software Engineering   \n",
       "3                  Software Engineering   \n",
       "4                  Software Engineering   \n",
       "..                                  ...   \n",
       "467                 Applied Mathematics   \n",
       "468          Economics and Data Science   \n",
       "469                            Pedagogy   \n",
       "470                Software Engineering   \n",
       "471               Industrial Management   \n",
       "\n",
       "                                                MONDAY  \\\n",
       "0    {'M1': ['MATH 205', ['Calculus 2 - Fall 2024']...   \n",
       "1    {'M1': ['MATH 105', ['MATH211 Calculus 2 - Spr...   \n",
       "2    {'M1': '0', 'M2': ['MATH 205', ['SEC111 Comput...   \n",
       "3         {'M1': '0', 'M2': '0', 'M3': '0', 'M4': '0'}   \n",
       "4    {'M1': '0', 'M2': ['MATH 205', ['SEC111 Comput...   \n",
       "..                                                 ...   \n",
       "467       {'M1': '0', 'M2': '0', 'M3': '0', 'M4': '0'}   \n",
       "468  {'M1': ['MATH 107', ['MATH211 Calculus 2 - Spr...   \n",
       "469       {'M1': '0', 'M2': '0', 'M3': '0', 'M4': '0'}   \n",
       "470  {'M1': '0', 'M2': ['MATH 106', ['MATH111 Calcu...   \n",
       "471  {'M1': '0', 'M2': ['MATH 106', ['MATH111 Calcu...   \n",
       "\n",
       "                                               TUESDAY  \\\n",
       "0         {'T1': '0', 'T2': '0', 'T3': '0', 'T4': '0'}   \n",
       "1         {'T1': '0', 'T2': '0', 'T3': '0', 'T4': '0'}   \n",
       "2    {'T1': '0', 'T2': ['MATH 105', ['Numerical Met...   \n",
       "3         {'T1': '0', 'T2': '0', 'T3': '0', 'T4': '0'}   \n",
       "4         {'T1': '0', 'T2': '0', 'T3': '0', 'T4': '0'}   \n",
       "..                                                 ...   \n",
       "467       {'T1': '0', 'T2': '0', 'T3': '0', 'T4': '0'}   \n",
       "468       {'T1': '0', 'T2': '0', 'T3': '0', 'T4': '0'}   \n",
       "469       {'T1': '0', 'T2': '0', 'T3': '0', 'T4': '0'}   \n",
       "470       {'T1': '0', 'T2': '0', 'T3': '0', 'T4': '0'}   \n",
       "471       {'T1': '0', 'T2': '0', 'T3': '0', 'T4': '0'}   \n",
       "\n",
       "                                             WEDNESDAY  \\\n",
       "0         {'W1': '0', 'W2': '0', 'W3': '0', 'W4': '0'}   \n",
       "1    {'W1': '0', 'W2': ['MATH B01', ['Computational...   \n",
       "2    {'W1': '0', 'W2': ['MATH 105', ['Microeconomic...   \n",
       "3         {'W1': '0', 'W2': '0', 'W3': '0', 'W4': '0'}   \n",
       "4         {'W1': '0', 'W2': '0', 'W3': '0', 'W4': '0'}   \n",
       "..                                                 ...   \n",
       "467  {'W1': ['MATH 105', ['Nanotechnology and Advan...   \n",
       "468       {'W1': '0', 'W2': '0', 'W3': '0', 'W4': '0'}   \n",
       "469  {'W1': ['MATH 106', ['PHYS101 Physics 1 -  Spr...   \n",
       "470  {'W1': ['MATH 106', ['PHYS101 Physics 1 -  Spr...   \n",
       "471       {'W1': '0', 'W2': '0', 'W3': '0', 'W4': '0'}   \n",
       "\n",
       "                                              THURSDAY  \\\n",
       "0     {'TH1': '0', 'TH2': '0', 'TH3': '0', 'TH4': '0'}   \n",
       "1     {'TH1': '0', 'TH2': '0', 'TH3': '0', 'TH4': '0'}   \n",
       "2     {'TH1': '0', 'TH2': '0', 'TH3': '0', 'TH4': '0'}   \n",
       "3    {'TH1': '0', 'TH2': ['MATH 105', ['Artifical I...   \n",
       "4    {'TH1': '0', 'TH2': ['MATH 105', ['Artifical I...   \n",
       "..                                                 ...   \n",
       "467   {'TH1': '0', 'TH2': '0', 'TH3': '0', 'TH4': '0'}   \n",
       "468   {'TH1': '0', 'TH2': '0', 'TH3': '0', 'TH4': '0'}   \n",
       "469   {'TH1': '0', 'TH2': '0', 'TH3': '0', 'TH4': '0'}   \n",
       "470   {'TH1': '0', 'TH2': '0', 'TH3': '0', 'TH4': '0'}   \n",
       "471   {'TH1': '0', 'TH2': '0', 'TH3': '0', 'TH4': '0'}   \n",
       "\n",
       "                                                FRIDAY  GENDER  \n",
       "0         {'F1': '0', 'F2': '0', 'F3': '0', 'F4': '0'}  FEMALE  \n",
       "1         {'F1': '0', 'F2': '0', 'F3': '0', 'F4': '0'}    MALE  \n",
       "2         {'F1': '0', 'F2': '0', 'F3': '0', 'F4': '0'}    MALE  \n",
       "3         {'F1': '0', 'F2': '0', 'F3': '0', 'F4': '0'}    MALE  \n",
       "4    {'F1': '0', 'F2': ['MATH 105', ['Fluid Mechani...    MALE  \n",
       "..                                                 ...     ...  \n",
       "467       {'F1': '0', 'F2': '0', 'F3': '0', 'F4': '0'}    MALE  \n",
       "468       {'F1': '0', 'F2': '0', 'F3': '0', 'F4': '0'}    MALE  \n",
       "469       {'F1': '0', 'F2': '0', 'F3': '0', 'F4': '0'}    MALE  \n",
       "470       {'F1': '0', 'F2': '0', 'F3': '0', 'F4': '0'}    MALE  \n",
       "471       {'F1': '0', 'F2': '0', 'F3': '0', 'F4': '0'}  FEMALE  \n",
       "\n",
       "[472 rows x 13 columns]"
      ],
      "text/html": [
       "<div>\n",
       "<style scoped>\n",
       "    .dataframe tbody tr th:only-of-type {\n",
       "        vertical-align: middle;\n",
       "    }\n",
       "\n",
       "    .dataframe tbody tr th {\n",
       "        vertical-align: top;\n",
       "    }\n",
       "\n",
       "    .dataframe thead th {\n",
       "        text-align: right;\n",
       "    }\n",
       "</style>\n",
       "<table border=\"1\" class=\"dataframe\">\n",
       "  <thead>\n",
       "    <tr style=\"text-align: right;\">\n",
       "      <th></th>\n",
       "      <th>ID</th>\n",
       "      <th>FULLNAME</th>\n",
       "      <th>STUDY_YEAR</th>\n",
       "      <th>EMAIL</th>\n",
       "      <th>STATUS</th>\n",
       "      <th>SCHOOL</th>\n",
       "      <th>EDUCATION_PROGRAM</th>\n",
       "      <th>MONDAY</th>\n",
       "      <th>TUESDAY</th>\n",
       "      <th>WEDNESDAY</th>\n",
       "      <th>THURSDAY</th>\n",
       "      <th>FRIDAY</th>\n",
       "      <th>GENDER</th>\n",
       "    </tr>\n",
       "  </thead>\n",
       "  <tbody>\n",
       "    <tr>\n",
       "      <th>0</th>\n",
       "      <td>210006</td>\n",
       "      <td>Urazimbetova Miyrigul Xojaaxmet qizi</td>\n",
       "      <td>4</td>\n",
       "      <td>2110006@newuu.uz</td>\n",
       "      <td>Enrolled</td>\n",
       "      <td>SCHOOL OF ENGINEERING</td>\n",
       "      <td>Chemical and Materials Engineering</td>\n",
       "      <td>{'M1': ['MATH 205', ['Calculus 2 - Fall 2024']...</td>\n",
       "      <td>{'T1': '0', 'T2': '0', 'T3': '0', 'T4': '0'}</td>\n",
       "      <td>{'W1': '0', 'W2': '0', 'W3': '0', 'W4': '0'}</td>\n",
       "      <td>{'TH1': '0', 'TH2': '0', 'TH3': '0', 'TH4': '0'}</td>\n",
       "      <td>{'F1': '0', 'F2': '0', 'F3': '0', 'F4': '0'}</td>\n",
       "      <td>FEMALE</td>\n",
       "    </tr>\n",
       "    <tr>\n",
       "      <th>1</th>\n",
       "      <td>210009</td>\n",
       "      <td>Goyibnazarov Ruzmatboy Oybek o‘g‘li</td>\n",
       "      <td>4</td>\n",
       "      <td>2110009@newuu.uz</td>\n",
       "      <td>Enrolled</td>\n",
       "      <td>SCHOOL OF ENGINEERING</td>\n",
       "      <td>Mechanical Engineering</td>\n",
       "      <td>{'M1': ['MATH 105', ['MATH211 Calculus 2 - Spr...</td>\n",
       "      <td>{'T1': '0', 'T2': '0', 'T3': '0', 'T4': '0'}</td>\n",
       "      <td>{'W1': '0', 'W2': ['MATH B01', ['Computational...</td>\n",
       "      <td>{'TH1': '0', 'TH2': '0', 'TH3': '0', 'TH4': '0'}</td>\n",
       "      <td>{'F1': '0', 'F2': '0', 'F3': '0', 'F4': '0'}</td>\n",
       "      <td>MALE</td>\n",
       "    </tr>\n",
       "    <tr>\n",
       "      <th>2</th>\n",
       "      <td>210015</td>\n",
       "      <td>Mirzabayev Damir Baxodir uli</td>\n",
       "      <td>3</td>\n",
       "      <td>2110015@newuu.uz</td>\n",
       "      <td>Enrolled</td>\n",
       "      <td>SCHOOL OF COMPUTING</td>\n",
       "      <td>Software Engineering</td>\n",
       "      <td>{'M1': '0', 'M2': ['MATH 205', ['SEC111 Comput...</td>\n",
       "      <td>{'T1': '0', 'T2': ['MATH 105', ['Numerical Met...</td>\n",
       "      <td>{'W1': '0', 'W2': ['MATH 105', ['Microeconomic...</td>\n",
       "      <td>{'TH1': '0', 'TH2': '0', 'TH3': '0', 'TH4': '0'}</td>\n",
       "      <td>{'F1': '0', 'F2': '0', 'F3': '0', 'F4': '0'}</td>\n",
       "      <td>MALE</td>\n",
       "    </tr>\n",
       "    <tr>\n",
       "      <th>3</th>\n",
       "      <td>210017</td>\n",
       "      <td>Shinpolatov Nurdaulet Marat uli</td>\n",
       "      <td>4</td>\n",
       "      <td>2110017@newuu.uz</td>\n",
       "      <td>Enrolled</td>\n",
       "      <td>SCHOOL OF COMPUTING</td>\n",
       "      <td>Software Engineering</td>\n",
       "      <td>{'M1': '0', 'M2': '0', 'M3': '0', 'M4': '0'}</td>\n",
       "      <td>{'T1': '0', 'T2': '0', 'T3': '0', 'T4': '0'}</td>\n",
       "      <td>{'W1': '0', 'W2': '0', 'W3': '0', 'W4': '0'}</td>\n",
       "      <td>{'TH1': '0', 'TH2': ['MATH 105', ['Artifical I...</td>\n",
       "      <td>{'F1': '0', 'F2': '0', 'F3': '0', 'F4': '0'}</td>\n",
       "      <td>MALE</td>\n",
       "    </tr>\n",
       "    <tr>\n",
       "      <th>4</th>\n",
       "      <td>210018</td>\n",
       "      <td>Xolmurodov Bunyodbek Ruslanbek o‘g‘li</td>\n",
       "      <td>4</td>\n",
       "      <td>2110018@newuu.uz</td>\n",
       "      <td>Enrolled</td>\n",
       "      <td>SCHOOL OF COMPUTING</td>\n",
       "      <td>Software Engineering</td>\n",
       "      <td>{'M1': '0', 'M2': ['MATH 205', ['SEC111 Comput...</td>\n",
       "      <td>{'T1': '0', 'T2': '0', 'T3': '0', 'T4': '0'}</td>\n",
       "      <td>{'W1': '0', 'W2': '0', 'W3': '0', 'W4': '0'}</td>\n",
       "      <td>{'TH1': '0', 'TH2': ['MATH 105', ['Artifical I...</td>\n",
       "      <td>{'F1': '0', 'F2': ['MATH 105', ['Fluid Mechani...</td>\n",
       "      <td>MALE</td>\n",
       "    </tr>\n",
       "    <tr>\n",
       "      <th>...</th>\n",
       "      <td>...</td>\n",
       "      <td>...</td>\n",
       "      <td>...</td>\n",
       "      <td>...</td>\n",
       "      <td>...</td>\n",
       "      <td>...</td>\n",
       "      <td>...</td>\n",
       "      <td>...</td>\n",
       "      <td>...</td>\n",
       "      <td>...</td>\n",
       "      <td>...</td>\n",
       "      <td>...</td>\n",
       "      <td>...</td>\n",
       "    </tr>\n",
       "    <tr>\n",
       "      <th>467</th>\n",
       "      <td>240498</td>\n",
       "      <td>Ibroximov Ibrohimjon Murod o'g'li</td>\n",
       "      <td>1</td>\n",
       "      <td>i.ibrohimov@newuu.uz</td>\n",
       "      <td>Enrolled</td>\n",
       "      <td>SCHOOL OF HUMANITIES, NATURAL &amp; SOCIAL SCIENCES</td>\n",
       "      <td>Applied Mathematics</td>\n",
       "      <td>{'M1': '0', 'M2': '0', 'M3': '0', 'M4': '0'}</td>\n",
       "      <td>{'T1': '0', 'T2': '0', 'T3': '0', 'T4': '0'}</td>\n",
       "      <td>{'W1': ['MATH 105', ['Nanotechnology and Advan...</td>\n",
       "      <td>{'TH1': '0', 'TH2': '0', 'TH3': '0', 'TH4': '0'}</td>\n",
       "      <td>{'F1': '0', 'F2': '0', 'F3': '0', 'F4': '0'}</td>\n",
       "      <td>MALE</td>\n",
       "    </tr>\n",
       "    <tr>\n",
       "      <th>468</th>\n",
       "      <td>240502</td>\n",
       "      <td>Adilov Abdumajid Abduqayumovich</td>\n",
       "      <td>1</td>\n",
       "      <td>a.adilov@newuu.uz</td>\n",
       "      <td>Enrolled</td>\n",
       "      <td>SCHOOL OF HUMANITIES, NATURAL &amp; SOCIAL SCIENCES</td>\n",
       "      <td>Economics and Data Science</td>\n",
       "      <td>{'M1': ['MATH 107', ['MATH211 Calculus 2 - Spr...</td>\n",
       "      <td>{'T1': '0', 'T2': '0', 'T3': '0', 'T4': '0'}</td>\n",
       "      <td>{'W1': '0', 'W2': '0', 'W3': '0', 'W4': '0'}</td>\n",
       "      <td>{'TH1': '0', 'TH2': '0', 'TH3': '0', 'TH4': '0'}</td>\n",
       "      <td>{'F1': '0', 'F2': '0', 'F3': '0', 'F4': '0'}</td>\n",
       "      <td>MALE</td>\n",
       "    </tr>\n",
       "    <tr>\n",
       "      <th>469</th>\n",
       "      <td>240506</td>\n",
       "      <td>Yoqubov Shohjaxon Shavkat o‘g‘li</td>\n",
       "      <td>1</td>\n",
       "      <td>sh.yoqubov@newuu.uz</td>\n",
       "      <td>Enrolled</td>\n",
       "      <td>SCHOOL OF HUMANITIES, NATURAL &amp; SOCIAL SCIENCES</td>\n",
       "      <td>Pedagogy</td>\n",
       "      <td>{'M1': '0', 'M2': '0', 'M3': '0', 'M4': '0'}</td>\n",
       "      <td>{'T1': '0', 'T2': '0', 'T3': '0', 'T4': '0'}</td>\n",
       "      <td>{'W1': ['MATH 106', ['PHYS101 Physics 1 -  Spr...</td>\n",
       "      <td>{'TH1': '0', 'TH2': '0', 'TH3': '0', 'TH4': '0'}</td>\n",
       "      <td>{'F1': '0', 'F2': '0', 'F3': '0', 'F4': '0'}</td>\n",
       "      <td>MALE</td>\n",
       "    </tr>\n",
       "    <tr>\n",
       "      <th>470</th>\n",
       "      <td>240510</td>\n",
       "      <td>Raximov Azizbek Bektashovich</td>\n",
       "      <td>1</td>\n",
       "      <td>a.raximov@newuu.uz</td>\n",
       "      <td>Enrolled</td>\n",
       "      <td>SCHOOL OF COMPUTING</td>\n",
       "      <td>Software Engineering</td>\n",
       "      <td>{'M1': '0', 'M2': ['MATH 106', ['MATH111 Calcu...</td>\n",
       "      <td>{'T1': '0', 'T2': '0', 'T3': '0', 'T4': '0'}</td>\n",
       "      <td>{'W1': ['MATH 106', ['PHYS101 Physics 1 -  Spr...</td>\n",
       "      <td>{'TH1': '0', 'TH2': '0', 'TH3': '0', 'TH4': '0'}</td>\n",
       "      <td>{'F1': '0', 'F2': '0', 'F3': '0', 'F4': '0'}</td>\n",
       "      <td>MALE</td>\n",
       "    </tr>\n",
       "    <tr>\n",
       "      <th>471</th>\n",
       "      <td>240511</td>\n",
       "      <td>Muxiddinova Shaxzodabonu Zafarovna</td>\n",
       "      <td>1</td>\n",
       "      <td>sh.muxiddinova@newuu.uz</td>\n",
       "      <td>Enrolled</td>\n",
       "      <td>SCHOOL OF MANAGEMENT</td>\n",
       "      <td>Industrial Management</td>\n",
       "      <td>{'M1': '0', 'M2': ['MATH 106', ['MATH111 Calcu...</td>\n",
       "      <td>{'T1': '0', 'T2': '0', 'T3': '0', 'T4': '0'}</td>\n",
       "      <td>{'W1': '0', 'W2': '0', 'W3': '0', 'W4': '0'}</td>\n",
       "      <td>{'TH1': '0', 'TH2': '0', 'TH3': '0', 'TH4': '0'}</td>\n",
       "      <td>{'F1': '0', 'F2': '0', 'F3': '0', 'F4': '0'}</td>\n",
       "      <td>FEMALE</td>\n",
       "    </tr>\n",
       "  </tbody>\n",
       "</table>\n",
       "<p>472 rows × 13 columns</p>\n",
       "</div>"
      ]
     },
     "execution_count": 31,
     "metadata": {},
     "output_type": "execute_result"
    }
   ],
   "execution_count": 31
  },
  {
   "metadata": {
    "ExecuteTime": {
     "end_time": "2025-08-10T14:04:47.642148Z",
     "start_time": "2025-08-10T14:04:47.639073Z"
    }
   },
   "cell_type": "code",
   "source": "new_df = df[['STUDY_YEAR','SCHOOL', 'EDUCATION_PROGRAM', 'MONDAY']]",
   "id": "26f287ee32ff31c9",
   "outputs": [],
   "execution_count": 32
  },
  {
   "metadata": {
    "ExecuteTime": {
     "end_time": "2025-08-10T14:04:47.904587Z",
     "start_time": "2025-08-10T14:04:47.896825Z"
    }
   },
   "cell_type": "code",
   "source": "new_df",
   "id": "feac46923b5d117b",
   "outputs": [
    {
     "data": {
      "text/plain": [
       "     STUDY_YEAR                                           SCHOOL  \\\n",
       "0             4                            SCHOOL OF ENGINEERING   \n",
       "1             4                            SCHOOL OF ENGINEERING   \n",
       "2             3                              SCHOOL OF COMPUTING   \n",
       "3             4                              SCHOOL OF COMPUTING   \n",
       "4             4                              SCHOOL OF COMPUTING   \n",
       "..          ...                                              ...   \n",
       "467           1  SCHOOL OF HUMANITIES, NATURAL & SOCIAL SCIENCES   \n",
       "468           1  SCHOOL OF HUMANITIES, NATURAL & SOCIAL SCIENCES   \n",
       "469           1  SCHOOL OF HUMANITIES, NATURAL & SOCIAL SCIENCES   \n",
       "470           1                              SCHOOL OF COMPUTING   \n",
       "471           1                             SCHOOL OF MANAGEMENT   \n",
       "\n",
       "                      EDUCATION_PROGRAM  \\\n",
       "0    Chemical and Materials Engineering   \n",
       "1                Mechanical Engineering   \n",
       "2                  Software Engineering   \n",
       "3                  Software Engineering   \n",
       "4                  Software Engineering   \n",
       "..                                  ...   \n",
       "467                 Applied Mathematics   \n",
       "468          Economics and Data Science   \n",
       "469                            Pedagogy   \n",
       "470                Software Engineering   \n",
       "471               Industrial Management   \n",
       "\n",
       "                                                MONDAY  \n",
       "0    {'M1': ['MATH 205', ['Calculus 2 - Fall 2024']...  \n",
       "1    {'M1': ['MATH 105', ['MATH211 Calculus 2 - Spr...  \n",
       "2    {'M1': '0', 'M2': ['MATH 205', ['SEC111 Comput...  \n",
       "3         {'M1': '0', 'M2': '0', 'M3': '0', 'M4': '0'}  \n",
       "4    {'M1': '0', 'M2': ['MATH 205', ['SEC111 Comput...  \n",
       "..                                                 ...  \n",
       "467       {'M1': '0', 'M2': '0', 'M3': '0', 'M4': '0'}  \n",
       "468  {'M1': ['MATH 107', ['MATH211 Calculus 2 - Spr...  \n",
       "469       {'M1': '0', 'M2': '0', 'M3': '0', 'M4': '0'}  \n",
       "470  {'M1': '0', 'M2': ['MATH 106', ['MATH111 Calcu...  \n",
       "471  {'M1': '0', 'M2': ['MATH 106', ['MATH111 Calcu...  \n",
       "\n",
       "[472 rows x 4 columns]"
      ],
      "text/html": [
       "<div>\n",
       "<style scoped>\n",
       "    .dataframe tbody tr th:only-of-type {\n",
       "        vertical-align: middle;\n",
       "    }\n",
       "\n",
       "    .dataframe tbody tr th {\n",
       "        vertical-align: top;\n",
       "    }\n",
       "\n",
       "    .dataframe thead th {\n",
       "        text-align: right;\n",
       "    }\n",
       "</style>\n",
       "<table border=\"1\" class=\"dataframe\">\n",
       "  <thead>\n",
       "    <tr style=\"text-align: right;\">\n",
       "      <th></th>\n",
       "      <th>STUDY_YEAR</th>\n",
       "      <th>SCHOOL</th>\n",
       "      <th>EDUCATION_PROGRAM</th>\n",
       "      <th>MONDAY</th>\n",
       "    </tr>\n",
       "  </thead>\n",
       "  <tbody>\n",
       "    <tr>\n",
       "      <th>0</th>\n",
       "      <td>4</td>\n",
       "      <td>SCHOOL OF ENGINEERING</td>\n",
       "      <td>Chemical and Materials Engineering</td>\n",
       "      <td>{'M1': ['MATH 205', ['Calculus 2 - Fall 2024']...</td>\n",
       "    </tr>\n",
       "    <tr>\n",
       "      <th>1</th>\n",
       "      <td>4</td>\n",
       "      <td>SCHOOL OF ENGINEERING</td>\n",
       "      <td>Mechanical Engineering</td>\n",
       "      <td>{'M1': ['MATH 105', ['MATH211 Calculus 2 - Spr...</td>\n",
       "    </tr>\n",
       "    <tr>\n",
       "      <th>2</th>\n",
       "      <td>3</td>\n",
       "      <td>SCHOOL OF COMPUTING</td>\n",
       "      <td>Software Engineering</td>\n",
       "      <td>{'M1': '0', 'M2': ['MATH 205', ['SEC111 Comput...</td>\n",
       "    </tr>\n",
       "    <tr>\n",
       "      <th>3</th>\n",
       "      <td>4</td>\n",
       "      <td>SCHOOL OF COMPUTING</td>\n",
       "      <td>Software Engineering</td>\n",
       "      <td>{'M1': '0', 'M2': '0', 'M3': '0', 'M4': '0'}</td>\n",
       "    </tr>\n",
       "    <tr>\n",
       "      <th>4</th>\n",
       "      <td>4</td>\n",
       "      <td>SCHOOL OF COMPUTING</td>\n",
       "      <td>Software Engineering</td>\n",
       "      <td>{'M1': '0', 'M2': ['MATH 205', ['SEC111 Comput...</td>\n",
       "    </tr>\n",
       "    <tr>\n",
       "      <th>...</th>\n",
       "      <td>...</td>\n",
       "      <td>...</td>\n",
       "      <td>...</td>\n",
       "      <td>...</td>\n",
       "    </tr>\n",
       "    <tr>\n",
       "      <th>467</th>\n",
       "      <td>1</td>\n",
       "      <td>SCHOOL OF HUMANITIES, NATURAL &amp; SOCIAL SCIENCES</td>\n",
       "      <td>Applied Mathematics</td>\n",
       "      <td>{'M1': '0', 'M2': '0', 'M3': '0', 'M4': '0'}</td>\n",
       "    </tr>\n",
       "    <tr>\n",
       "      <th>468</th>\n",
       "      <td>1</td>\n",
       "      <td>SCHOOL OF HUMANITIES, NATURAL &amp; SOCIAL SCIENCES</td>\n",
       "      <td>Economics and Data Science</td>\n",
       "      <td>{'M1': ['MATH 107', ['MATH211 Calculus 2 - Spr...</td>\n",
       "    </tr>\n",
       "    <tr>\n",
       "      <th>469</th>\n",
       "      <td>1</td>\n",
       "      <td>SCHOOL OF HUMANITIES, NATURAL &amp; SOCIAL SCIENCES</td>\n",
       "      <td>Pedagogy</td>\n",
       "      <td>{'M1': '0', 'M2': '0', 'M3': '0', 'M4': '0'}</td>\n",
       "    </tr>\n",
       "    <tr>\n",
       "      <th>470</th>\n",
       "      <td>1</td>\n",
       "      <td>SCHOOL OF COMPUTING</td>\n",
       "      <td>Software Engineering</td>\n",
       "      <td>{'M1': '0', 'M2': ['MATH 106', ['MATH111 Calcu...</td>\n",
       "    </tr>\n",
       "    <tr>\n",
       "      <th>471</th>\n",
       "      <td>1</td>\n",
       "      <td>SCHOOL OF MANAGEMENT</td>\n",
       "      <td>Industrial Management</td>\n",
       "      <td>{'M1': '0', 'M2': ['MATH 106', ['MATH111 Calcu...</td>\n",
       "    </tr>\n",
       "  </tbody>\n",
       "</table>\n",
       "<p>472 rows × 4 columns</p>\n",
       "</div>"
      ]
     },
     "execution_count": 33,
     "metadata": {},
     "output_type": "execute_result"
    }
   ],
   "execution_count": 33
  },
  {
   "metadata": {
    "ExecuteTime": {
     "end_time": "2025-08-10T14:04:48.133330Z",
     "start_time": "2025-08-10T14:04:48.129834Z"
    }
   },
   "cell_type": "code",
   "source": "df['GENDER']",
   "id": "e8077759e1613c05",
   "outputs": [
    {
     "data": {
      "text/plain": [
       "0      FEMALE\n",
       "1        MALE\n",
       "2        MALE\n",
       "3        MALE\n",
       "4        MALE\n",
       "        ...  \n",
       "467      MALE\n",
       "468      MALE\n",
       "469      MALE\n",
       "470      MALE\n",
       "471    FEMALE\n",
       "Name: GENDER, Length: 472, dtype: object"
      ]
     },
     "execution_count": 34,
     "metadata": {},
     "output_type": "execute_result"
    }
   ],
   "execution_count": 34
  },
  {
   "metadata": {
    "ExecuteTime": {
     "end_time": "2025-08-10T14:04:48.416633Z",
     "start_time": "2025-08-10T14:04:48.415101Z"
    }
   },
   "cell_type": "code",
   "source": "",
   "id": "8426fc574b2d3770",
   "outputs": [],
   "execution_count": 34
  },
  {
   "metadata": {
    "ExecuteTime": {
     "end_time": "2025-08-10T14:04:48.740282Z",
     "start_time": "2025-08-10T14:04:48.736697Z"
    }
   },
   "cell_type": "code",
   "source": [
    "def get_gender_statistics(exam_day, edu_programs):\n",
    "    gender_dictionary = {}\n",
    "    exam_day_sessions = list(df[exam_day][0].keys())\n",
    "    genders = ['Male', 'Female']\n",
    "\n",
    "    def is_available(info):\n",
    "        if info == '0' or info == 'CW':\n",
    "            return False\n",
    "        return True\n",
    "\n",
    "    for q in edu_programs:\n",
    "        gender_dictionary[q] = {}\n",
    "\n",
    "    for q in edu_programs:\n",
    "        for l in exam_day_sessions:\n",
    "            gender_dictionary[q][l] = {}\n",
    "\n",
    "    for k in edu_programs:\n",
    "        for g in exam_day_sessions:\n",
    "            for r in genders:\n",
    "                gender_dictionary[k][g][r] = 0\n",
    "\n",
    "    for idx, school in df['EDUCATION_PROGRAM'].items():\n",
    "        if school in edu_programs:\n",
    "            sessions = gender_dictionary[school]\n",
    "            for session in exam_day_sessions:\n",
    "                if df['GENDER'][idx] == 'MALE' and is_available(df[exam_day][idx][session]):\n",
    "                    sessions[session]['Male'] += 1\n",
    "                elif is_available(df[exam_day][idx][session]):\n",
    "                    sessions[session]['Female'] += 1\n",
    "    \n",
    "    \n",
    "\n",
    "    return gender_dictionary"
   ],
   "id": "f37ca20c31c94d7d",
   "outputs": [],
   "execution_count": 35
  },
  {
   "metadata": {
    "ExecuteTime": {
     "end_time": "2025-08-10T14:04:49.191379Z",
     "start_time": "2025-08-10T14:04:49.184298Z"
    }
   },
   "cell_type": "code",
   "source": [
    "a = get_gender_statistics(\"MONDAY\", [\"Software Engineering\", \"Cyber Security\", \"AI and Robotics\"])\n",
    "a"
   ],
   "id": "9bc3327c79b24fe",
   "outputs": [
    {
     "data": {
      "text/plain": [
       "{'Software Engineering': {'M1': {'Male': 15, 'Female': 1},\n",
       "  'M2': {'Male': 18, 'Female': 4},\n",
       "  'M3': {'Male': 4, 'Female': 3},\n",
       "  'M4': {'Male': 0, 'Female': 0}},\n",
       " 'Cyber Security': {'M1': {'Male': 15, 'Female': 1},\n",
       "  'M2': {'Male': 2, 'Female': 0},\n",
       "  'M3': {'Male': 3, 'Female': 1},\n",
       "  'M4': {'Male': 0, 'Female': 0}},\n",
       " 'AI and Robotics': {'M1': {'Male': 8, 'Female': 0},\n",
       "  'M2': {'Male': 1, 'Female': 1},\n",
       "  'M3': {'Male': 0, 'Female': 1},\n",
       "  'M4': {'Male': 0, 'Female': 0}}}"
      ]
     },
     "execution_count": 36,
     "metadata": {},
     "output_type": "execute_result"
    }
   ],
   "execution_count": 36
  },
  {
   "metadata": {
    "ExecuteTime": {
     "end_time": "2025-08-10T14:04:49.508239Z",
     "start_time": "2025-08-10T14:04:49.503449Z"
    }
   },
   "cell_type": "code",
   "source": [
    "def get_numbers_by_session(examination_day, education_program, session_number):\n",
    "    data_frame = get_gender_statistics(examination_day, education_program)\n",
    "    male, female = 0,0\n",
    "    mini_keys = list(data_frame[education_program[0]].keys())\n",
    "    \n",
    "    if session_number == 1:\n",
    "        for program in data_frame:\n",
    "            male = male + data_frame[program][mini_keys[session_number-1]]['MALE']\n",
    "            female = female + data_frame[program][mini_keys[session_number-1]]['FEMALE']\n",
    "\n",
    "    if session_number == 2:\n",
    "        for program in data_frame:\n",
    "            male = male + data_frame[program][mini_keys[session_number-1]]['MALE']\n",
    "            female = female + data_frame[program][mini_keys[session_number-1]]['FEMALE']\n",
    "\n",
    "    if session_number == 3:\n",
    "        for program in data_frame:\n",
    "            male = male + data_frame[program][mini_keys[session_number-1]]['MALE']\n",
    "            female = female + data_frame[program][mini_keys[session_number-1]]['FEMALE']\n",
    "\n",
    "    if session_number == 4:\n",
    "        for program in data_frame:\n",
    "            male = male + data_frame[program][mini_keys[session_number-1]]['MALE']\n",
    "            female = female + data_frame[program][mini_keys[session_number-1]]['FEMALE']\n",
    "    \n",
    "    return [male, female]"
   ],
   "id": "416e020940ed920b",
   "outputs": [],
   "execution_count": 37
  },
  {
   "metadata": {
    "ExecuteTime": {
     "end_time": "2025-08-10T14:04:49.839436Z",
     "start_time": "2025-08-10T14:04:49.836619Z"
    }
   },
   "cell_type": "code",
   "source": [
    "def get_df_of_counted_students_by_study_year(educational_program, exam):\n",
    "    students_statistics_by_edu_year = df[df[\"EDUCATION_PROGRAM\"].isin(educational_program)]\n",
    "    students_statistics_by_edu_year = students_statistics_by_edu_year[['EDUCATION_PROGRAM', 'STUDY_YEAR', exam]]\n",
    "    return students_statistics_by_edu_year"
   ],
   "id": "a894326cfbe5aa0c",
   "outputs": [],
   "execution_count": 38
  },
  {
   "metadata": {
    "ExecuteTime": {
     "end_time": "2025-08-10T14:04:50.101351Z",
     "start_time": "2025-08-10T14:04:50.097972Z"
    }
   },
   "cell_type": "code",
   "source": "a = get_df_of_counted_students_by_study_year([\"Software Engineering\", \"Cyber Security\", \"AI and Robotics\"],\"MONDAY\")",
   "id": "4e6490fd6ab5bea2",
   "outputs": [],
   "execution_count": 39
  },
  {
   "metadata": {
    "ExecuteTime": {
     "end_time": "2025-08-10T14:04:50.408816Z",
     "start_time": "2025-08-10T14:04:50.401360Z"
    }
   },
   "cell_type": "code",
   "source": "a",
   "id": "3d05ded5b8fd69b0",
   "outputs": [
    {
     "data": {
      "text/plain": [
       "        EDUCATION_PROGRAM  STUDY_YEAR  \\\n",
       "2    Software Engineering           3   \n",
       "3    Software Engineering           4   \n",
       "4    Software Engineering           4   \n",
       "5    Software Engineering           4   \n",
       "6    Software Engineering           4   \n",
       "..                    ...         ...   \n",
       "460  Software Engineering           1   \n",
       "461  Software Engineering           1   \n",
       "462  Software Engineering           1   \n",
       "464       AI and Robotics           1   \n",
       "470  Software Engineering           1   \n",
       "\n",
       "                                                MONDAY  \n",
       "2    {'M1': '0', 'M2': ['MATH 205', ['SEC111 Comput...  \n",
       "3         {'M1': '0', 'M2': '0', 'M3': '0', 'M4': '0'}  \n",
       "4    {'M1': '0', 'M2': ['MATH 205', ['SEC111 Comput...  \n",
       "5         {'M1': '0', 'M2': '0', 'M3': '0', 'M4': '0'}  \n",
       "6         {'M1': '0', 'M2': '0', 'M3': '0', 'M4': '0'}  \n",
       "..                                                 ...  \n",
       "460       {'M1': '0', 'M2': '0', 'M3': '0', 'M4': '0'}  \n",
       "461       {'M1': '0', 'M2': '0', 'M3': '0', 'M4': '0'}  \n",
       "462  {'M1': '0', 'M2': ['MATH 106', ['MATH111 Calcu...  \n",
       "464  {'M1': ['MATH 107', ['MATH211 Calculus 2 - Spr...  \n",
       "470  {'M1': '0', 'M2': ['MATH 106', ['MATH111 Calcu...  \n",
       "\n",
       "[193 rows x 3 columns]"
      ],
      "text/html": [
       "<div>\n",
       "<style scoped>\n",
       "    .dataframe tbody tr th:only-of-type {\n",
       "        vertical-align: middle;\n",
       "    }\n",
       "\n",
       "    .dataframe tbody tr th {\n",
       "        vertical-align: top;\n",
       "    }\n",
       "\n",
       "    .dataframe thead th {\n",
       "        text-align: right;\n",
       "    }\n",
       "</style>\n",
       "<table border=\"1\" class=\"dataframe\">\n",
       "  <thead>\n",
       "    <tr style=\"text-align: right;\">\n",
       "      <th></th>\n",
       "      <th>EDUCATION_PROGRAM</th>\n",
       "      <th>STUDY_YEAR</th>\n",
       "      <th>MONDAY</th>\n",
       "    </tr>\n",
       "  </thead>\n",
       "  <tbody>\n",
       "    <tr>\n",
       "      <th>2</th>\n",
       "      <td>Software Engineering</td>\n",
       "      <td>3</td>\n",
       "      <td>{'M1': '0', 'M2': ['MATH 205', ['SEC111 Comput...</td>\n",
       "    </tr>\n",
       "    <tr>\n",
       "      <th>3</th>\n",
       "      <td>Software Engineering</td>\n",
       "      <td>4</td>\n",
       "      <td>{'M1': '0', 'M2': '0', 'M3': '0', 'M4': '0'}</td>\n",
       "    </tr>\n",
       "    <tr>\n",
       "      <th>4</th>\n",
       "      <td>Software Engineering</td>\n",
       "      <td>4</td>\n",
       "      <td>{'M1': '0', 'M2': ['MATH 205', ['SEC111 Comput...</td>\n",
       "    </tr>\n",
       "    <tr>\n",
       "      <th>5</th>\n",
       "      <td>Software Engineering</td>\n",
       "      <td>4</td>\n",
       "      <td>{'M1': '0', 'M2': '0', 'M3': '0', 'M4': '0'}</td>\n",
       "    </tr>\n",
       "    <tr>\n",
       "      <th>6</th>\n",
       "      <td>Software Engineering</td>\n",
       "      <td>4</td>\n",
       "      <td>{'M1': '0', 'M2': '0', 'M3': '0', 'M4': '0'}</td>\n",
       "    </tr>\n",
       "    <tr>\n",
       "      <th>...</th>\n",
       "      <td>...</td>\n",
       "      <td>...</td>\n",
       "      <td>...</td>\n",
       "    </tr>\n",
       "    <tr>\n",
       "      <th>460</th>\n",
       "      <td>Software Engineering</td>\n",
       "      <td>1</td>\n",
       "      <td>{'M1': '0', 'M2': '0', 'M3': '0', 'M4': '0'}</td>\n",
       "    </tr>\n",
       "    <tr>\n",
       "      <th>461</th>\n",
       "      <td>Software Engineering</td>\n",
       "      <td>1</td>\n",
       "      <td>{'M1': '0', 'M2': '0', 'M3': '0', 'M4': '0'}</td>\n",
       "    </tr>\n",
       "    <tr>\n",
       "      <th>462</th>\n",
       "      <td>Software Engineering</td>\n",
       "      <td>1</td>\n",
       "      <td>{'M1': '0', 'M2': ['MATH 106', ['MATH111 Calcu...</td>\n",
       "    </tr>\n",
       "    <tr>\n",
       "      <th>464</th>\n",
       "      <td>AI and Robotics</td>\n",
       "      <td>1</td>\n",
       "      <td>{'M1': ['MATH 107', ['MATH211 Calculus 2 - Spr...</td>\n",
       "    </tr>\n",
       "    <tr>\n",
       "      <th>470</th>\n",
       "      <td>Software Engineering</td>\n",
       "      <td>1</td>\n",
       "      <td>{'M1': '0', 'M2': ['MATH 106', ['MATH111 Calcu...</td>\n",
       "    </tr>\n",
       "  </tbody>\n",
       "</table>\n",
       "<p>193 rows × 3 columns</p>\n",
       "</div>"
      ]
     },
     "execution_count": 40,
     "metadata": {},
     "output_type": "execute_result"
    }
   ],
   "execution_count": 40
  },
  {
   "metadata": {
    "ExecuteTime": {
     "end_time": "2025-08-10T14:04:50.734002Z",
     "start_time": "2025-08-10T14:04:50.731625Z"
    }
   },
   "cell_type": "code",
   "source": "q = a['EDUCATION_PROGRAM'].value_counts()",
   "id": "563f71cae7c894ef",
   "outputs": [],
   "execution_count": 41
  },
  {
   "metadata": {
    "ExecuteTime": {
     "end_time": "2025-08-10T14:35:19.109028Z",
     "start_time": "2025-08-10T14:35:19.062313Z"
    }
   },
   "cell_type": "code",
   "source": "q",
   "id": "4934b30894afa2dc",
   "outputs": [
    {
     "data": {
      "text/plain": [
       "EDUCATION_PROGRAM\n",
       "Software Engineering    140\n",
       "Cyber Security           32\n",
       "AI and Robotics          21\n",
       "Name: count, dtype: int64"
      ]
     },
     "execution_count": 44,
     "metadata": {},
     "output_type": "execute_result"
    }
   ],
   "execution_count": 44
  },
  {
   "metadata": {
    "ExecuteTime": {
     "end_time": "2025-08-10T14:42:33.206792Z",
     "start_time": "2025-08-10T14:42:33.204869Z"
    }
   },
   "cell_type": "code",
   "source": "",
   "id": "87c1e244e3607e52",
   "outputs": [],
   "execution_count": 59
  },
  {
   "metadata": {
    "ExecuteTime": {
     "end_time": "2025-08-10T14:42:33.554444Z",
     "start_time": "2025-08-10T14:42:33.552888Z"
    }
   },
   "cell_type": "code",
   "source": "",
   "id": "4cc2418a5311ad6f",
   "outputs": [],
   "execution_count": 59
  },
  {
   "metadata": {
    "ExecuteTime": {
     "end_time": "2025-08-10T15:27:16.299616Z",
     "start_time": "2025-08-10T15:27:16.288072Z"
    }
   },
   "cell_type": "code",
   "source": [
    "def get_df_of_counted_students_by_study_year(school):\n",
    "    students_statistics_by_edu_year = df[df[\"SCHOOL\"].isin(school)]\n",
    "    counter = students_statistics_by_edu_year['STUDY_YEAR'].value_counts(ascending=True)\n",
    "    studyyear = []\n",
    "    numbers = []\n",
    "    for z in counter.keys():\n",
    "        if z == 1:\n",
    "            studyyear.append(\"Freshmen\")\n",
    "        if z == 2:\n",
    "            studyyear.append(\"Sophomore\")\n",
    "        if z == 3:\n",
    "            studyyear.append(\"Junior\")\n",
    "        if z == 4:\n",
    "            studyyear.append(\"Senior\")\n",
    "        numbers.append(counter[z])\n",
    "\n",
    "    return pd.DataFrame(list(zip(studyyear, numbers)), columns=[\"STUDY YEAR\", \"IN NUMBERS\"])"
   ],
   "id": "dc681c2bd2da91d9",
   "outputs": [],
   "execution_count": 96
  },
  {
   "metadata": {
    "ExecuteTime": {
     "end_time": "2025-08-10T15:27:16.730479Z",
     "start_time": "2025-08-10T15:27:16.723244Z"
    }
   },
   "cell_type": "code",
   "source": "a = get_df_of_counted_students_by_study_year(['SCHOOL OF COMPUTING'])",
   "id": "6019f33c6d90042d",
   "outputs": [],
   "execution_count": 97
  },
  {
   "metadata": {
    "ExecuteTime": {
     "end_time": "2025-08-10T15:27:17.013587Z",
     "start_time": "2025-08-10T15:27:17.010622Z"
    }
   },
   "cell_type": "code",
   "source": "type(a['STUDY YEAR'][0])",
   "id": "911ca75942a83a50",
   "outputs": [
    {
     "data": {
      "text/plain": [
       "str"
      ]
     },
     "execution_count": 98,
     "metadata": {},
     "output_type": "execute_result"
    }
   ],
   "execution_count": 98
  },
  {
   "metadata": {
    "ExecuteTime": {
     "end_time": "2025-08-10T15:27:17.341620Z",
     "start_time": "2025-08-10T15:27:17.307317Z"
    }
   },
   "cell_type": "code",
   "source": [
    "import plotly.express as px\n",
    "fig = px.bar(\n",
    "    a,\n",
    "    x=\"STUDY YEAR\",\n",
    "    y=\"IN NUMBERS\",\n",
    ")\n",
    "\n",
    "fig.update_layout(\n",
    "    xaxis_title=\"Session\",\n",
    "    yaxis_title=\"Number of Students\",\n",
    "    width=400,\n",
    "    height=250,\n",
    "    margin=dict(l=30, r=30, t=20, b=0),\n",
    "    bargap=0.5\n",
    ")\n",
    "\n",
    "fig.update_traces(width=0.4)\n"
   ],
   "id": "695f484e43cc3150",
   "outputs": [
    {
     "data": {
      "application/vnd.plotly.v1+json": {
       "data": [
        {
         "alignmentgroup": "True",
         "hovertemplate": "STUDY YEAR=%{x}<br>IN NUMBERS=%{y}<extra></extra>",
         "legendgroup": "",
         "marker": {
          "color": "#636efa",
          "pattern": {
           "shape": ""
          }
         },
         "name": "",
         "offsetgroup": "",
         "orientation": "v",
         "showlegend": false,
         "textposition": "auto",
         "x": [
          "Junior",
          "Senior",
          "Freshmen",
          "Sophomore"
         ],
         "xaxis": "x",
         "y": [
          32,
          45,
          54,
          62
         ],
         "yaxis": "y",
         "type": "bar",
         "width": 0.4
        }
       ],
       "layout": {
        "template": {
         "data": {
          "histogram2dcontour": [
           {
            "type": "histogram2dcontour",
            "colorbar": {
             "outlinewidth": 0,
             "ticks": ""
            },
            "colorscale": [
             [
              0.0,
              "#0d0887"
             ],
             [
              0.1111111111111111,
              "#46039f"
             ],
             [
              0.2222222222222222,
              "#7201a8"
             ],
             [
              0.3333333333333333,
              "#9c179e"
             ],
             [
              0.4444444444444444,
              "#bd3786"
             ],
             [
              0.5555555555555556,
              "#d8576b"
             ],
             [
              0.6666666666666666,
              "#ed7953"
             ],
             [
              0.7777777777777778,
              "#fb9f3a"
             ],
             [
              0.8888888888888888,
              "#fdca26"
             ],
             [
              1.0,
              "#f0f921"
             ]
            ]
           }
          ],
          "choropleth": [
           {
            "type": "choropleth",
            "colorbar": {
             "outlinewidth": 0,
             "ticks": ""
            }
           }
          ],
          "histogram2d": [
           {
            "type": "histogram2d",
            "colorbar": {
             "outlinewidth": 0,
             "ticks": ""
            },
            "colorscale": [
             [
              0.0,
              "#0d0887"
             ],
             [
              0.1111111111111111,
              "#46039f"
             ],
             [
              0.2222222222222222,
              "#7201a8"
             ],
             [
              0.3333333333333333,
              "#9c179e"
             ],
             [
              0.4444444444444444,
              "#bd3786"
             ],
             [
              0.5555555555555556,
              "#d8576b"
             ],
             [
              0.6666666666666666,
              "#ed7953"
             ],
             [
              0.7777777777777778,
              "#fb9f3a"
             ],
             [
              0.8888888888888888,
              "#fdca26"
             ],
             [
              1.0,
              "#f0f921"
             ]
            ]
           }
          ],
          "heatmap": [
           {
            "type": "heatmap",
            "colorbar": {
             "outlinewidth": 0,
             "ticks": ""
            },
            "colorscale": [
             [
              0.0,
              "#0d0887"
             ],
             [
              0.1111111111111111,
              "#46039f"
             ],
             [
              0.2222222222222222,
              "#7201a8"
             ],
             [
              0.3333333333333333,
              "#9c179e"
             ],
             [
              0.4444444444444444,
              "#bd3786"
             ],
             [
              0.5555555555555556,
              "#d8576b"
             ],
             [
              0.6666666666666666,
              "#ed7953"
             ],
             [
              0.7777777777777778,
              "#fb9f3a"
             ],
             [
              0.8888888888888888,
              "#fdca26"
             ],
             [
              1.0,
              "#f0f921"
             ]
            ]
           }
          ],
          "heatmapgl": [
           {
            "type": "heatmapgl",
            "colorbar": {
             "outlinewidth": 0,
             "ticks": ""
            },
            "colorscale": [
             [
              0.0,
              "#0d0887"
             ],
             [
              0.1111111111111111,
              "#46039f"
             ],
             [
              0.2222222222222222,
              "#7201a8"
             ],
             [
              0.3333333333333333,
              "#9c179e"
             ],
             [
              0.4444444444444444,
              "#bd3786"
             ],
             [
              0.5555555555555556,
              "#d8576b"
             ],
             [
              0.6666666666666666,
              "#ed7953"
             ],
             [
              0.7777777777777778,
              "#fb9f3a"
             ],
             [
              0.8888888888888888,
              "#fdca26"
             ],
             [
              1.0,
              "#f0f921"
             ]
            ]
           }
          ],
          "contourcarpet": [
           {
            "type": "contourcarpet",
            "colorbar": {
             "outlinewidth": 0,
             "ticks": ""
            }
           }
          ],
          "contour": [
           {
            "type": "contour",
            "colorbar": {
             "outlinewidth": 0,
             "ticks": ""
            },
            "colorscale": [
             [
              0.0,
              "#0d0887"
             ],
             [
              0.1111111111111111,
              "#46039f"
             ],
             [
              0.2222222222222222,
              "#7201a8"
             ],
             [
              0.3333333333333333,
              "#9c179e"
             ],
             [
              0.4444444444444444,
              "#bd3786"
             ],
             [
              0.5555555555555556,
              "#d8576b"
             ],
             [
              0.6666666666666666,
              "#ed7953"
             ],
             [
              0.7777777777777778,
              "#fb9f3a"
             ],
             [
              0.8888888888888888,
              "#fdca26"
             ],
             [
              1.0,
              "#f0f921"
             ]
            ]
           }
          ],
          "surface": [
           {
            "type": "surface",
            "colorbar": {
             "outlinewidth": 0,
             "ticks": ""
            },
            "colorscale": [
             [
              0.0,
              "#0d0887"
             ],
             [
              0.1111111111111111,
              "#46039f"
             ],
             [
              0.2222222222222222,
              "#7201a8"
             ],
             [
              0.3333333333333333,
              "#9c179e"
             ],
             [
              0.4444444444444444,
              "#bd3786"
             ],
             [
              0.5555555555555556,
              "#d8576b"
             ],
             [
              0.6666666666666666,
              "#ed7953"
             ],
             [
              0.7777777777777778,
              "#fb9f3a"
             ],
             [
              0.8888888888888888,
              "#fdca26"
             ],
             [
              1.0,
              "#f0f921"
             ]
            ]
           }
          ],
          "mesh3d": [
           {
            "type": "mesh3d",
            "colorbar": {
             "outlinewidth": 0,
             "ticks": ""
            }
           }
          ],
          "scatter": [
           {
            "fillpattern": {
             "fillmode": "overlay",
             "size": 10,
             "solidity": 0.2
            },
            "type": "scatter"
           }
          ],
          "parcoords": [
           {
            "type": "parcoords",
            "line": {
             "colorbar": {
              "outlinewidth": 0,
              "ticks": ""
             }
            }
           }
          ],
          "scatterpolargl": [
           {
            "type": "scatterpolargl",
            "marker": {
             "colorbar": {
              "outlinewidth": 0,
              "ticks": ""
             }
            }
           }
          ],
          "bar": [
           {
            "error_x": {
             "color": "#2a3f5f"
            },
            "error_y": {
             "color": "#2a3f5f"
            },
            "marker": {
             "line": {
              "color": "#E5ECF6",
              "width": 0.5
             },
             "pattern": {
              "fillmode": "overlay",
              "size": 10,
              "solidity": 0.2
             }
            },
            "type": "bar"
           }
          ],
          "scattergeo": [
           {
            "type": "scattergeo",
            "marker": {
             "colorbar": {
              "outlinewidth": 0,
              "ticks": ""
             }
            }
           }
          ],
          "scatterpolar": [
           {
            "type": "scatterpolar",
            "marker": {
             "colorbar": {
              "outlinewidth": 0,
              "ticks": ""
             }
            }
           }
          ],
          "histogram": [
           {
            "marker": {
             "pattern": {
              "fillmode": "overlay",
              "size": 10,
              "solidity": 0.2
             }
            },
            "type": "histogram"
           }
          ],
          "scattergl": [
           {
            "type": "scattergl",
            "marker": {
             "colorbar": {
              "outlinewidth": 0,
              "ticks": ""
             }
            }
           }
          ],
          "scatter3d": [
           {
            "type": "scatter3d",
            "line": {
             "colorbar": {
              "outlinewidth": 0,
              "ticks": ""
             }
            },
            "marker": {
             "colorbar": {
              "outlinewidth": 0,
              "ticks": ""
             }
            }
           }
          ],
          "scattermapbox": [
           {
            "type": "scattermapbox",
            "marker": {
             "colorbar": {
              "outlinewidth": 0,
              "ticks": ""
             }
            }
           }
          ],
          "scatterternary": [
           {
            "type": "scatterternary",
            "marker": {
             "colorbar": {
              "outlinewidth": 0,
              "ticks": ""
             }
            }
           }
          ],
          "scattercarpet": [
           {
            "type": "scattercarpet",
            "marker": {
             "colorbar": {
              "outlinewidth": 0,
              "ticks": ""
             }
            }
           }
          ],
          "carpet": [
           {
            "aaxis": {
             "endlinecolor": "#2a3f5f",
             "gridcolor": "white",
             "linecolor": "white",
             "minorgridcolor": "white",
             "startlinecolor": "#2a3f5f"
            },
            "baxis": {
             "endlinecolor": "#2a3f5f",
             "gridcolor": "white",
             "linecolor": "white",
             "minorgridcolor": "white",
             "startlinecolor": "#2a3f5f"
            },
            "type": "carpet"
           }
          ],
          "table": [
           {
            "cells": {
             "fill": {
              "color": "#EBF0F8"
             },
             "line": {
              "color": "white"
             }
            },
            "header": {
             "fill": {
              "color": "#C8D4E3"
             },
             "line": {
              "color": "white"
             }
            },
            "type": "table"
           }
          ],
          "barpolar": [
           {
            "marker": {
             "line": {
              "color": "#E5ECF6",
              "width": 0.5
             },
             "pattern": {
              "fillmode": "overlay",
              "size": 10,
              "solidity": 0.2
             }
            },
            "type": "barpolar"
           }
          ],
          "pie": [
           {
            "automargin": true,
            "type": "pie"
           }
          ]
         },
         "layout": {
          "autotypenumbers": "strict",
          "colorway": [
           "#636efa",
           "#EF553B",
           "#00cc96",
           "#ab63fa",
           "#FFA15A",
           "#19d3f3",
           "#FF6692",
           "#B6E880",
           "#FF97FF",
           "#FECB52"
          ],
          "font": {
           "color": "#2a3f5f"
          },
          "hovermode": "closest",
          "hoverlabel": {
           "align": "left"
          },
          "paper_bgcolor": "white",
          "plot_bgcolor": "#E5ECF6",
          "polar": {
           "bgcolor": "#E5ECF6",
           "angularaxis": {
            "gridcolor": "white",
            "linecolor": "white",
            "ticks": ""
           },
           "radialaxis": {
            "gridcolor": "white",
            "linecolor": "white",
            "ticks": ""
           }
          },
          "ternary": {
           "bgcolor": "#E5ECF6",
           "aaxis": {
            "gridcolor": "white",
            "linecolor": "white",
            "ticks": ""
           },
           "baxis": {
            "gridcolor": "white",
            "linecolor": "white",
            "ticks": ""
           },
           "caxis": {
            "gridcolor": "white",
            "linecolor": "white",
            "ticks": ""
           }
          },
          "coloraxis": {
           "colorbar": {
            "outlinewidth": 0,
            "ticks": ""
           }
          },
          "colorscale": {
           "sequential": [
            [
             0.0,
             "#0d0887"
            ],
            [
             0.1111111111111111,
             "#46039f"
            ],
            [
             0.2222222222222222,
             "#7201a8"
            ],
            [
             0.3333333333333333,
             "#9c179e"
            ],
            [
             0.4444444444444444,
             "#bd3786"
            ],
            [
             0.5555555555555556,
             "#d8576b"
            ],
            [
             0.6666666666666666,
             "#ed7953"
            ],
            [
             0.7777777777777778,
             "#fb9f3a"
            ],
            [
             0.8888888888888888,
             "#fdca26"
            ],
            [
             1.0,
             "#f0f921"
            ]
           ],
           "sequentialminus": [
            [
             0.0,
             "#0d0887"
            ],
            [
             0.1111111111111111,
             "#46039f"
            ],
            [
             0.2222222222222222,
             "#7201a8"
            ],
            [
             0.3333333333333333,
             "#9c179e"
            ],
            [
             0.4444444444444444,
             "#bd3786"
            ],
            [
             0.5555555555555556,
             "#d8576b"
            ],
            [
             0.6666666666666666,
             "#ed7953"
            ],
            [
             0.7777777777777778,
             "#fb9f3a"
            ],
            [
             0.8888888888888888,
             "#fdca26"
            ],
            [
             1.0,
             "#f0f921"
            ]
           ],
           "diverging": [
            [
             0,
             "#8e0152"
            ],
            [
             0.1,
             "#c51b7d"
            ],
            [
             0.2,
             "#de77ae"
            ],
            [
             0.3,
             "#f1b6da"
            ],
            [
             0.4,
             "#fde0ef"
            ],
            [
             0.5,
             "#f7f7f7"
            ],
            [
             0.6,
             "#e6f5d0"
            ],
            [
             0.7,
             "#b8e186"
            ],
            [
             0.8,
             "#7fbc41"
            ],
            [
             0.9,
             "#4d9221"
            ],
            [
             1,
             "#276419"
            ]
           ]
          },
          "xaxis": {
           "gridcolor": "white",
           "linecolor": "white",
           "ticks": "",
           "title": {
            "standoff": 15
           },
           "zerolinecolor": "white",
           "automargin": true,
           "zerolinewidth": 2
          },
          "yaxis": {
           "gridcolor": "white",
           "linecolor": "white",
           "ticks": "",
           "title": {
            "standoff": 15
           },
           "zerolinecolor": "white",
           "automargin": true,
           "zerolinewidth": 2
          },
          "scene": {
           "xaxis": {
            "backgroundcolor": "#E5ECF6",
            "gridcolor": "white",
            "linecolor": "white",
            "showbackground": true,
            "ticks": "",
            "zerolinecolor": "white",
            "gridwidth": 2
           },
           "yaxis": {
            "backgroundcolor": "#E5ECF6",
            "gridcolor": "white",
            "linecolor": "white",
            "showbackground": true,
            "ticks": "",
            "zerolinecolor": "white",
            "gridwidth": 2
           },
           "zaxis": {
            "backgroundcolor": "#E5ECF6",
            "gridcolor": "white",
            "linecolor": "white",
            "showbackground": true,
            "ticks": "",
            "zerolinecolor": "white",
            "gridwidth": 2
           }
          },
          "shapedefaults": {
           "line": {
            "color": "#2a3f5f"
           }
          },
          "annotationdefaults": {
           "arrowcolor": "#2a3f5f",
           "arrowhead": 0,
           "arrowwidth": 1
          },
          "geo": {
           "bgcolor": "white",
           "landcolor": "#E5ECF6",
           "subunitcolor": "white",
           "showland": true,
           "showlakes": true,
           "lakecolor": "white"
          },
          "title": {
           "x": 0.05
          },
          "mapbox": {
           "style": "light"
          }
         }
        },
        "xaxis": {
         "anchor": "y",
         "domain": [
          0.0,
          1.0
         ],
         "title": {
          "text": "Session"
         }
        },
        "yaxis": {
         "anchor": "x",
         "domain": [
          0.0,
          1.0
         ],
         "title": {
          "text": "Number of Students"
         }
        },
        "legend": {
         "tracegroupgap": 0
        },
        "margin": {
         "t": 20,
         "l": 30,
         "r": 30,
         "b": 0
        },
        "barmode": "relative",
        "width": 400,
        "height": 250,
        "bargap": 0.5
       },
       "config": {
        "plotlyServerURL": "https://plot.ly"
       }
      },
      "text/html": [
       "<div>                            <div id=\"f1986981-fef9-473d-b778-3f4d9480730c\" class=\"plotly-graph-div\" style=\"height:250px; width:400px;\"></div>            <script type=\"text/javascript\">                require([\"plotly\"], function(Plotly) {                    window.PLOTLYENV=window.PLOTLYENV || {};                                    if (document.getElementById(\"f1986981-fef9-473d-b778-3f4d9480730c\")) {                    Plotly.newPlot(                        \"f1986981-fef9-473d-b778-3f4d9480730c\",                        [{\"alignmentgroup\":\"True\",\"hovertemplate\":\"STUDY YEAR=%{x}\\u003cbr\\u003eIN NUMBERS=%{y}\\u003cextra\\u003e\\u003c\\u002fextra\\u003e\",\"legendgroup\":\"\",\"marker\":{\"color\":\"#636efa\",\"pattern\":{\"shape\":\"\"}},\"name\":\"\",\"offsetgroup\":\"\",\"orientation\":\"v\",\"showlegend\":false,\"textposition\":\"auto\",\"x\":[\"Junior\",\"Senior\",\"Freshmen\",\"Sophomore\"],\"xaxis\":\"x\",\"y\":[32,45,54,62],\"yaxis\":\"y\",\"type\":\"bar\",\"width\":0.4}],                        {\"template\":{\"data\":{\"histogram2dcontour\":[{\"type\":\"histogram2dcontour\",\"colorbar\":{\"outlinewidth\":0,\"ticks\":\"\"},\"colorscale\":[[0.0,\"#0d0887\"],[0.1111111111111111,\"#46039f\"],[0.2222222222222222,\"#7201a8\"],[0.3333333333333333,\"#9c179e\"],[0.4444444444444444,\"#bd3786\"],[0.5555555555555556,\"#d8576b\"],[0.6666666666666666,\"#ed7953\"],[0.7777777777777778,\"#fb9f3a\"],[0.8888888888888888,\"#fdca26\"],[1.0,\"#f0f921\"]]}],\"choropleth\":[{\"type\":\"choropleth\",\"colorbar\":{\"outlinewidth\":0,\"ticks\":\"\"}}],\"histogram2d\":[{\"type\":\"histogram2d\",\"colorbar\":{\"outlinewidth\":0,\"ticks\":\"\"},\"colorscale\":[[0.0,\"#0d0887\"],[0.1111111111111111,\"#46039f\"],[0.2222222222222222,\"#7201a8\"],[0.3333333333333333,\"#9c179e\"],[0.4444444444444444,\"#bd3786\"],[0.5555555555555556,\"#d8576b\"],[0.6666666666666666,\"#ed7953\"],[0.7777777777777778,\"#fb9f3a\"],[0.8888888888888888,\"#fdca26\"],[1.0,\"#f0f921\"]]}],\"heatmap\":[{\"type\":\"heatmap\",\"colorbar\":{\"outlinewidth\":0,\"ticks\":\"\"},\"colorscale\":[[0.0,\"#0d0887\"],[0.1111111111111111,\"#46039f\"],[0.2222222222222222,\"#7201a8\"],[0.3333333333333333,\"#9c179e\"],[0.4444444444444444,\"#bd3786\"],[0.5555555555555556,\"#d8576b\"],[0.6666666666666666,\"#ed7953\"],[0.7777777777777778,\"#fb9f3a\"],[0.8888888888888888,\"#fdca26\"],[1.0,\"#f0f921\"]]}],\"heatmapgl\":[{\"type\":\"heatmapgl\",\"colorbar\":{\"outlinewidth\":0,\"ticks\":\"\"},\"colorscale\":[[0.0,\"#0d0887\"],[0.1111111111111111,\"#46039f\"],[0.2222222222222222,\"#7201a8\"],[0.3333333333333333,\"#9c179e\"],[0.4444444444444444,\"#bd3786\"],[0.5555555555555556,\"#d8576b\"],[0.6666666666666666,\"#ed7953\"],[0.7777777777777778,\"#fb9f3a\"],[0.8888888888888888,\"#fdca26\"],[1.0,\"#f0f921\"]]}],\"contourcarpet\":[{\"type\":\"contourcarpet\",\"colorbar\":{\"outlinewidth\":0,\"ticks\":\"\"}}],\"contour\":[{\"type\":\"contour\",\"colorbar\":{\"outlinewidth\":0,\"ticks\":\"\"},\"colorscale\":[[0.0,\"#0d0887\"],[0.1111111111111111,\"#46039f\"],[0.2222222222222222,\"#7201a8\"],[0.3333333333333333,\"#9c179e\"],[0.4444444444444444,\"#bd3786\"],[0.5555555555555556,\"#d8576b\"],[0.6666666666666666,\"#ed7953\"],[0.7777777777777778,\"#fb9f3a\"],[0.8888888888888888,\"#fdca26\"],[1.0,\"#f0f921\"]]}],\"surface\":[{\"type\":\"surface\",\"colorbar\":{\"outlinewidth\":0,\"ticks\":\"\"},\"colorscale\":[[0.0,\"#0d0887\"],[0.1111111111111111,\"#46039f\"],[0.2222222222222222,\"#7201a8\"],[0.3333333333333333,\"#9c179e\"],[0.4444444444444444,\"#bd3786\"],[0.5555555555555556,\"#d8576b\"],[0.6666666666666666,\"#ed7953\"],[0.7777777777777778,\"#fb9f3a\"],[0.8888888888888888,\"#fdca26\"],[1.0,\"#f0f921\"]]}],\"mesh3d\":[{\"type\":\"mesh3d\",\"colorbar\":{\"outlinewidth\":0,\"ticks\":\"\"}}],\"scatter\":[{\"fillpattern\":{\"fillmode\":\"overlay\",\"size\":10,\"solidity\":0.2},\"type\":\"scatter\"}],\"parcoords\":[{\"type\":\"parcoords\",\"line\":{\"colorbar\":{\"outlinewidth\":0,\"ticks\":\"\"}}}],\"scatterpolargl\":[{\"type\":\"scatterpolargl\",\"marker\":{\"colorbar\":{\"outlinewidth\":0,\"ticks\":\"\"}}}],\"bar\":[{\"error_x\":{\"color\":\"#2a3f5f\"},\"error_y\":{\"color\":\"#2a3f5f\"},\"marker\":{\"line\":{\"color\":\"#E5ECF6\",\"width\":0.5},\"pattern\":{\"fillmode\":\"overlay\",\"size\":10,\"solidity\":0.2}},\"type\":\"bar\"}],\"scattergeo\":[{\"type\":\"scattergeo\",\"marker\":{\"colorbar\":{\"outlinewidth\":0,\"ticks\":\"\"}}}],\"scatterpolar\":[{\"type\":\"scatterpolar\",\"marker\":{\"colorbar\":{\"outlinewidth\":0,\"ticks\":\"\"}}}],\"histogram\":[{\"marker\":{\"pattern\":{\"fillmode\":\"overlay\",\"size\":10,\"solidity\":0.2}},\"type\":\"histogram\"}],\"scattergl\":[{\"type\":\"scattergl\",\"marker\":{\"colorbar\":{\"outlinewidth\":0,\"ticks\":\"\"}}}],\"scatter3d\":[{\"type\":\"scatter3d\",\"line\":{\"colorbar\":{\"outlinewidth\":0,\"ticks\":\"\"}},\"marker\":{\"colorbar\":{\"outlinewidth\":0,\"ticks\":\"\"}}}],\"scattermapbox\":[{\"type\":\"scattermapbox\",\"marker\":{\"colorbar\":{\"outlinewidth\":0,\"ticks\":\"\"}}}],\"scatterternary\":[{\"type\":\"scatterternary\",\"marker\":{\"colorbar\":{\"outlinewidth\":0,\"ticks\":\"\"}}}],\"scattercarpet\":[{\"type\":\"scattercarpet\",\"marker\":{\"colorbar\":{\"outlinewidth\":0,\"ticks\":\"\"}}}],\"carpet\":[{\"aaxis\":{\"endlinecolor\":\"#2a3f5f\",\"gridcolor\":\"white\",\"linecolor\":\"white\",\"minorgridcolor\":\"white\",\"startlinecolor\":\"#2a3f5f\"},\"baxis\":{\"endlinecolor\":\"#2a3f5f\",\"gridcolor\":\"white\",\"linecolor\":\"white\",\"minorgridcolor\":\"white\",\"startlinecolor\":\"#2a3f5f\"},\"type\":\"carpet\"}],\"table\":[{\"cells\":{\"fill\":{\"color\":\"#EBF0F8\"},\"line\":{\"color\":\"white\"}},\"header\":{\"fill\":{\"color\":\"#C8D4E3\"},\"line\":{\"color\":\"white\"}},\"type\":\"table\"}],\"barpolar\":[{\"marker\":{\"line\":{\"color\":\"#E5ECF6\",\"width\":0.5},\"pattern\":{\"fillmode\":\"overlay\",\"size\":10,\"solidity\":0.2}},\"type\":\"barpolar\"}],\"pie\":[{\"automargin\":true,\"type\":\"pie\"}]},\"layout\":{\"autotypenumbers\":\"strict\",\"colorway\":[\"#636efa\",\"#EF553B\",\"#00cc96\",\"#ab63fa\",\"#FFA15A\",\"#19d3f3\",\"#FF6692\",\"#B6E880\",\"#FF97FF\",\"#FECB52\"],\"font\":{\"color\":\"#2a3f5f\"},\"hovermode\":\"closest\",\"hoverlabel\":{\"align\":\"left\"},\"paper_bgcolor\":\"white\",\"plot_bgcolor\":\"#E5ECF6\",\"polar\":{\"bgcolor\":\"#E5ECF6\",\"angularaxis\":{\"gridcolor\":\"white\",\"linecolor\":\"white\",\"ticks\":\"\"},\"radialaxis\":{\"gridcolor\":\"white\",\"linecolor\":\"white\",\"ticks\":\"\"}},\"ternary\":{\"bgcolor\":\"#E5ECF6\",\"aaxis\":{\"gridcolor\":\"white\",\"linecolor\":\"white\",\"ticks\":\"\"},\"baxis\":{\"gridcolor\":\"white\",\"linecolor\":\"white\",\"ticks\":\"\"},\"caxis\":{\"gridcolor\":\"white\",\"linecolor\":\"white\",\"ticks\":\"\"}},\"coloraxis\":{\"colorbar\":{\"outlinewidth\":0,\"ticks\":\"\"}},\"colorscale\":{\"sequential\":[[0.0,\"#0d0887\"],[0.1111111111111111,\"#46039f\"],[0.2222222222222222,\"#7201a8\"],[0.3333333333333333,\"#9c179e\"],[0.4444444444444444,\"#bd3786\"],[0.5555555555555556,\"#d8576b\"],[0.6666666666666666,\"#ed7953\"],[0.7777777777777778,\"#fb9f3a\"],[0.8888888888888888,\"#fdca26\"],[1.0,\"#f0f921\"]],\"sequentialminus\":[[0.0,\"#0d0887\"],[0.1111111111111111,\"#46039f\"],[0.2222222222222222,\"#7201a8\"],[0.3333333333333333,\"#9c179e\"],[0.4444444444444444,\"#bd3786\"],[0.5555555555555556,\"#d8576b\"],[0.6666666666666666,\"#ed7953\"],[0.7777777777777778,\"#fb9f3a\"],[0.8888888888888888,\"#fdca26\"],[1.0,\"#f0f921\"]],\"diverging\":[[0,\"#8e0152\"],[0.1,\"#c51b7d\"],[0.2,\"#de77ae\"],[0.3,\"#f1b6da\"],[0.4,\"#fde0ef\"],[0.5,\"#f7f7f7\"],[0.6,\"#e6f5d0\"],[0.7,\"#b8e186\"],[0.8,\"#7fbc41\"],[0.9,\"#4d9221\"],[1,\"#276419\"]]},\"xaxis\":{\"gridcolor\":\"white\",\"linecolor\":\"white\",\"ticks\":\"\",\"title\":{\"standoff\":15},\"zerolinecolor\":\"white\",\"automargin\":true,\"zerolinewidth\":2},\"yaxis\":{\"gridcolor\":\"white\",\"linecolor\":\"white\",\"ticks\":\"\",\"title\":{\"standoff\":15},\"zerolinecolor\":\"white\",\"automargin\":true,\"zerolinewidth\":2},\"scene\":{\"xaxis\":{\"backgroundcolor\":\"#E5ECF6\",\"gridcolor\":\"white\",\"linecolor\":\"white\",\"showbackground\":true,\"ticks\":\"\",\"zerolinecolor\":\"white\",\"gridwidth\":2},\"yaxis\":{\"backgroundcolor\":\"#E5ECF6\",\"gridcolor\":\"white\",\"linecolor\":\"white\",\"showbackground\":true,\"ticks\":\"\",\"zerolinecolor\":\"white\",\"gridwidth\":2},\"zaxis\":{\"backgroundcolor\":\"#E5ECF6\",\"gridcolor\":\"white\",\"linecolor\":\"white\",\"showbackground\":true,\"ticks\":\"\",\"zerolinecolor\":\"white\",\"gridwidth\":2}},\"shapedefaults\":{\"line\":{\"color\":\"#2a3f5f\"}},\"annotationdefaults\":{\"arrowcolor\":\"#2a3f5f\",\"arrowhead\":0,\"arrowwidth\":1},\"geo\":{\"bgcolor\":\"white\",\"landcolor\":\"#E5ECF6\",\"subunitcolor\":\"white\",\"showland\":true,\"showlakes\":true,\"lakecolor\":\"white\"},\"title\":{\"x\":0.05},\"mapbox\":{\"style\":\"light\"}}},\"xaxis\":{\"anchor\":\"y\",\"domain\":[0.0,1.0],\"title\":{\"text\":\"Session\"}},\"yaxis\":{\"anchor\":\"x\",\"domain\":[0.0,1.0],\"title\":{\"text\":\"Number of Students\"}},\"legend\":{\"tracegroupgap\":0},\"margin\":{\"t\":20,\"l\":30,\"r\":30,\"b\":0},\"barmode\":\"relative\",\"width\":400,\"height\":250,\"bargap\":0.5},                        {\"responsive\": true}                    ).then(function(){\n",
       "                            \n",
       "var gd = document.getElementById('f1986981-fef9-473d-b778-3f4d9480730c');\n",
       "var x = new MutationObserver(function (mutations, observer) {{\n",
       "        var display = window.getComputedStyle(gd).display;\n",
       "        if (!display || display === 'none') {{\n",
       "            console.log([gd, 'removed!']);\n",
       "            Plotly.purge(gd);\n",
       "            observer.disconnect();\n",
       "        }}\n",
       "}});\n",
       "\n",
       "// Listen for the removal of the full notebook cells\n",
       "var notebookContainer = gd.closest('#notebook-container');\n",
       "if (notebookContainer) {{\n",
       "    x.observe(notebookContainer, {childList: true});\n",
       "}}\n",
       "\n",
       "// Listen for the clearing of the current output cell\n",
       "var outputEl = gd.closest('.output');\n",
       "if (outputEl) {{\n",
       "    x.observe(outputEl, {childList: true});\n",
       "}}\n",
       "\n",
       "                        })                };                });            </script>        </div>"
      ]
     },
     "metadata": {},
     "output_type": "display_data"
    }
   ],
   "execution_count": 99
  },
  {
   "metadata": {
    "ExecuteTime": {
     "end_time": "2025-08-10T15:27:26.285182Z",
     "start_time": "2025-08-10T15:27:26.271210Z"
    }
   },
   "cell_type": "code",
   "source": "df",
   "id": "3a903243409cf3a7",
   "outputs": [
    {
     "data": {
      "text/plain": [
       "         ID                               FULLNAME  STUDY_YEAR  \\\n",
       "0    210006   Urazimbetova Miyrigul Xojaaxmet qizi           4   \n",
       "1    210009    Goyibnazarov Ruzmatboy Oybek o‘g‘li           4   \n",
       "2    210015           Mirzabayev Damir Baxodir uli           3   \n",
       "3    210017        Shinpolatov Nurdaulet Marat uli           4   \n",
       "4    210018  Xolmurodov Bunyodbek Ruslanbek o‘g‘li           4   \n",
       "..      ...                                    ...         ...   \n",
       "467  240498      Ibroximov Ibrohimjon Murod o'g'li           1   \n",
       "468  240502        Adilov Abdumajid Abduqayumovich           1   \n",
       "469  240506       Yoqubov Shohjaxon Shavkat o‘g‘li           1   \n",
       "470  240510           Raximov Azizbek Bektashovich           1   \n",
       "471  240511     Muxiddinova Shaxzodabonu Zafarovna           1   \n",
       "\n",
       "                       EMAIL    STATUS  \\\n",
       "0           2110006@newuu.uz  Enrolled   \n",
       "1           2110009@newuu.uz  Enrolled   \n",
       "2           2110015@newuu.uz  Enrolled   \n",
       "3           2110017@newuu.uz  Enrolled   \n",
       "4           2110018@newuu.uz  Enrolled   \n",
       "..                       ...       ...   \n",
       "467     i.ibrohimov@newuu.uz  Enrolled   \n",
       "468        a.adilov@newuu.uz  Enrolled   \n",
       "469      sh.yoqubov@newuu.uz  Enrolled   \n",
       "470       a.raximov@newuu.uz  Enrolled   \n",
       "471  sh.muxiddinova@newuu.uz  Enrolled   \n",
       "\n",
       "                                              SCHOOL  \\\n",
       "0                              SCHOOL OF ENGINEERING   \n",
       "1                              SCHOOL OF ENGINEERING   \n",
       "2                                SCHOOL OF COMPUTING   \n",
       "3                                SCHOOL OF COMPUTING   \n",
       "4                                SCHOOL OF COMPUTING   \n",
       "..                                               ...   \n",
       "467  SCHOOL OF HUMANITIES, NATURAL & SOCIAL SCIENCES   \n",
       "468  SCHOOL OF HUMANITIES, NATURAL & SOCIAL SCIENCES   \n",
       "469  SCHOOL OF HUMANITIES, NATURAL & SOCIAL SCIENCES   \n",
       "470                              SCHOOL OF COMPUTING   \n",
       "471                             SCHOOL OF MANAGEMENT   \n",
       "\n",
       "                      EDUCATION_PROGRAM  \\\n",
       "0    Chemical and Materials Engineering   \n",
       "1                Mechanical Engineering   \n",
       "2                  Software Engineering   \n",
       "3                  Software Engineering   \n",
       "4                  Software Engineering   \n",
       "..                                  ...   \n",
       "467                 Applied Mathematics   \n",
       "468          Economics and Data Science   \n",
       "469                            Pedagogy   \n",
       "470                Software Engineering   \n",
       "471               Industrial Management   \n",
       "\n",
       "                                                MONDAY  \\\n",
       "0    {'M1': ['MATH 205', ['Calculus 2 - Fall 2024']...   \n",
       "1    {'M1': ['MATH 105', ['MATH211 Calculus 2 - Spr...   \n",
       "2    {'M1': '0', 'M2': ['MATH 205', ['SEC111 Comput...   \n",
       "3         {'M1': '0', 'M2': '0', 'M3': '0', 'M4': '0'}   \n",
       "4    {'M1': '0', 'M2': ['MATH 205', ['SEC111 Comput...   \n",
       "..                                                 ...   \n",
       "467       {'M1': '0', 'M2': '0', 'M3': '0', 'M4': '0'}   \n",
       "468  {'M1': ['MATH 107', ['MATH211 Calculus 2 - Spr...   \n",
       "469       {'M1': '0', 'M2': '0', 'M3': '0', 'M4': '0'}   \n",
       "470  {'M1': '0', 'M2': ['MATH 106', ['MATH111 Calcu...   \n",
       "471  {'M1': '0', 'M2': ['MATH 106', ['MATH111 Calcu...   \n",
       "\n",
       "                                               TUESDAY  \\\n",
       "0         {'T1': '0', 'T2': '0', 'T3': '0', 'T4': '0'}   \n",
       "1         {'T1': '0', 'T2': '0', 'T3': '0', 'T4': '0'}   \n",
       "2    {'T1': '0', 'T2': ['MATH 105', ['Numerical Met...   \n",
       "3         {'T1': '0', 'T2': '0', 'T3': '0', 'T4': '0'}   \n",
       "4         {'T1': '0', 'T2': '0', 'T3': '0', 'T4': '0'}   \n",
       "..                                                 ...   \n",
       "467       {'T1': '0', 'T2': '0', 'T3': '0', 'T4': '0'}   \n",
       "468       {'T1': '0', 'T2': '0', 'T3': '0', 'T4': '0'}   \n",
       "469       {'T1': '0', 'T2': '0', 'T3': '0', 'T4': '0'}   \n",
       "470       {'T1': '0', 'T2': '0', 'T3': '0', 'T4': '0'}   \n",
       "471       {'T1': '0', 'T2': '0', 'T3': '0', 'T4': '0'}   \n",
       "\n",
       "                                             WEDNESDAY  \\\n",
       "0         {'W1': '0', 'W2': '0', 'W3': '0', 'W4': '0'}   \n",
       "1    {'W1': '0', 'W2': ['MATH B01', ['Computational...   \n",
       "2    {'W1': '0', 'W2': ['MATH 105', ['Microeconomic...   \n",
       "3         {'W1': '0', 'W2': '0', 'W3': '0', 'W4': '0'}   \n",
       "4         {'W1': '0', 'W2': '0', 'W3': '0', 'W4': '0'}   \n",
       "..                                                 ...   \n",
       "467  {'W1': ['MATH 105', ['Nanotechnology and Advan...   \n",
       "468       {'W1': '0', 'W2': '0', 'W3': '0', 'W4': '0'}   \n",
       "469  {'W1': ['MATH 106', ['PHYS101 Physics 1 -  Spr...   \n",
       "470  {'W1': ['MATH 106', ['PHYS101 Physics 1 -  Spr...   \n",
       "471       {'W1': '0', 'W2': '0', 'W3': '0', 'W4': '0'}   \n",
       "\n",
       "                                              THURSDAY  \\\n",
       "0     {'TH1': '0', 'TH2': '0', 'TH3': '0', 'TH4': '0'}   \n",
       "1     {'TH1': '0', 'TH2': '0', 'TH3': '0', 'TH4': '0'}   \n",
       "2     {'TH1': '0', 'TH2': '0', 'TH3': '0', 'TH4': '0'}   \n",
       "3    {'TH1': '0', 'TH2': ['MATH 105', ['Artifical I...   \n",
       "4    {'TH1': '0', 'TH2': ['MATH 105', ['Artifical I...   \n",
       "..                                                 ...   \n",
       "467   {'TH1': '0', 'TH2': '0', 'TH3': '0', 'TH4': '0'}   \n",
       "468   {'TH1': '0', 'TH2': '0', 'TH3': '0', 'TH4': '0'}   \n",
       "469   {'TH1': '0', 'TH2': '0', 'TH3': '0', 'TH4': '0'}   \n",
       "470   {'TH1': '0', 'TH2': '0', 'TH3': '0', 'TH4': '0'}   \n",
       "471   {'TH1': '0', 'TH2': '0', 'TH3': '0', 'TH4': '0'}   \n",
       "\n",
       "                                                FRIDAY  GENDER  \n",
       "0         {'F1': '0', 'F2': '0', 'F3': '0', 'F4': '0'}  FEMALE  \n",
       "1         {'F1': '0', 'F2': '0', 'F3': '0', 'F4': '0'}    MALE  \n",
       "2         {'F1': '0', 'F2': '0', 'F3': '0', 'F4': '0'}    MALE  \n",
       "3         {'F1': '0', 'F2': '0', 'F3': '0', 'F4': '0'}    MALE  \n",
       "4    {'F1': '0', 'F2': ['MATH 105', ['Fluid Mechani...    MALE  \n",
       "..                                                 ...     ...  \n",
       "467       {'F1': '0', 'F2': '0', 'F3': '0', 'F4': '0'}    MALE  \n",
       "468       {'F1': '0', 'F2': '0', 'F3': '0', 'F4': '0'}    MALE  \n",
       "469       {'F1': '0', 'F2': '0', 'F3': '0', 'F4': '0'}    MALE  \n",
       "470       {'F1': '0', 'F2': '0', 'F3': '0', 'F4': '0'}    MALE  \n",
       "471       {'F1': '0', 'F2': '0', 'F3': '0', 'F4': '0'}  FEMALE  \n",
       "\n",
       "[472 rows x 13 columns]"
      ],
      "text/html": [
       "<div>\n",
       "<style scoped>\n",
       "    .dataframe tbody tr th:only-of-type {\n",
       "        vertical-align: middle;\n",
       "    }\n",
       "\n",
       "    .dataframe tbody tr th {\n",
       "        vertical-align: top;\n",
       "    }\n",
       "\n",
       "    .dataframe thead th {\n",
       "        text-align: right;\n",
       "    }\n",
       "</style>\n",
       "<table border=\"1\" class=\"dataframe\">\n",
       "  <thead>\n",
       "    <tr style=\"text-align: right;\">\n",
       "      <th></th>\n",
       "      <th>ID</th>\n",
       "      <th>FULLNAME</th>\n",
       "      <th>STUDY_YEAR</th>\n",
       "      <th>EMAIL</th>\n",
       "      <th>STATUS</th>\n",
       "      <th>SCHOOL</th>\n",
       "      <th>EDUCATION_PROGRAM</th>\n",
       "      <th>MONDAY</th>\n",
       "      <th>TUESDAY</th>\n",
       "      <th>WEDNESDAY</th>\n",
       "      <th>THURSDAY</th>\n",
       "      <th>FRIDAY</th>\n",
       "      <th>GENDER</th>\n",
       "    </tr>\n",
       "  </thead>\n",
       "  <tbody>\n",
       "    <tr>\n",
       "      <th>0</th>\n",
       "      <td>210006</td>\n",
       "      <td>Urazimbetova Miyrigul Xojaaxmet qizi</td>\n",
       "      <td>4</td>\n",
       "      <td>2110006@newuu.uz</td>\n",
       "      <td>Enrolled</td>\n",
       "      <td>SCHOOL OF ENGINEERING</td>\n",
       "      <td>Chemical and Materials Engineering</td>\n",
       "      <td>{'M1': ['MATH 205', ['Calculus 2 - Fall 2024']...</td>\n",
       "      <td>{'T1': '0', 'T2': '0', 'T3': '0', 'T4': '0'}</td>\n",
       "      <td>{'W1': '0', 'W2': '0', 'W3': '0', 'W4': '0'}</td>\n",
       "      <td>{'TH1': '0', 'TH2': '0', 'TH3': '0', 'TH4': '0'}</td>\n",
       "      <td>{'F1': '0', 'F2': '0', 'F3': '0', 'F4': '0'}</td>\n",
       "      <td>FEMALE</td>\n",
       "    </tr>\n",
       "    <tr>\n",
       "      <th>1</th>\n",
       "      <td>210009</td>\n",
       "      <td>Goyibnazarov Ruzmatboy Oybek o‘g‘li</td>\n",
       "      <td>4</td>\n",
       "      <td>2110009@newuu.uz</td>\n",
       "      <td>Enrolled</td>\n",
       "      <td>SCHOOL OF ENGINEERING</td>\n",
       "      <td>Mechanical Engineering</td>\n",
       "      <td>{'M1': ['MATH 105', ['MATH211 Calculus 2 - Spr...</td>\n",
       "      <td>{'T1': '0', 'T2': '0', 'T3': '0', 'T4': '0'}</td>\n",
       "      <td>{'W1': '0', 'W2': ['MATH B01', ['Computational...</td>\n",
       "      <td>{'TH1': '0', 'TH2': '0', 'TH3': '0', 'TH4': '0'}</td>\n",
       "      <td>{'F1': '0', 'F2': '0', 'F3': '0', 'F4': '0'}</td>\n",
       "      <td>MALE</td>\n",
       "    </tr>\n",
       "    <tr>\n",
       "      <th>2</th>\n",
       "      <td>210015</td>\n",
       "      <td>Mirzabayev Damir Baxodir uli</td>\n",
       "      <td>3</td>\n",
       "      <td>2110015@newuu.uz</td>\n",
       "      <td>Enrolled</td>\n",
       "      <td>SCHOOL OF COMPUTING</td>\n",
       "      <td>Software Engineering</td>\n",
       "      <td>{'M1': '0', 'M2': ['MATH 205', ['SEC111 Comput...</td>\n",
       "      <td>{'T1': '0', 'T2': ['MATH 105', ['Numerical Met...</td>\n",
       "      <td>{'W1': '0', 'W2': ['MATH 105', ['Microeconomic...</td>\n",
       "      <td>{'TH1': '0', 'TH2': '0', 'TH3': '0', 'TH4': '0'}</td>\n",
       "      <td>{'F1': '0', 'F2': '0', 'F3': '0', 'F4': '0'}</td>\n",
       "      <td>MALE</td>\n",
       "    </tr>\n",
       "    <tr>\n",
       "      <th>3</th>\n",
       "      <td>210017</td>\n",
       "      <td>Shinpolatov Nurdaulet Marat uli</td>\n",
       "      <td>4</td>\n",
       "      <td>2110017@newuu.uz</td>\n",
       "      <td>Enrolled</td>\n",
       "      <td>SCHOOL OF COMPUTING</td>\n",
       "      <td>Software Engineering</td>\n",
       "      <td>{'M1': '0', 'M2': '0', 'M3': '0', 'M4': '0'}</td>\n",
       "      <td>{'T1': '0', 'T2': '0', 'T3': '0', 'T4': '0'}</td>\n",
       "      <td>{'W1': '0', 'W2': '0', 'W3': '0', 'W4': '0'}</td>\n",
       "      <td>{'TH1': '0', 'TH2': ['MATH 105', ['Artifical I...</td>\n",
       "      <td>{'F1': '0', 'F2': '0', 'F3': '0', 'F4': '0'}</td>\n",
       "      <td>MALE</td>\n",
       "    </tr>\n",
       "    <tr>\n",
       "      <th>4</th>\n",
       "      <td>210018</td>\n",
       "      <td>Xolmurodov Bunyodbek Ruslanbek o‘g‘li</td>\n",
       "      <td>4</td>\n",
       "      <td>2110018@newuu.uz</td>\n",
       "      <td>Enrolled</td>\n",
       "      <td>SCHOOL OF COMPUTING</td>\n",
       "      <td>Software Engineering</td>\n",
       "      <td>{'M1': '0', 'M2': ['MATH 205', ['SEC111 Comput...</td>\n",
       "      <td>{'T1': '0', 'T2': '0', 'T3': '0', 'T4': '0'}</td>\n",
       "      <td>{'W1': '0', 'W2': '0', 'W3': '0', 'W4': '0'}</td>\n",
       "      <td>{'TH1': '0', 'TH2': ['MATH 105', ['Artifical I...</td>\n",
       "      <td>{'F1': '0', 'F2': ['MATH 105', ['Fluid Mechani...</td>\n",
       "      <td>MALE</td>\n",
       "    </tr>\n",
       "    <tr>\n",
       "      <th>...</th>\n",
       "      <td>...</td>\n",
       "      <td>...</td>\n",
       "      <td>...</td>\n",
       "      <td>...</td>\n",
       "      <td>...</td>\n",
       "      <td>...</td>\n",
       "      <td>...</td>\n",
       "      <td>...</td>\n",
       "      <td>...</td>\n",
       "      <td>...</td>\n",
       "      <td>...</td>\n",
       "      <td>...</td>\n",
       "      <td>...</td>\n",
       "    </tr>\n",
       "    <tr>\n",
       "      <th>467</th>\n",
       "      <td>240498</td>\n",
       "      <td>Ibroximov Ibrohimjon Murod o'g'li</td>\n",
       "      <td>1</td>\n",
       "      <td>i.ibrohimov@newuu.uz</td>\n",
       "      <td>Enrolled</td>\n",
       "      <td>SCHOOL OF HUMANITIES, NATURAL &amp; SOCIAL SCIENCES</td>\n",
       "      <td>Applied Mathematics</td>\n",
       "      <td>{'M1': '0', 'M2': '0', 'M3': '0', 'M4': '0'}</td>\n",
       "      <td>{'T1': '0', 'T2': '0', 'T3': '0', 'T4': '0'}</td>\n",
       "      <td>{'W1': ['MATH 105', ['Nanotechnology and Advan...</td>\n",
       "      <td>{'TH1': '0', 'TH2': '0', 'TH3': '0', 'TH4': '0'}</td>\n",
       "      <td>{'F1': '0', 'F2': '0', 'F3': '0', 'F4': '0'}</td>\n",
       "      <td>MALE</td>\n",
       "    </tr>\n",
       "    <tr>\n",
       "      <th>468</th>\n",
       "      <td>240502</td>\n",
       "      <td>Adilov Abdumajid Abduqayumovich</td>\n",
       "      <td>1</td>\n",
       "      <td>a.adilov@newuu.uz</td>\n",
       "      <td>Enrolled</td>\n",
       "      <td>SCHOOL OF HUMANITIES, NATURAL &amp; SOCIAL SCIENCES</td>\n",
       "      <td>Economics and Data Science</td>\n",
       "      <td>{'M1': ['MATH 107', ['MATH211 Calculus 2 - Spr...</td>\n",
       "      <td>{'T1': '0', 'T2': '0', 'T3': '0', 'T4': '0'}</td>\n",
       "      <td>{'W1': '0', 'W2': '0', 'W3': '0', 'W4': '0'}</td>\n",
       "      <td>{'TH1': '0', 'TH2': '0', 'TH3': '0', 'TH4': '0'}</td>\n",
       "      <td>{'F1': '0', 'F2': '0', 'F3': '0', 'F4': '0'}</td>\n",
       "      <td>MALE</td>\n",
       "    </tr>\n",
       "    <tr>\n",
       "      <th>469</th>\n",
       "      <td>240506</td>\n",
       "      <td>Yoqubov Shohjaxon Shavkat o‘g‘li</td>\n",
       "      <td>1</td>\n",
       "      <td>sh.yoqubov@newuu.uz</td>\n",
       "      <td>Enrolled</td>\n",
       "      <td>SCHOOL OF HUMANITIES, NATURAL &amp; SOCIAL SCIENCES</td>\n",
       "      <td>Pedagogy</td>\n",
       "      <td>{'M1': '0', 'M2': '0', 'M3': '0', 'M4': '0'}</td>\n",
       "      <td>{'T1': '0', 'T2': '0', 'T3': '0', 'T4': '0'}</td>\n",
       "      <td>{'W1': ['MATH 106', ['PHYS101 Physics 1 -  Spr...</td>\n",
       "      <td>{'TH1': '0', 'TH2': '0', 'TH3': '0', 'TH4': '0'}</td>\n",
       "      <td>{'F1': '0', 'F2': '0', 'F3': '0', 'F4': '0'}</td>\n",
       "      <td>MALE</td>\n",
       "    </tr>\n",
       "    <tr>\n",
       "      <th>470</th>\n",
       "      <td>240510</td>\n",
       "      <td>Raximov Azizbek Bektashovich</td>\n",
       "      <td>1</td>\n",
       "      <td>a.raximov@newuu.uz</td>\n",
       "      <td>Enrolled</td>\n",
       "      <td>SCHOOL OF COMPUTING</td>\n",
       "      <td>Software Engineering</td>\n",
       "      <td>{'M1': '0', 'M2': ['MATH 106', ['MATH111 Calcu...</td>\n",
       "      <td>{'T1': '0', 'T2': '0', 'T3': '0', 'T4': '0'}</td>\n",
       "      <td>{'W1': ['MATH 106', ['PHYS101 Physics 1 -  Spr...</td>\n",
       "      <td>{'TH1': '0', 'TH2': '0', 'TH3': '0', 'TH4': '0'}</td>\n",
       "      <td>{'F1': '0', 'F2': '0', 'F3': '0', 'F4': '0'}</td>\n",
       "      <td>MALE</td>\n",
       "    </tr>\n",
       "    <tr>\n",
       "      <th>471</th>\n",
       "      <td>240511</td>\n",
       "      <td>Muxiddinova Shaxzodabonu Zafarovna</td>\n",
       "      <td>1</td>\n",
       "      <td>sh.muxiddinova@newuu.uz</td>\n",
       "      <td>Enrolled</td>\n",
       "      <td>SCHOOL OF MANAGEMENT</td>\n",
       "      <td>Industrial Management</td>\n",
       "      <td>{'M1': '0', 'M2': ['MATH 106', ['MATH111 Calcu...</td>\n",
       "      <td>{'T1': '0', 'T2': '0', 'T3': '0', 'T4': '0'}</td>\n",
       "      <td>{'W1': '0', 'W2': '0', 'W3': '0', 'W4': '0'}</td>\n",
       "      <td>{'TH1': '0', 'TH2': '0', 'TH3': '0', 'TH4': '0'}</td>\n",
       "      <td>{'F1': '0', 'F2': '0', 'F3': '0', 'F4': '0'}</td>\n",
       "      <td>FEMALE</td>\n",
       "    </tr>\n",
       "  </tbody>\n",
       "</table>\n",
       "<p>472 rows × 13 columns</p>\n",
       "</div>"
      ]
     },
     "execution_count": 100,
     "metadata": {},
     "output_type": "execute_result"
    }
   ],
   "execution_count": 100
  },
  {
   "metadata": {},
   "cell_type": "code",
   "outputs": [],
   "execution_count": null,
   "source": "",
   "id": "da2d3431f0d4b5d9"
  }
 ],
 "metadata": {
  "kernelspec": {
   "display_name": "Python 3",
   "language": "python",
   "name": "python3"
  },
  "language_info": {
   "codemirror_mode": {
    "name": "ipython",
    "version": 2
   },
   "file_extension": ".py",
   "mimetype": "text/x-python",
   "name": "python",
   "nbconvert_exporter": "python",
   "pygments_lexer": "ipython2",
   "version": "2.7.6"
  }
 },
 "nbformat": 4,
 "nbformat_minor": 5
}
