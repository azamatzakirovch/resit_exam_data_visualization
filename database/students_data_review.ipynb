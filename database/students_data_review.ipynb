{
 "cells": [
  {
   "cell_type": "code",
   "id": "initial_id",
   "metadata": {
    "collapsed": true,
    "ExecuteTime": {
     "end_time": "2025-08-04T13:37:04.633061Z",
     "start_time": "2025-08-04T13:37:04.624436Z"
    }
   },
   "source": [
    "import pandas as pd\n",
    "import ast"
   ],
   "outputs": [],
   "execution_count": 10
  },
  {
   "metadata": {
    "ExecuteTime": {
     "end_time": "2025-08-04T13:37:15.047172Z",
     "start_time": "2025-08-04T13:37:15.019037Z"
    }
   },
   "cell_type": "code",
   "source": "df = pd.read_csv('new_students_data.csv')",
   "id": "3b430ca1a87ca1ed",
   "outputs": [],
   "execution_count": 12
  },
  {
   "metadata": {
    "ExecuteTime": {
     "end_time": "2025-08-04T13:37:15.909466Z",
     "start_time": "2025-08-04T13:37:15.885820Z"
    }
   },
   "cell_type": "code",
   "source": "df",
   "id": "40f6f997efc3b0cf",
   "outputs": [
    {
     "data": {
      "text/plain": [
       "         ID                               FULLNAME  STUDY_YEAR  \\\n",
       "0    210006   Urazimbetova Miyrigul Xojaaxmet qizi           4   \n",
       "1    210009    Goyibnazarov Ruzmatboy Oybek o‘g‘li           4   \n",
       "2    210015           Mirzabayev Damir Baxodir uli           3   \n",
       "3    210017        Shinpolatov Nurdaulet Marat uli           4   \n",
       "4    210018  Xolmurodov Bunyodbek Ruslanbek o‘g‘li           4   \n",
       "..      ...                                    ...         ...   \n",
       "467  240498      Ibroximov Ibrohimjon Murod o'g'li           1   \n",
       "468  240502        Adilov Abdumajid Abduqayumovich           1   \n",
       "469  240506       Yoqubov Shohjaxon Shavkat o‘g‘li           1   \n",
       "470  240510           Raximov Azizbek Bektashovich           1   \n",
       "471  240511     Muxiddinova Shaxzodabonu Zafarovna           1   \n",
       "\n",
       "                       EMAIL    STATUS  \\\n",
       "0           2110006@newuu.uz  Enrolled   \n",
       "1           2110009@newuu.uz  Enrolled   \n",
       "2           2110015@newuu.uz  Enrolled   \n",
       "3           2110017@newuu.uz  Enrolled   \n",
       "4           2110018@newuu.uz  Enrolled   \n",
       "..                       ...       ...   \n",
       "467     i.ibrohimov@newuu.uz  Enrolled   \n",
       "468        a.adilov@newuu.uz  Enrolled   \n",
       "469      sh.yoqubov@newuu.uz  Enrolled   \n",
       "470       a.raximov@newuu.uz  Enrolled   \n",
       "471  sh.muxiddinova@newuu.uz  Enrolled   \n",
       "\n",
       "                                              SCHOOL  \\\n",
       "0                              SCHOOL OF ENGINEERING   \n",
       "1                              SCHOOL OF ENGINEERING   \n",
       "2                                SCHOOL OF COMPUTING   \n",
       "3                                SCHOOL OF COMPUTING   \n",
       "4                                SCHOOL OF COMPUTING   \n",
       "..                                               ...   \n",
       "467  SCHOOL OF HUMANITIES, NATURAL & SOCIAL SCIENCES   \n",
       "468  SCHOOL OF HUMANITIES, NATURAL & SOCIAL SCIENCES   \n",
       "469  SCHOOL OF HUMANITIES, NATURAL & SOCIAL SCIENCES   \n",
       "470                              SCHOOL OF COMPUTING   \n",
       "471                             SCHOOL OF MANAGEMENT   \n",
       "\n",
       "                      EDUCATION_PROGRAM  \\\n",
       "0    Chemical and Materials Engineering   \n",
       "1                Mechanical Engineering   \n",
       "2                  Software Engineering   \n",
       "3                  Software Engineering   \n",
       "4                  Software Engineering   \n",
       "..                                  ...   \n",
       "467                 Applied Mathematics   \n",
       "468          Economics and Data Science   \n",
       "469                            Pedagogy   \n",
       "470                Software Engineering   \n",
       "471               Industrial Management   \n",
       "\n",
       "                                                MONDAY  \\\n",
       "0    {'M1': ['MATH 205', ['Calculus 2 - Fall 2024']...   \n",
       "1    {'M1': ['MATH 105', ['MATH211 Calculus 2 - Spr...   \n",
       "2    {'M1': '0', 'M2': ['MATH 205', ['SEC111 Comput...   \n",
       "3         {'M1': '0', 'M2': '0', 'M3': '0', 'M4': '0'}   \n",
       "4    {'M1': '0', 'M2': ['MATH 205', ['SEC111 Comput...   \n",
       "..                                                 ...   \n",
       "467       {'M1': '0', 'M2': '0', 'M3': '0', 'M4': '0'}   \n",
       "468  {'M1': ['MATH 107', ['MATH211 Calculus 2 - Spr...   \n",
       "469       {'M1': '0', 'M2': '0', 'M3': '0', 'M4': '0'}   \n",
       "470  {'M1': '0', 'M2': ['MATH 106', ['MATH111 Calcu...   \n",
       "471  {'M1': '0', 'M2': ['MATH 106', ['MATH111 Calcu...   \n",
       "\n",
       "                                               TUESDAY  \\\n",
       "0         {'T1': '0', 'T2': '0', 'T3': '0', 'T4': '0'}   \n",
       "1         {'T1': '0', 'T2': '0', 'T3': '0', 'T4': '0'}   \n",
       "2    {'T1': '0', 'T2': ['MATH 105', ['Numerical Met...   \n",
       "3         {'T1': '0', 'T2': '0', 'T3': '0', 'T4': '0'}   \n",
       "4         {'T1': '0', 'T2': '0', 'T3': '0', 'T4': '0'}   \n",
       "..                                                 ...   \n",
       "467       {'T1': '0', 'T2': '0', 'T3': '0', 'T4': '0'}   \n",
       "468       {'T1': '0', 'T2': '0', 'T3': '0', 'T4': '0'}   \n",
       "469       {'T1': '0', 'T2': '0', 'T3': '0', 'T4': '0'}   \n",
       "470       {'T1': '0', 'T2': '0', 'T3': '0', 'T4': '0'}   \n",
       "471       {'T1': '0', 'T2': '0', 'T3': '0', 'T4': '0'}   \n",
       "\n",
       "                                             WEDNESDAY  \\\n",
       "0         {'W1': '0', 'W2': '0', 'W3': '0', 'W4': '0'}   \n",
       "1    {'W1': '0', 'W2': ['MATH B01', ['Computational...   \n",
       "2    {'W1': '0', 'W2': ['MATH 105', ['Microeconomic...   \n",
       "3         {'W1': '0', 'W2': '0', 'W3': '0', 'W4': '0'}   \n",
       "4         {'W1': '0', 'W2': '0', 'W3': '0', 'W4': '0'}   \n",
       "..                                                 ...   \n",
       "467  {'W1': ['MATH 105', ['Nanotechnology and Advan...   \n",
       "468       {'W1': '0', 'W2': '0', 'W3': '0', 'W4': '0'}   \n",
       "469  {'W1': ['MATH 106', ['PHYS101 Physics 1 -  Spr...   \n",
       "470  {'W1': ['MATH 106', ['PHYS101 Physics 1 -  Spr...   \n",
       "471       {'W1': '0', 'W2': '0', 'W3': '0', 'W4': '0'}   \n",
       "\n",
       "                                              THURSDAY  \\\n",
       "0     {'TH1': '0', 'TH2': '0', 'TH3': '0', 'TH4': '0'}   \n",
       "1     {'TH1': '0', 'TH2': '0', 'TH3': '0', 'TH4': '0'}   \n",
       "2     {'TH1': '0', 'TH2': '0', 'TH3': '0', 'TH4': '0'}   \n",
       "3    {'TH1': '0', 'TH2': ['MATH 105', ['Artifical I...   \n",
       "4    {'TH1': '0', 'TH2': ['MATH 105', ['Artifical I...   \n",
       "..                                                 ...   \n",
       "467   {'TH1': '0', 'TH2': '0', 'TH3': '0', 'TH4': '0'}   \n",
       "468   {'TH1': '0', 'TH2': '0', 'TH3': '0', 'TH4': '0'}   \n",
       "469   {'TH1': '0', 'TH2': '0', 'TH3': '0', 'TH4': '0'}   \n",
       "470   {'TH1': '0', 'TH2': '0', 'TH3': '0', 'TH4': '0'}   \n",
       "471   {'TH1': '0', 'TH2': '0', 'TH3': '0', 'TH4': '0'}   \n",
       "\n",
       "                                                FRIDAY  \n",
       "0         {'F1': '0', 'F2': '0', 'F3': '0', 'F4': '0'}  \n",
       "1         {'F1': '0', 'F2': '0', 'F3': '0', 'F4': '0'}  \n",
       "2         {'F1': '0', 'F2': '0', 'F3': '0', 'F4': '0'}  \n",
       "3         {'F1': '0', 'F2': '0', 'F3': '0', 'F4': '0'}  \n",
       "4    {'F1': '0', 'F2': ['MATH 105', ['Fluid Mechani...  \n",
       "..                                                 ...  \n",
       "467       {'F1': '0', 'F2': '0', 'F3': '0', 'F4': '0'}  \n",
       "468       {'F1': '0', 'F2': '0', 'F3': '0', 'F4': '0'}  \n",
       "469       {'F1': '0', 'F2': '0', 'F3': '0', 'F4': '0'}  \n",
       "470       {'F1': '0', 'F2': '0', 'F3': '0', 'F4': '0'}  \n",
       "471       {'F1': '0', 'F2': '0', 'F3': '0', 'F4': '0'}  \n",
       "\n",
       "[472 rows x 12 columns]"
      ],
      "text/html": [
       "<div>\n",
       "<style scoped>\n",
       "    .dataframe tbody tr th:only-of-type {\n",
       "        vertical-align: middle;\n",
       "    }\n",
       "\n",
       "    .dataframe tbody tr th {\n",
       "        vertical-align: top;\n",
       "    }\n",
       "\n",
       "    .dataframe thead th {\n",
       "        text-align: right;\n",
       "    }\n",
       "</style>\n",
       "<table border=\"1\" class=\"dataframe\">\n",
       "  <thead>\n",
       "    <tr style=\"text-align: right;\">\n",
       "      <th></th>\n",
       "      <th>ID</th>\n",
       "      <th>FULLNAME</th>\n",
       "      <th>STUDY_YEAR</th>\n",
       "      <th>EMAIL</th>\n",
       "      <th>STATUS</th>\n",
       "      <th>SCHOOL</th>\n",
       "      <th>EDUCATION_PROGRAM</th>\n",
       "      <th>MONDAY</th>\n",
       "      <th>TUESDAY</th>\n",
       "      <th>WEDNESDAY</th>\n",
       "      <th>THURSDAY</th>\n",
       "      <th>FRIDAY</th>\n",
       "    </tr>\n",
       "  </thead>\n",
       "  <tbody>\n",
       "    <tr>\n",
       "      <th>0</th>\n",
       "      <td>210006</td>\n",
       "      <td>Urazimbetova Miyrigul Xojaaxmet qizi</td>\n",
       "      <td>4</td>\n",
       "      <td>2110006@newuu.uz</td>\n",
       "      <td>Enrolled</td>\n",
       "      <td>SCHOOL OF ENGINEERING</td>\n",
       "      <td>Chemical and Materials Engineering</td>\n",
       "      <td>{'M1': ['MATH 205', ['Calculus 2 - Fall 2024']...</td>\n",
       "      <td>{'T1': '0', 'T2': '0', 'T3': '0', 'T4': '0'}</td>\n",
       "      <td>{'W1': '0', 'W2': '0', 'W3': '0', 'W4': '0'}</td>\n",
       "      <td>{'TH1': '0', 'TH2': '0', 'TH3': '0', 'TH4': '0'}</td>\n",
       "      <td>{'F1': '0', 'F2': '0', 'F3': '0', 'F4': '0'}</td>\n",
       "    </tr>\n",
       "    <tr>\n",
       "      <th>1</th>\n",
       "      <td>210009</td>\n",
       "      <td>Goyibnazarov Ruzmatboy Oybek o‘g‘li</td>\n",
       "      <td>4</td>\n",
       "      <td>2110009@newuu.uz</td>\n",
       "      <td>Enrolled</td>\n",
       "      <td>SCHOOL OF ENGINEERING</td>\n",
       "      <td>Mechanical Engineering</td>\n",
       "      <td>{'M1': ['MATH 105', ['MATH211 Calculus 2 - Spr...</td>\n",
       "      <td>{'T1': '0', 'T2': '0', 'T3': '0', 'T4': '0'}</td>\n",
       "      <td>{'W1': '0', 'W2': ['MATH B01', ['Computational...</td>\n",
       "      <td>{'TH1': '0', 'TH2': '0', 'TH3': '0', 'TH4': '0'}</td>\n",
       "      <td>{'F1': '0', 'F2': '0', 'F3': '0', 'F4': '0'}</td>\n",
       "    </tr>\n",
       "    <tr>\n",
       "      <th>2</th>\n",
       "      <td>210015</td>\n",
       "      <td>Mirzabayev Damir Baxodir uli</td>\n",
       "      <td>3</td>\n",
       "      <td>2110015@newuu.uz</td>\n",
       "      <td>Enrolled</td>\n",
       "      <td>SCHOOL OF COMPUTING</td>\n",
       "      <td>Software Engineering</td>\n",
       "      <td>{'M1': '0', 'M2': ['MATH 205', ['SEC111 Comput...</td>\n",
       "      <td>{'T1': '0', 'T2': ['MATH 105', ['Numerical Met...</td>\n",
       "      <td>{'W1': '0', 'W2': ['MATH 105', ['Microeconomic...</td>\n",
       "      <td>{'TH1': '0', 'TH2': '0', 'TH3': '0', 'TH4': '0'}</td>\n",
       "      <td>{'F1': '0', 'F2': '0', 'F3': '0', 'F4': '0'}</td>\n",
       "    </tr>\n",
       "    <tr>\n",
       "      <th>3</th>\n",
       "      <td>210017</td>\n",
       "      <td>Shinpolatov Nurdaulet Marat uli</td>\n",
       "      <td>4</td>\n",
       "      <td>2110017@newuu.uz</td>\n",
       "      <td>Enrolled</td>\n",
       "      <td>SCHOOL OF COMPUTING</td>\n",
       "      <td>Software Engineering</td>\n",
       "      <td>{'M1': '0', 'M2': '0', 'M3': '0', 'M4': '0'}</td>\n",
       "      <td>{'T1': '0', 'T2': '0', 'T3': '0', 'T4': '0'}</td>\n",
       "      <td>{'W1': '0', 'W2': '0', 'W3': '0', 'W4': '0'}</td>\n",
       "      <td>{'TH1': '0', 'TH2': ['MATH 105', ['Artifical I...</td>\n",
       "      <td>{'F1': '0', 'F2': '0', 'F3': '0', 'F4': '0'}</td>\n",
       "    </tr>\n",
       "    <tr>\n",
       "      <th>4</th>\n",
       "      <td>210018</td>\n",
       "      <td>Xolmurodov Bunyodbek Ruslanbek o‘g‘li</td>\n",
       "      <td>4</td>\n",
       "      <td>2110018@newuu.uz</td>\n",
       "      <td>Enrolled</td>\n",
       "      <td>SCHOOL OF COMPUTING</td>\n",
       "      <td>Software Engineering</td>\n",
       "      <td>{'M1': '0', 'M2': ['MATH 205', ['SEC111 Comput...</td>\n",
       "      <td>{'T1': '0', 'T2': '0', 'T3': '0', 'T4': '0'}</td>\n",
       "      <td>{'W1': '0', 'W2': '0', 'W3': '0', 'W4': '0'}</td>\n",
       "      <td>{'TH1': '0', 'TH2': ['MATH 105', ['Artifical I...</td>\n",
       "      <td>{'F1': '0', 'F2': ['MATH 105', ['Fluid Mechani...</td>\n",
       "    </tr>\n",
       "    <tr>\n",
       "      <th>...</th>\n",
       "      <td>...</td>\n",
       "      <td>...</td>\n",
       "      <td>...</td>\n",
       "      <td>...</td>\n",
       "      <td>...</td>\n",
       "      <td>...</td>\n",
       "      <td>...</td>\n",
       "      <td>...</td>\n",
       "      <td>...</td>\n",
       "      <td>...</td>\n",
       "      <td>...</td>\n",
       "      <td>...</td>\n",
       "    </tr>\n",
       "    <tr>\n",
       "      <th>467</th>\n",
       "      <td>240498</td>\n",
       "      <td>Ibroximov Ibrohimjon Murod o'g'li</td>\n",
       "      <td>1</td>\n",
       "      <td>i.ibrohimov@newuu.uz</td>\n",
       "      <td>Enrolled</td>\n",
       "      <td>SCHOOL OF HUMANITIES, NATURAL &amp; SOCIAL SCIENCES</td>\n",
       "      <td>Applied Mathematics</td>\n",
       "      <td>{'M1': '0', 'M2': '0', 'M3': '0', 'M4': '0'}</td>\n",
       "      <td>{'T1': '0', 'T2': '0', 'T3': '0', 'T4': '0'}</td>\n",
       "      <td>{'W1': ['MATH 105', ['Nanotechnology and Advan...</td>\n",
       "      <td>{'TH1': '0', 'TH2': '0', 'TH3': '0', 'TH4': '0'}</td>\n",
       "      <td>{'F1': '0', 'F2': '0', 'F3': '0', 'F4': '0'}</td>\n",
       "    </tr>\n",
       "    <tr>\n",
       "      <th>468</th>\n",
       "      <td>240502</td>\n",
       "      <td>Adilov Abdumajid Abduqayumovich</td>\n",
       "      <td>1</td>\n",
       "      <td>a.adilov@newuu.uz</td>\n",
       "      <td>Enrolled</td>\n",
       "      <td>SCHOOL OF HUMANITIES, NATURAL &amp; SOCIAL SCIENCES</td>\n",
       "      <td>Economics and Data Science</td>\n",
       "      <td>{'M1': ['MATH 107', ['MATH211 Calculus 2 - Spr...</td>\n",
       "      <td>{'T1': '0', 'T2': '0', 'T3': '0', 'T4': '0'}</td>\n",
       "      <td>{'W1': '0', 'W2': '0', 'W3': '0', 'W4': '0'}</td>\n",
       "      <td>{'TH1': '0', 'TH2': '0', 'TH3': '0', 'TH4': '0'}</td>\n",
       "      <td>{'F1': '0', 'F2': '0', 'F3': '0', 'F4': '0'}</td>\n",
       "    </tr>\n",
       "    <tr>\n",
       "      <th>469</th>\n",
       "      <td>240506</td>\n",
       "      <td>Yoqubov Shohjaxon Shavkat o‘g‘li</td>\n",
       "      <td>1</td>\n",
       "      <td>sh.yoqubov@newuu.uz</td>\n",
       "      <td>Enrolled</td>\n",
       "      <td>SCHOOL OF HUMANITIES, NATURAL &amp; SOCIAL SCIENCES</td>\n",
       "      <td>Pedagogy</td>\n",
       "      <td>{'M1': '0', 'M2': '0', 'M3': '0', 'M4': '0'}</td>\n",
       "      <td>{'T1': '0', 'T2': '0', 'T3': '0', 'T4': '0'}</td>\n",
       "      <td>{'W1': ['MATH 106', ['PHYS101 Physics 1 -  Spr...</td>\n",
       "      <td>{'TH1': '0', 'TH2': '0', 'TH3': '0', 'TH4': '0'}</td>\n",
       "      <td>{'F1': '0', 'F2': '0', 'F3': '0', 'F4': '0'}</td>\n",
       "    </tr>\n",
       "    <tr>\n",
       "      <th>470</th>\n",
       "      <td>240510</td>\n",
       "      <td>Raximov Azizbek Bektashovich</td>\n",
       "      <td>1</td>\n",
       "      <td>a.raximov@newuu.uz</td>\n",
       "      <td>Enrolled</td>\n",
       "      <td>SCHOOL OF COMPUTING</td>\n",
       "      <td>Software Engineering</td>\n",
       "      <td>{'M1': '0', 'M2': ['MATH 106', ['MATH111 Calcu...</td>\n",
       "      <td>{'T1': '0', 'T2': '0', 'T3': '0', 'T4': '0'}</td>\n",
       "      <td>{'W1': ['MATH 106', ['PHYS101 Physics 1 -  Spr...</td>\n",
       "      <td>{'TH1': '0', 'TH2': '0', 'TH3': '0', 'TH4': '0'}</td>\n",
       "      <td>{'F1': '0', 'F2': '0', 'F3': '0', 'F4': '0'}</td>\n",
       "    </tr>\n",
       "    <tr>\n",
       "      <th>471</th>\n",
       "      <td>240511</td>\n",
       "      <td>Muxiddinova Shaxzodabonu Zafarovna</td>\n",
       "      <td>1</td>\n",
       "      <td>sh.muxiddinova@newuu.uz</td>\n",
       "      <td>Enrolled</td>\n",
       "      <td>SCHOOL OF MANAGEMENT</td>\n",
       "      <td>Industrial Management</td>\n",
       "      <td>{'M1': '0', 'M2': ['MATH 106', ['MATH111 Calcu...</td>\n",
       "      <td>{'T1': '0', 'T2': '0', 'T3': '0', 'T4': '0'}</td>\n",
       "      <td>{'W1': '0', 'W2': '0', 'W3': '0', 'W4': '0'}</td>\n",
       "      <td>{'TH1': '0', 'TH2': '0', 'TH3': '0', 'TH4': '0'}</td>\n",
       "      <td>{'F1': '0', 'F2': '0', 'F3': '0', 'F4': '0'}</td>\n",
       "    </tr>\n",
       "  </tbody>\n",
       "</table>\n",
       "<p>472 rows × 12 columns</p>\n",
       "</div>"
      ]
     },
     "execution_count": 13,
     "metadata": {},
     "output_type": "execute_result"
    }
   ],
   "execution_count": 13
  },
  {
   "metadata": {
    "ExecuteTime": {
     "end_time": "2025-08-04T13:37:16.660931Z",
     "start_time": "2025-08-04T13:37:16.553507Z"
    }
   },
   "cell_type": "code",
   "source": [
    "df['MONDAY'] = df['MONDAY'].apply(ast.literal_eval)\n",
    "df['TUESDAY'] = df['TUESDAY'].apply(ast.literal_eval)\n",
    "df['WEDNESDAY'] = df['WEDNESDAY'].apply(ast.literal_eval)\n",
    "df['THURSDAY'] = df['THURSDAY'].apply(ast.literal_eval)\n",
    "df['FRIDAY'] = df['FRIDAY'].apply(ast.literal_eval)"
   ],
   "id": "e51fa98a7186977d",
   "outputs": [],
   "execution_count": 14
  },
  {
   "metadata": {
    "ExecuteTime": {
     "end_time": "2025-08-04T13:37:16.985009Z",
     "start_time": "2025-08-04T13:37:16.979142Z"
    }
   },
   "cell_type": "code",
   "source": "type(df['MONDAY'][2]['M2'][1][2])",
   "id": "8c014a75ad8a5016",
   "outputs": [
    {
     "data": {
      "text/plain": [
       "str"
      ]
     },
     "execution_count": 15,
     "metadata": {},
     "output_type": "execute_result"
    }
   ],
   "execution_count": 15
  },
  {
   "metadata": {
    "ExecuteTime": {
     "end_time": "2025-08-04T13:37:17.172290Z",
     "start_time": "2025-08-04T13:37:17.165986Z"
    }
   },
   "cell_type": "code",
   "source": "df['MONDAY'][2]['M2'][1]",
   "id": "4e92833c471c1f91",
   "outputs": [
    {
     "data": {
      "text/plain": [
       "['SEC111 Computer Security', 'DSG201 Interaction Design', 'Bioengineering']"
      ]
     },
     "execution_count": 16,
     "metadata": {},
     "output_type": "execute_result"
    }
   ],
   "execution_count": 16
  },
  {
   "metadata": {
    "ExecuteTime": {
     "end_time": "2025-08-04T13:37:17.512814Z",
     "start_time": "2025-08-04T13:37:17.504469Z"
    }
   },
   "cell_type": "code",
   "source": "df.isnull().sum()",
   "id": "fa51d4ef2207e51d",
   "outputs": [
    {
     "data": {
      "text/plain": [
       "ID                   0\n",
       "FULLNAME             0\n",
       "STUDY_YEAR           0\n",
       "EMAIL                0\n",
       "STATUS               0\n",
       "SCHOOL               0\n",
       "EDUCATION_PROGRAM    0\n",
       "MONDAY               0\n",
       "TUESDAY              0\n",
       "WEDNESDAY            0\n",
       "THURSDAY             0\n",
       "FRIDAY               0\n",
       "dtype: int64"
      ]
     },
     "execution_count": 17,
     "metadata": {},
     "output_type": "execute_result"
    }
   ],
   "execution_count": 17
  },
  {
   "metadata": {
    "ExecuteTime": {
     "end_time": "2025-08-04T13:37:17.873698Z",
     "start_time": "2025-08-04T13:37:17.871787Z"
    }
   },
   "cell_type": "code",
   "source": "a = df.columns",
   "id": "a606300405e42757",
   "outputs": [],
   "execution_count": 18
  },
  {
   "metadata": {
    "ExecuteTime": {
     "end_time": "2025-08-04T13:57:59.171161Z",
     "start_time": "2025-08-04T13:57:59.146283Z"
    }
   },
   "cell_type": "code",
   "source": [
    "for i in a:\n",
    "    print(i, ' - ', type(df[i][0]))"
   ],
   "id": "b1eb0c16ea83db2",
   "outputs": [
    {
     "name": "stdout",
     "output_type": "stream",
     "text": [
      "ID  -  <class 'numpy.int64'>\n",
      "FULLNAME  -  <class 'str'>\n",
      "STUDY_YEAR  -  <class 'numpy.int64'>\n",
      "EMAIL  -  <class 'str'>\n",
      "STATUS  -  <class 'str'>\n",
      "SCHOOL  -  <class 'str'>\n",
      "EDUCATION_PROGRAM  -  <class 'str'>\n",
      "MONDAY  -  <class 'dict'>\n",
      "TUESDAY  -  <class 'dict'>\n",
      "WEDNESDAY  -  <class 'dict'>\n",
      "THURSDAY  -  <class 'dict'>\n",
      "FRIDAY  -  <class 'dict'>\n"
     ]
    }
   ],
   "execution_count": 20
  },
  {
   "metadata": {},
   "cell_type": "code",
   "outputs": [],
   "execution_count": null,
   "source": "",
   "id": "5b033db248fd5e26"
  }
 ],
 "metadata": {
  "kernelspec": {
   "display_name": "Python 3",
   "language": "python",
   "name": "python3"
  },
  "language_info": {
   "codemirror_mode": {
    "name": "ipython",
    "version": 2
   },
   "file_extension": ".py",
   "mimetype": "text/x-python",
   "name": "python",
   "nbconvert_exporter": "python",
   "pygments_lexer": "ipython2",
   "version": "2.7.6"
  }
 },
 "nbformat": 4,
 "nbformat_minor": 5
}
